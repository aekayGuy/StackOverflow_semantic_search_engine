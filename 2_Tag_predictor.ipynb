{
  "nbformat": 4,
  "nbformat_minor": 0,
  "metadata": {
    "colab": {
      "name": "2. Copy of Tag_predictor.ipynb",
      "provenance": [],
      "collapsed_sections": [],
      "mount_file_id": "1YQSljz6irq2zX40u4rgCHWEyD4xlcLRm",
      "authorship_tag": "ABX9TyO0+E52XyOSEEb+7eR37eu+",
      "include_colab_link": true
    },
    "kernelspec": {
      "name": "python3",
      "display_name": "Python 3"
    },
    "accelerator": "GPU",
    "widgets": {
      "application/vnd.jupyter.widget-state+json": {
        "69ceeeba36ae4a1c8155e97ef56932e5": {
          "model_module": "@jupyter-widgets/controls",
          "model_name": "HBoxModel",
          "state": {
            "_view_name": "HBoxView",
            "_dom_classes": [],
            "_model_name": "HBoxModel",
            "_view_module": "@jupyter-widgets/controls",
            "_model_module_version": "1.5.0",
            "_view_count": null,
            "_view_module_version": "1.5.0",
            "box_style": "",
            "layout": "IPY_MODEL_69e480d757c24e8b86f3d5f04bbc924b",
            "_model_module": "@jupyter-widgets/controls",
            "children": [
              "IPY_MODEL_251ba80f55dc4950ab6af603f8231149",
              "IPY_MODEL_643267c9c0414882856438cbc71b74ad"
            ]
          }
        },
        "69e480d757c24e8b86f3d5f04bbc924b": {
          "model_module": "@jupyter-widgets/base",
          "model_name": "LayoutModel",
          "state": {
            "_view_name": "LayoutView",
            "grid_template_rows": null,
            "right": null,
            "justify_content": null,
            "_view_module": "@jupyter-widgets/base",
            "overflow": null,
            "_model_module_version": "1.2.0",
            "_view_count": null,
            "flex_flow": null,
            "width": null,
            "min_width": null,
            "border": null,
            "align_items": null,
            "bottom": null,
            "_model_module": "@jupyter-widgets/base",
            "top": null,
            "grid_column": null,
            "overflow_y": null,
            "overflow_x": null,
            "grid_auto_flow": null,
            "grid_area": null,
            "grid_template_columns": null,
            "flex": null,
            "_model_name": "LayoutModel",
            "justify_items": null,
            "grid_row": null,
            "max_height": null,
            "align_content": null,
            "visibility": null,
            "align_self": null,
            "height": null,
            "min_height": null,
            "padding": null,
            "grid_auto_rows": null,
            "grid_gap": null,
            "max_width": null,
            "order": null,
            "_view_module_version": "1.2.0",
            "grid_template_areas": null,
            "object_position": null,
            "object_fit": null,
            "grid_auto_columns": null,
            "margin": null,
            "display": null,
            "left": null
          }
        },
        "251ba80f55dc4950ab6af603f8231149": {
          "model_module": "@jupyter-widgets/controls",
          "model_name": "FloatProgressModel",
          "state": {
            "_view_name": "ProgressView",
            "style": "IPY_MODEL_1c6ad6f3af2d4f509e5b04205b71c405",
            "_dom_classes": [],
            "description": "100%",
            "_model_name": "FloatProgressModel",
            "bar_style": "success",
            "max": 145666,
            "_view_module": "@jupyter-widgets/controls",
            "_model_module_version": "1.5.0",
            "value": 145666,
            "_view_count": null,
            "_view_module_version": "1.5.0",
            "orientation": "horizontal",
            "min": 0,
            "description_tooltip": null,
            "_model_module": "@jupyter-widgets/controls",
            "layout": "IPY_MODEL_9539444a039540ec87897926cd104705"
          }
        },
        "643267c9c0414882856438cbc71b74ad": {
          "model_module": "@jupyter-widgets/controls",
          "model_name": "HTMLModel",
          "state": {
            "_view_name": "HTMLView",
            "style": "IPY_MODEL_487067cb6d6d4afabaed5c4c6b645dc4",
            "_dom_classes": [],
            "description": "",
            "_model_name": "HTMLModel",
            "placeholder": "​",
            "_view_module": "@jupyter-widgets/controls",
            "_model_module_version": "1.5.0",
            "value": " 145666/145666 [00:04&lt;00:00, 32035.48it/s]",
            "_view_count": null,
            "_view_module_version": "1.5.0",
            "description_tooltip": null,
            "_model_module": "@jupyter-widgets/controls",
            "layout": "IPY_MODEL_6494050832c64a1b9d3df786b430571c"
          }
        },
        "1c6ad6f3af2d4f509e5b04205b71c405": {
          "model_module": "@jupyter-widgets/controls",
          "model_name": "ProgressStyleModel",
          "state": {
            "_view_name": "StyleView",
            "_model_name": "ProgressStyleModel",
            "description_width": "initial",
            "_view_module": "@jupyter-widgets/base",
            "_model_module_version": "1.5.0",
            "_view_count": null,
            "_view_module_version": "1.2.0",
            "bar_color": null,
            "_model_module": "@jupyter-widgets/controls"
          }
        },
        "9539444a039540ec87897926cd104705": {
          "model_module": "@jupyter-widgets/base",
          "model_name": "LayoutModel",
          "state": {
            "_view_name": "LayoutView",
            "grid_template_rows": null,
            "right": null,
            "justify_content": null,
            "_view_module": "@jupyter-widgets/base",
            "overflow": null,
            "_model_module_version": "1.2.0",
            "_view_count": null,
            "flex_flow": null,
            "width": null,
            "min_width": null,
            "border": null,
            "align_items": null,
            "bottom": null,
            "_model_module": "@jupyter-widgets/base",
            "top": null,
            "grid_column": null,
            "overflow_y": null,
            "overflow_x": null,
            "grid_auto_flow": null,
            "grid_area": null,
            "grid_template_columns": null,
            "flex": null,
            "_model_name": "LayoutModel",
            "justify_items": null,
            "grid_row": null,
            "max_height": null,
            "align_content": null,
            "visibility": null,
            "align_self": null,
            "height": null,
            "min_height": null,
            "padding": null,
            "grid_auto_rows": null,
            "grid_gap": null,
            "max_width": null,
            "order": null,
            "_view_module_version": "1.2.0",
            "grid_template_areas": null,
            "object_position": null,
            "object_fit": null,
            "grid_auto_columns": null,
            "margin": null,
            "display": null,
            "left": null
          }
        },
        "487067cb6d6d4afabaed5c4c6b645dc4": {
          "model_module": "@jupyter-widgets/controls",
          "model_name": "DescriptionStyleModel",
          "state": {
            "_view_name": "StyleView",
            "_model_name": "DescriptionStyleModel",
            "description_width": "",
            "_view_module": "@jupyter-widgets/base",
            "_model_module_version": "1.5.0",
            "_view_count": null,
            "_view_module_version": "1.2.0",
            "_model_module": "@jupyter-widgets/controls"
          }
        },
        "6494050832c64a1b9d3df786b430571c": {
          "model_module": "@jupyter-widgets/base",
          "model_name": "LayoutModel",
          "state": {
            "_view_name": "LayoutView",
            "grid_template_rows": null,
            "right": null,
            "justify_content": null,
            "_view_module": "@jupyter-widgets/base",
            "overflow": null,
            "_model_module_version": "1.2.0",
            "_view_count": null,
            "flex_flow": null,
            "width": null,
            "min_width": null,
            "border": null,
            "align_items": null,
            "bottom": null,
            "_model_module": "@jupyter-widgets/base",
            "top": null,
            "grid_column": null,
            "overflow_y": null,
            "overflow_x": null,
            "grid_auto_flow": null,
            "grid_area": null,
            "grid_template_columns": null,
            "flex": null,
            "_model_name": "LayoutModel",
            "justify_items": null,
            "grid_row": null,
            "max_height": null,
            "align_content": null,
            "visibility": null,
            "align_self": null,
            "height": null,
            "min_height": null,
            "padding": null,
            "grid_auto_rows": null,
            "grid_gap": null,
            "max_width": null,
            "order": null,
            "_view_module_version": "1.2.0",
            "grid_template_areas": null,
            "object_position": null,
            "object_fit": null,
            "grid_auto_columns": null,
            "margin": null,
            "display": null,
            "left": null
          }
        }
      }
    }
  },
  "cells": [
    {
      "cell_type": "markdown",
      "metadata": {
        "id": "view-in-github",
        "colab_type": "text"
      },
      "source": [
        "<a href=\"https://colab.research.google.com/github/vispute/StackOverflow_semantic_search_engine/blob/master/2_Tag_predictor.ipynb\" target=\"_parent\"><img src=\"https://colab.research.google.com/assets/colab-badge.svg\" alt=\"Open In Colab\"/></a>"
      ]
    },
    {
      "cell_type": "code",
      "metadata": {
        "colab_type": "code",
        "id": "Ol7B0x3Ghb7Y",
        "colab": {
          "base_uri": "https://localhost:8080/",
          "height": 70
        },
        "outputId": "42422991-cc2d-44e7-9d03-49073bbbb982"
      },
      "source": [
        "import pandas as pd\n",
        "import numpy as np\n",
        "import matplotlib.pyplot as plt\n",
        "import seaborn as sns\n",
        "from tqdm.notebook import tqdm\n",
        "import re\n",
        "import warnings\n",
        "warnings.filterwarnings('ignore')"
      ],
      "execution_count": null,
      "outputs": [
        {
          "output_type": "stream",
          "text": [
            "/usr/local/lib/python3.6/dist-packages/statsmodels/tools/_testing.py:19: FutureWarning: pandas.util.testing is deprecated. Use the functions in the public API at pandas.testing instead.\n",
            "  import pandas.util.testing as tm\n"
          ],
          "name": "stderr"
        }
      ]
    },
    {
      "cell_type": "markdown",
      "metadata": {
        "colab_type": "text",
        "id": "408PdGYPhb7m"
      },
      "source": [
        "# 6. Train_test_split - TimeBased : For tag_predictor model"
      ]
    },
    {
      "cell_type": "code",
      "metadata": {
        "colab_type": "code",
        "id": "FSHTZlFthb7n",
        "colab": {}
      },
      "source": [
        "# 1. Acquiring preprocessed_dataset\n",
        "df = pd.read_csv('/content/drive/My Drive/AAIC Course/Personal case study - StackOverflow/df.csv')"
      ],
      "execution_count": null,
      "outputs": []
    },
    {
      "cell_type": "code",
      "metadata": {
        "id": "S08kl7BQl0Xo",
        "colab_type": "code",
        "colab": {
          "base_uri": "https://localhost:8080/",
          "height": 50
        },
        "outputId": "8e079cad-4730-480e-e336-4a288ea6dba2"
      },
      "source": [
        "# defining a function to remove stop_words\n",
        "import nltk\n",
        "from nltk.corpus import stopwords\n",
        "nltk.download('stopwords')\n",
        "stop_words = set(stopwords.words('english'))\n",
        "stop_words.add('would')\n",
        "stop_words.update([chr(c) for c in range(97, 123)])\n",
        "# stop_words.remove('no'); stop_words.remove('not'); stop_words.remove('nor')\n",
        "\n",
        "def stopwrd_removal(sent):\n",
        "  lst = []\n",
        "  for wrd in sent.split():\n",
        "    if wrd not in stop_words:\n",
        "      lst.append(wrd)\n",
        "  return \" \".join(lst)"
      ],
      "execution_count": null,
      "outputs": [
        {
          "output_type": "stream",
          "text": [
            "[nltk_data] Downloading package stopwords to /root/nltk_data...\n",
            "[nltk_data]   Package stopwords is already up-to-date!\n"
          ],
          "name": "stdout"
        }
      ]
    },
    {
      "cell_type": "code",
      "metadata": {
        "id": "tQLRjbVCloZD",
        "colab_type": "code",
        "colab": {}
      },
      "source": [
        "def text_preprocessor(column):\n",
        "  \"\"\"pass any column with Text in it from tbs_df | Note: returns nothing makes inplace changes in tbs_df\"\"\"\n",
        "  # 1. remove html tags, html urls, replace html comparison operators\n",
        "  text = tbs_df[column].values\n",
        "  tbs_df[column] = [re.sub('<.*?>', '', i) for i in text]\n",
        "  tbs_df[column] = tbs_df[column].str.replace('&lt;', '<')\\\n",
        "                                          .str.replace('&gt;', '>')\\\n",
        "                                          .str.replace('&le;', '<=' )\\\n",
        "                                          .str.replace('&ge;', '>=')\n",
        "\n",
        "  # 2. remove latex i,e., mostly formulas since it's mathematics based dataset\n",
        "  tbs_df[column] = [re.sub('\\$.*?\\$', '', i) for i in text]\n",
        "\n",
        "  # 3. all lowercase \n",
        "  tbs_df[column] = tbs_df[column].str.lower()\n",
        "\n",
        "  # 4. decontractions\n",
        "  tbs_df[column] = tbs_df[column].str.replace(\"won't\", \"will not\").str.replace(\"can\\'t\", \"can not\").str.replace(\"n\\'t\", \" not\").str.replace(\"\\'re\", \" are\").str.\\\n",
        "                                                replace(\"\\'s\", \" is\").str.replace(\"\\'d\", \" would\").str.replace(\"\\'ll\", \" will\").str.\\\n",
        "                                                replace(\"\\'t\", \" not\").str.replace(\"\\'ve\", \" have\").str.replace(\"\\'m\", \" am\")\n",
        "\n",
        "  # 5. remove all special-characters other than alpha-numericals\n",
        "  tbs_df[column] = [re.sub('\\W', ' ', i) for i in text]\n",
        "  # # remove all digits\n",
        "  # tbs_df[column] = [re.sub('\\d', ' ', i) for i in text]\n",
        "\n",
        "  # 6. Stop_word removal\n",
        "  # tbs_df[column] = [stopwrd_removal(i) for i in text]\n",
        "\n",
        "  # 7. remove all white-space i.e., \\n, \\t, and extra_spaces\n",
        "  tbs_df[column] = [re.sub('  +', ' ', i) for i in text]\n",
        "  tbs_df[column] = tbs_df[column].str.replace(\"\\n\", \" \").str.replace(\"\\t\", \" \").str.strip()"
      ],
      "execution_count": null,
      "outputs": []
    },
    {
      "cell_type": "code",
      "metadata": {
        "colab_type": "code",
        "id": "gfh96Fmzhb71",
        "colab": {
          "base_uri": "https://localhost:8080/",
          "height": 33
        },
        "outputId": "666f94c8-550e-4911-e067-0b5a114d5020"
      },
      "source": [
        "# 1. train_test split\n",
        "train_set = 0.80\n",
        "test_set = 1 - train_set\n",
        "\n",
        "tbs_df = df.sort_values(by = ['UNIX_CreationDate'])\n",
        "# text_preprocessor('combined_text')\n",
        "text_data_train = tbs_df['combined_text'].values[:int(df.shape[0]*train_set)]\n",
        "text_data_test = tbs_df['combined_text'].values[-int(df.shape[0]*test_set):]\n",
        "\n",
        "tags = tbs_df['tag_1'].str.cat(tbs_df['tag_2'], sep = ' ').str.cat(tbs_df['tag_3'], sep = ' ').str.cat(tbs_df['tag_4'], sep = ' ').str.cat(tbs_df['tag_5'], sep = ' ').tolist()\n",
        "tags_train = np.array(tags[:int(df.shape[0]*train_set)])\n",
        "tags_test = np.array(tags[-int(df.shape[0]*test_set):])\n",
        "\n",
        "del df\n",
        "text_data_train.shape, text_data_test.shape, tags_train.shape, tags_test.shape"
      ],
      "execution_count": null,
      "outputs": [
        {
          "output_type": "execute_result",
          "data": {
            "text/plain": [
              "((145666,), (36416,), (145666,), (36416,))"
            ]
          },
          "metadata": {
            "tags": []
          },
          "execution_count": 5
        }
      ]
    },
    {
      "cell_type": "code",
      "metadata": {
        "colab_type": "code",
        "id": "s5yTT2F-hb75",
        "colab": {
          "base_uri": "https://localhost:8080/",
          "height": 33
        },
        "outputId": "8fc55b40-cea7-4523-ca65-174a98506336"
      },
      "source": [
        "# 2. make sure all tags in test set are in train set\n",
        "train_set_tags = np.array([i.split(' ') for i in tags_train])\n",
        "test_set_tags = np.array([i.split(' ') for i in tags_test])\n",
        "\n",
        "oob_tags = set(np.unique(test_set_tags)) - set(np.unique(train_set_tags))\n",
        "len(oob_tags)"
      ],
      "execution_count": null,
      "outputs": [
        {
          "output_type": "execute_result",
          "data": {
            "text/plain": [
              "0"
            ]
          },
          "metadata": {
            "tags": []
          },
          "execution_count": 6
        }
      ]
    },
    {
      "cell_type": "code",
      "metadata": {
        "colab_type": "code",
        "id": "xnI6Axv4hb79",
        "colab": {
          "base_uri": "https://localhost:8080/",
          "height": 421
        },
        "outputId": "30c843c7-1991-49c4-f7e1-b22774bccc91"
      },
      "source": [
        "# 3. checking distribution of train_tags compare to test_tags\n",
        "# plot train_tags distribution\n",
        "plt.figure(figsize = (20, 6))\n",
        "plt.subplot(1,2,1)\n",
        "arr = np.array([j for i in train_set_tags for j in i])\n",
        "tags, count = np.unique(arr, return_counts = True)\n",
        "sns.distplot(count[1:])\n",
        "plt.grid()\n",
        "plt.xlabel('train_tags')\n",
        "plt.ylabel('count')\n",
        "plt.title('Distribution of train_tags')\n",
        "\n",
        "# distribution of test_tags \n",
        "plt.subplot(1,2,2)\n",
        "arr = np.array([j for i in test_set_tags for j in i])\n",
        "tags, count = np.unique(arr, return_counts = True)\n",
        "sns.distplot(count[1:])\n",
        "plt.plot()\n",
        "plt.grid()\n",
        "plt.xlabel('test_tags')\n",
        "plt.title('Distribution of test_tags')"
      ],
      "execution_count": null,
      "outputs": [
        {
          "output_type": "execute_result",
          "data": {
            "text/plain": [
              "Text(0.5, 1.0, 'Distribution of test_tags')"
            ]
          },
          "metadata": {
            "tags": []
          },
          "execution_count": 7
        },
        {
          "output_type": "display_data",
          "data": {
            "image/png": "[encoded data removed]",
            "text/plain": [
              "<Figure size 1440x432 with 2 Axes>"
            ]
          },
          "metadata": {
            "tags": [],
            "needs_background": "light"
          }
        }
      ]
    },
    {
      "cell_type": "code",
      "metadata": {
        "colab_type": "code",
        "id": "SiYyjv_yhb8B",
        "colab": {
          "base_uri": "https://localhost:8080/",
          "height": 183
        },
        "outputId": "8a08f1b9-8cbc-42de-948a-f0f6debb95f5"
      },
      "source": [
        "# 4. Top 10 tags from train_set\n",
        "arr = np.array([j for i in train_set_tags for j in i])\n",
        "tags, count = np.unique(arr, return_counts = True)\n",
        "d = dict(zip(tags[1:], count[1:]))\n",
        "sorted(d.items(), key = lambda x: x[1], reverse = True)[:10]"
      ],
      "execution_count": null,
      "outputs": [
        {
          "output_type": "execute_result",
          "data": {
            "text/plain": [
              "[('<hypothesis_testing>', 5838),\n",
              " ('<self_study>', 5744),\n",
              " ('<distributions>', 5666),\n",
              " ('<logistic>', 4716),\n",
              " ('<bayesian>', 4506),\n",
              " ('<correlation>', 4110),\n",
              " ('<deep_learning>', 3922),\n",
              " ('<statistical_significance>', 3763),\n",
              " ('<mathematical_statistics>', 3735),\n",
              " ('<normal_distribution>', 3521)]"
            ]
          },
          "metadata": {
            "tags": []
          },
          "execution_count": 8
        }
      ]
    },
    {
      "cell_type": "code",
      "metadata": {
        "colab_type": "code",
        "id": "i0FK-_JGhb8E",
        "colab": {
          "base_uri": "https://localhost:8080/",
          "height": 183
        },
        "outputId": "aa6a2861-323e-4668-e3fa-360e9ddbce07"
      },
      "source": [
        "# 5. Top 10 tags from test_set\n",
        "arr = np.array([j for i in test_set_tags for j in i])\n",
        "tags, count = np.unique(arr, return_counts = True)\n",
        "d = dict(zip(tags[1:], count[1:]))\n",
        "sorted(d.items(), key = lambda x: x[1], reverse = True)[:10]"
      ],
      "execution_count": null,
      "outputs": [
        {
          "output_type": "execute_result",
          "data": {
            "text/plain": [
              "[('<deep_learning>', 1952),\n",
              " ('<keras>', 1320),\n",
              " ('<hypothesis_testing>', 1151),\n",
              " ('<mathematical_statistics>', 1133),\n",
              " ('<bayesian>', 1114),\n",
              " ('<neural_network>', 1067),\n",
              " ('<distributions>', 1066),\n",
              " ('<reinforcement_learning>', 917),\n",
              " ('<tensorflow>', 897),\n",
              " ('<logistic>', 868)]"
            ]
          },
          "metadata": {
            "tags": []
          },
          "execution_count": 9
        }
      ]
    },
    {
      "cell_type": "markdown",
      "metadata": {
        "colab_type": "text",
        "id": "dMMfmwcyhb8I"
      },
      "source": [
        "## Notes:\n",
        "  1. It's always important to check distribution of labels after splitting dataset into train and test. Otherwise model will fail on generalization accuracy.\n",
        "  2. Here we're doing TimeBased splitting, since I think the nature of questions on the platform is changing over the period of time. Hence it seems best choice to split data.\n",
        "  3. If we were doing random split then there would not be an issue of label stratification(i.e., almost equal dist of labels).\n",
        "\n",
        "## Observations:\n",
        "  1. There are no out_of_bag tags in test_set, i.e., a tag occurs in test_set but not in train_set.\n",
        "  2. Distribution of train_tags and test_set is almost similar, It implies we're good going.\n",
        "  3. Top tags_set of both sets are almost similar."
      ]
    },
    {
      "cell_type": "markdown",
      "metadata": {
        "colab_type": "text",
        "id": "82wtYkWRhb8I"
      },
      "source": [
        "# 7.1 Modelling : Word2Vec embeddings for tag_predictor model\n",
        "  1. Word2Vec need very large corpus to learn exact word embeddings.\n",
        "  2. Hence we need to add combine combined_text and preprocessed comments together.\n",
        "  3. Note: this is only to train w2v model, but we'll be finalizing sentence embedding on 'combined_text' or 'title' only"
      ]
    },
    {
      "cell_type": "code",
      "metadata": {
        "colab_type": "code",
        "id": "tBG_PVa4hb8J",
        "colab": {
          "base_uri": "https://localhost:8080/",
          "height": 50
        },
        "outputId": "19a192a7-11bd-4413-b073-d7fc13108258"
      },
      "source": [
        "# defining a function to remove stop_words\n",
        "import nltk\n",
        "from nltk.corpus import stopwords\n",
        "nltk.download('stopwords')\n",
        "stop_words = set(stopwords.words('english'))\n",
        "stop_words.remove('no'); stop_words.remove('not'); stop_words.remove('nor')\n",
        "\n",
        "def stopwrd_removal(sent):\n",
        "  lst = []\n",
        "  for wrd in sent.split():\n",
        "    if wrd not in stop_words:\n",
        "      lst.append(wrd)\n",
        "  return \" \".join(lst)"
      ],
      "execution_count": null,
      "outputs": [
        {
          "output_type": "stream",
          "text": [
            "[nltk_data] Downloading package stopwords to /root/nltk_data...\n",
            "[nltk_data]   Package stopwords is already up-to-date!\n"
          ],
          "name": "stdout"
        }
      ]
    },
    {
      "cell_type": "code",
      "metadata": {
        "colab_type": "code",
        "id": "6KSP1nOZhb8N",
        "colab": {}
      },
      "source": [
        "def text_preprocessor(column):\n",
        "  \"\"\"pass any column with Text in it from tbs_df | Note: returns nothing makes inplace changes in tbs_df\"\"\"\n",
        "  # 1. remove html tags, html urls, replace html comparison operators\n",
        "  text = tbs_df[column].values\n",
        "  tbs_df[column] = [re.sub('<.*?>', '', i) for i in text]\n",
        "  tbs_df[column] = tbs_df[column].str.replace('&lt;', '<')\\\n",
        "                                          .str.replace('&gt;', '>')\\\n",
        "                                          .str.replace('&le;', '<=' )\\\n",
        "                                          .str.replace('&ge;', '>=')\n",
        "\n",
        "  # 2. remove latex i,e., mostly formulas since it's mathematics based dataset\n",
        "  tbs_df[column] = [re.sub('\\$.*?\\$', '', i) for i in text]\n",
        "\n",
        "  # 3. all lowercase \n",
        "  tbs_df[column] = tbs_df[column].str.lower()\n",
        "\n",
        "  # 4. decontractions\n",
        "  tbs_df[column] = tbs_df[column].str.replace(\"won't\", \"will not\").str.replace(\"can\\'t\", \"can not\").str.replace(\"n\\'t\", \" not\").str.replace(\"\\'re\", \" are\").str.\\\n",
        "                                                replace(\"\\'s\", \" is\").str.replace(\"\\'d\", \" would\").str.replace(\"\\'ll\", \" will\").str.\\\n",
        "                                                replace(\"\\'t\", \" not\").str.replace(\"\\'ve\", \" have\").str.replace(\"\\'m\", \" am\")\n",
        "\n",
        "  # 5. remove all special-characters other than alpha-numericals\n",
        "  tbs_df[column] = [re.sub('\\W', ' ', i) for i in text]\n",
        "\n",
        "  # 6. Stop_word removal\n",
        "  tbs_df[column] = [stopwrd_removal(i) for i in text]\n",
        "\n",
        "  # 7. remove all white-space i.e., \\n, \\t, and extra_spaces\n",
        "  tbs_df[column] = [re.sub('  +', ' ', i) for i in text]\n",
        "  tbs_df[column] = tbs_df[column].str.replace(\"\\n\", \" \").str.replace(\"\\t\", \" \").str.strip()\n",
        "  "
      ],
      "execution_count": null,
      "outputs": []
    },
    {
      "cell_type": "code",
      "metadata": {
        "colab_type": "code",
        "id": "XGZzeUiehb8Q",
        "colab": {}
      },
      "source": [
        "# 1. preprocessing comments text\n",
        "# tbs_df['Comments'].values[:int(tbs_df.shape[0]*train_set)]\n",
        "tbs_df['Comments'] = tbs_df['Comments'].fillna('')\n",
        "tbs_df['Comments_1'] = tbs_df['Comments']\n",
        "text_preprocessor('Comments_1')"
      ],
      "execution_count": null,
      "outputs": []
    },
    {
      "cell_type": "code",
      "metadata": {
        "colab_type": "code",
        "id": "2i7_O2Plhb8U",
        "colab": {
          "base_uri": "https://localhost:8080/",
          "height": 120
        },
        "outputId": "a3a5b450-2a16-4caf-c2ae-f1aad738d564"
      },
      "source": [
        "# 2. combining 'combined_text' and 'preprocessed_comments' together\n",
        "text = tbs_df['combined_text'].values[:int(tbs_df.shape[0]*train_set)]    # only train set\n",
        "comments = tbs_df['Comments_1'].values[:int(tbs_df.shape[0]*train_set)]   # only train set\n",
        "all_text_lst =[]\n",
        "\n",
        "for t, c in zip(text, comments):\n",
        "    all_text_lst.append(' '.join([t,c]))\n",
        "\n",
        "del t, c\n",
        "all_text_lst[:5]"
      ],
      "execution_count": null,
      "outputs": [
        {
          "output_type": "execute_result",
          "data": {
            "text/plain": [
              "['euler cycles in biconnected components if a graph has a euler cycle do the biconnected components have euler cycles as well homework problem perhaps best try graph may euler cycle doesnt seem follow naturally subset even biconnected one tried comming counter example',\n",
              " 'can two neighbors in a graph be at the same depth in a dfs tree in an undirected graph can two nodes at an identical distance n from the root of a dfs tree be neighbors in the original graph i am thinking no but i am not sure because of back edges ',\n",
              " 'unique path in a directed graph i am designing an algorithm for a class that will determine if a directed graph is unique with respect to a vertex such that for any there is at most one path from to i have started by using bfs breadth first search to find the shortest path from v to another vertex u and then running bfs again to see if an alternate path can be found from v to u i think this is too time consuming however does anyone have any hints as to how the solution can be found with a shorter execution time ',\n",
              " 'what do you call an average that does not include outliers what do you call an average that does not include outliers for example if you have a set 90 89 92 91 5 avg 73 4 but excluding the outlier 5 we have 90 89 92 91 5 avg 90 5 how do you describe this average in statistics https sciencing com calculate outliers 5201412 html felt link surely answered question depends assumed outliers defined could trimmed mean winsorized mean form robust estimate location',\n",
              " 'correcting for outliers in a running average we have a daemon that reads in data from some sensors and among the things it calculates besides simply just reporting the state is the average time it takes for the sensors to change from one value to another it keeps a running average of 64 datapoints and assumes that runtime is fairly constant unfortunately as demonstrated by the below graph the input data is not the most pristine each line represents a different set of data the x axis does not really mean anything besides a vague historical time axis my obvious solution for dealing with this would be to create a histogram of the data and then pick the mode however i was wondering if there were other methods that would yield better performance or would be more suited for operation with a running average some quick wikipedia searches suggest algorithms for detecting outliers may be also suitable simplicity is a plus since the daemon is written in c edit i scoped out wikipedia and came up with these various techniques chauvenet is criterion using the mean and standard deviation calculate the probability a particular datapoint would happen and then exclude it if the probability is actually that bad is less than 50 while this seems to be well suited for correcting a running average on the fly i am not quite convinced of its efficacy it seems with large data sets it would not want to discard datapoints grubbs test another method that uses difference from the mean to standard deviation and has some expression for when the hypothesis of no outliers is rejected cook is distance measures the influence a datapoint has on a least squares regression our application would probably reject it if it exceeded 1 truncated mean discard the low end and the high end and then take the mean as normal anyone have any specific experience and can comment on these statistical techniques also some comments about the physical situation we are measuring the average time until completion of a mechanical washing machine so its runtime should be fairly constant i am not sure if it actually has a normal distribution edit 2 another interesting question when the daemon is bootstrapping as in does not have any previous data to analyze how should it deal with incoming data simply not do any outlier pruning edit 3 one more thing if the hardware does change such that the runtimes do become different is it worth it to make the algorithm sufficiently robust such that it will not discard these new runtimes i should i just remember to flush the cache when that happens bootstrapping provide 64 data points seed running average would 64 data points might not good assume priori machine would run x time grubbs test superior methods computationally cheaper determine regression coefficients sort rank data system know calibrated bootstrapping typical techniques seed first values initial value plus minus ten percent second value arrives seeded values first second values interleaved interesting agree probably want avoid sorting data would make implementing truncated mean difficult known event going change distribution essential recalibrate mass spectrometer device becomes accurate adjusts compound analyzed well known method increase accuracy supporting large variety inputs']"
            ]
          },
          "metadata": {
            "tags": []
          },
          "execution_count": 13
        }
      ]
    },
    {
      "cell_type": "code",
      "metadata": {
        "colab_type": "code",
        "id": "lAe35VXNhb8a",
        "colab": {
          "base_uri": "https://localhost:8080/",
          "height": 65,
          "referenced_widgets": [
            "69ceeeba36ae4a1c8155e97ef56932e5",
            "69e480d757c24e8b86f3d5f04bbc924b",
            "251ba80f55dc4950ab6af603f8231149",
            "643267c9c0414882856438cbc71b74ad",
            "1c6ad6f3af2d4f509e5b04205b71c405",
            "9539444a039540ec87897926cd104705",
            "487067cb6d6d4afabaed5c4c6b645dc4",
            "6494050832c64a1b9d3df786b430571c"
          ]
        },
        "outputId": "49a8ee1c-9d06-4f47-c806-edc46c4dea44"
      },
      "source": [
        "# 3. creating tokens for each sentence\n",
        "text_tokens = [i.split() for i in tqdm(all_text_lst)]"
      ],
      "execution_count": null,
      "outputs": [
        {
          "output_type": "display_data",
          "data": {
            "application/vnd.jupyter.widget-view+json": {
              "model_id": "69ceeeba36ae4a1c8155e97ef56932e5",
              "version_minor": 0,
              "version_major": 2
            },
            "text/plain": [
              "HBox(children=(FloatProgress(value=0.0, max=145666.0), HTML(value='')))"
            ]
          },
          "metadata": {
            "tags": []
          }
        },
        {
          "output_type": "stream",
          "text": [
            "\n"
          ],
          "name": "stdout"
        }
      ]
    },
    {
      "cell_type": "code",
      "metadata": {
        "colab_type": "code",
        "id": "R9Du9GwOhb8e",
        "colab": {
          "base_uri": "https://localhost:8080/",
          "height": 33
        },
        "outputId": "38f8dcae-08be-4201-8720-f1b837e347f3"
      },
      "source": [
        "# 4. training w2v model on train set (NOTE: to train w2v model please enable commented code snippet)\n",
        "from gensim.test.utils import common_texts, get_tmpfile\n",
        "from gensim.models import Word2Vec\n",
        "\n",
        "# # since we are working on small corpus; hence we need to use 'skip-grams' instead of 'CBOW'.\n",
        "# w2v_model_sg = Word2Vec(text_tokens, size = 100, window = 5, min_count = 3, sg = True, sorted_vocab = True, workers = 2)\n",
        "# w2v_model_sg.save(\"/content/drive/My Drive/AAIC Course/Personal case study - StackOverflow/word2vec_sg.model\")\n",
        "w2v_model_sg = Word2Vec.load(\"/content/drive/My Drive/AAIC Course/Personal case study - StackOverflow/word2vec_sg.model\")\n",
        "len(w2v_model_sg.wv.vocab)"
      ],
      "execution_count": null,
      "outputs": [
        {
          "output_type": "execute_result",
          "data": {
            "text/plain": [
              "117779"
            ]
          },
          "metadata": {
            "tags": []
          },
          "execution_count": 15
        }
      ]
    },
    {
      "cell_type": "code",
      "metadata": {
        "colab_type": "code",
        "id": "jTmUmlFQhb8i",
        "colab": {
          "base_uri": "https://localhost:8080/",
          "height": 183
        },
        "outputId": "c140f607-c744-4ffe-dad6-eebfb53a9a33"
      },
      "source": [
        "w2v_model_sg.most_similar('sigmoid')"
      ],
      "execution_count": null,
      "outputs": [
        {
          "output_type": "execute_result",
          "data": {
            "text/plain": [
              "[('softmax', 0.8827455043792725),\n",
              " ('tanh', 0.882053792476654),\n",
              " ('relu', 0.8362493515014648),\n",
              " ('activation', 0.815425455570221),\n",
              " ('softplus', 0.8108700513839722),\n",
              " ('activations', 0.7594355344772339),\n",
              " ('rectifier', 0.75226891040802),\n",
              " ('layer', 0.7482326030731201),\n",
              " ('layer_1', 0.7303577661514282),\n",
              " ('relus', 0.7293393611907959)]"
            ]
          },
          "metadata": {
            "tags": []
          },
          "execution_count": 16
        }
      ]
    },
    {
      "cell_type": "markdown",
      "metadata": {
        "id": "FMG_aAILqvFk",
        "colab_type": "text"
      },
      "source": [
        "**Note : For tag predictor model, we do not remove stop words but for w2v embeddings we have removed stop words for better results**"
      ]
    },
    {
      "cell_type": "markdown",
      "metadata": {
        "colab_type": "text",
        "id": "crEw-5pzhb8l"
      },
      "source": [
        "# 7.2. Modelling : converting i/o to machine readable inputs and outputs\n",
        "  - Encoder-Decoder tag-predictor model based on 'combined_text'"
      ]
    },
    {
      "cell_type": "code",
      "metadata": {
        "colab_type": "code",
        "id": "IktZFIQ3hb8m",
        "colab": {}
      },
      "source": [
        "import tensorflow as tf\n",
        "tf.compat.v1.enable_eager_execution()\n",
        "from tensorflow.keras.layers import Input, Softmax, GRU, LSTM, RNN, Embedding, Dense, RepeatVector, TimeDistributed, Bidirectional\n",
        "from tensorflow.keras.models import Model"
      ],
      "execution_count": null,
      "outputs": []
    },
    {
      "cell_type": "code",
      "metadata": {
        "colab_type": "code",
        "id": "nWtw4Mmuhb8p",
        "colab": {
          "base_uri": "https://localhost:8080/",
          "height": 33
        },
        "outputId": "47b47545-8223-43d7-dd15-4c4d51f59a75"
      },
      "source": [
        "# 1. creating target tags to train encoder_decoder architecture with LSTM\n",
        "tar_data_train = np.array([i for i in tags_train])\n",
        "tar_data_test = np.array([i for i in tags_test])\n",
        "\n",
        "text_data_train.shape, tar_data_train.shape, text_data_test.shape, tar_data_test.shape"
      ],
      "execution_count": null,
      "outputs": [
        {
          "output_type": "execute_result",
          "data": {
            "text/plain": [
              "((145666,), (145666,), (36416,), (36416,))"
            ]
          },
          "metadata": {
            "tags": []
          },
          "execution_count": 18
        }
      ]
    },
    {
      "cell_type": "code",
      "metadata": {
        "colab_type": "code",
        "id": "4SQFM-r-hb8t",
        "colab": {}
      },
      "source": [
        "# 2. tokenizing\n",
        "from tensorflow.keras.preprocessing.text import Tokenizer\n",
        "max_words = 20000\n",
        "token_text = Tokenizer(num_words = max_words, filters = '')\n",
        "token_tar = Tokenizer(num_words = None, filters='!\"#$%&()*+,-./:;<=>?@[\\\\]^`{|}~\\t\\n')    # remove '_' from filters\n",
        "\n",
        "token_text.fit_on_texts(text_data_train)\n",
        "text_seq_train = token_text.texts_to_sequences(text_data_train)\n",
        "text_seq_test = token_text.texts_to_sequences(text_data_test)\n",
        "# 3. bulding vocab\n",
        "text_vocab = token_text.word_index\n",
        "\n",
        "token_tar.fit_on_texts(tar_data_train)\n",
        "tar_seq_train = token_tar.texts_to_sequences(tar_data_train)\n",
        "tar_seq_test = token_tar.texts_to_sequences(tar_data_test)\n",
        "# 3. bulding vocab\n",
        "tar_vocab = token_tar.word_index"
      ],
      "execution_count": null,
      "outputs": []
    },
    {
      "cell_type": "code",
      "metadata": {
        "colab_type": "code",
        "id": "fqBdGOirhb8x",
        "colab": {}
      },
      "source": [
        "# saving the tokenizers to use it at 'final_pipeline'\n",
        "import pickle\n",
        "with open('/content/drive/My Drive/AAIC Course/Personal case study - StackOverflow/tag_predictor_tokenizer.pickle', 'wb') as handle:\n",
        "    pickle.dump(token_text, handle, protocol=pickle.HIGHEST_PROTOCOL)\n",
        "\n",
        "with open('/content/drive/My Drive/AAIC Course/Personal case study - StackOverflow/tag_predictor_token_tar.pickle', 'wb') as handle:\n",
        "    pickle.dump(token_tar, handle, protocol=pickle.HIGHEST_PROTOCOL)"
      ],
      "execution_count": null,
      "outputs": []
    },
    {
      "cell_type": "code",
      "metadata": {
        "colab_type": "code",
        "id": "ebj6vbRvhb81",
        "colab": {
          "base_uri": "https://localhost:8080/",
          "height": 50
        },
        "outputId": "bd432a9f-d4bb-4e03-ec10-4782e1cf3d62"
      },
      "source": [
        "# 3. building vocab\n",
        "print('Total no.of words in TEXT vocab =', len(text_vocab))\n",
        "print('Total no.of words in TARGET vocab =', len(tar_vocab))"
      ],
      "execution_count": null,
      "outputs": [
        {
          "output_type": "stream",
          "text": [
            "Total no.of words in TEXT vocab = 378788\n",
            "Total no.of words in TARGET vocab = 242\n"
          ],
          "name": "stdout"
        }
      ]
    },
    {
      "cell_type": "code",
      "metadata": {
        "colab_type": "code",
        "id": "RrKnP5lkhb86",
        "colab": {
          "base_uri": "https://localhost:8080/",
          "height": 50
        },
        "outputId": "9cf97139-6eec-47cf-9624-a2b8f5585d26"
      },
      "source": [
        "# 4.1. padding : max lengths\n",
        "from tensorflow.keras.preprocessing.sequence import pad_sequences\n",
        "text_max_len = max([len(i) for  i in text_seq_train])\n",
        "tar_max_len = max([len(i) for  i in tar_seq_train])\n",
        "print('MAX seq_len in text sentences = {}\\nMAX seq_len in TARGET sequences = {}'.format(text_max_len, tar_max_len))"
      ],
      "execution_count": null,
      "outputs": [
        {
          "output_type": "stream",
          "text": [
            "MAX seq_len in text sentences = 8935\n",
            "MAX seq_len in TARGET sequences = 5\n"
          ],
          "name": "stdout"
        }
      ]
    },
    {
      "cell_type": "code",
      "metadata": {
        "colab_type": "code",
        "id": "sNN-9FGvhb89",
        "colab": {
          "base_uri": "https://localhost:8080/",
          "height": 350
        },
        "outputId": "2fd1a31b-b955-456d-87c9-ca924c160f92"
      },
      "source": [
        "# 4.2. padding : setting up sequence max_len threshold using percentile method (for padding the seq)\n",
        "len_lst = [len(i) for  i in text_seq_train]\n",
        "for i in np.arange(80, 100, 1):\n",
        "  print('percentile = {} | seq_len = {} | no.of datapts NOT covered = {}'.format(round(i, 2), round(np.percentile(len_lst, i)), round(len(len_lst) - (i*len(len_lst)*0.01))))"
      ],
      "execution_count": null,
      "outputs": [
        {
          "output_type": "stream",
          "text": [
            "percentile = 80 | seq_len = 233.0 | no.of datapts NOT covered = 29133.0\n",
            "percentile = 81 | seq_len = 239.0 | no.of datapts NOT covered = 27677.0\n",
            "percentile = 82 | seq_len = 245.0 | no.of datapts NOT covered = 26220.0\n",
            "percentile = 83 | seq_len = 252.0 | no.of datapts NOT covered = 24763.0\n",
            "percentile = 84 | seq_len = 259.0 | no.of datapts NOT covered = 23307.0\n",
            "percentile = 85 | seq_len = 267.0 | no.of datapts NOT covered = 21850.0\n",
            "percentile = 86 | seq_len = 276.0 | no.of datapts NOT covered = 20393.0\n",
            "percentile = 87 | seq_len = 285.0 | no.of datapts NOT covered = 18937.0\n",
            "percentile = 88 | seq_len = 295.0 | no.of datapts NOT covered = 17480.0\n",
            "percentile = 89 | seq_len = 306.0 | no.of datapts NOT covered = 16023.0\n",
            "percentile = 90 | seq_len = 318.0 | no.of datapts NOT covered = 14567.0\n",
            "percentile = 91 | seq_len = 332.0 | no.of datapts NOT covered = 13110.0\n",
            "percentile = 92 | seq_len = 349.0 | no.of datapts NOT covered = 11653.0\n",
            "percentile = 93 | seq_len = 366.0 | no.of datapts NOT covered = 10197.0\n",
            "percentile = 94 | seq_len = 388.0 | no.of datapts NOT covered = 8740.0\n",
            "percentile = 95 | seq_len = 416.0 | no.of datapts NOT covered = 7283.0\n",
            "percentile = 96 | seq_len = 451.0 | no.of datapts NOT covered = 5827.0\n",
            "percentile = 97 | seq_len = 501.0 | no.of datapts NOT covered = 4370.0\n",
            "percentile = 98 | seq_len = 574.0 | no.of datapts NOT covered = 2913.0\n",
            "percentile = 99 | seq_len = 724.0 | no.of datapts NOT covered = 1457.0\n"
          ],
          "name": "stdout"
        }
      ]
    },
    {
      "cell_type": "code",
      "metadata": {
        "colab_type": "code",
        "id": "fU3g-H2jhb9C",
        "colab": {
          "base_uri": "https://localhost:8080/",
          "height": 361
        },
        "outputId": "93f5cf0c-554e-4f73-9f04-4893bec78bc0"
      },
      "source": [
        "# 4.3. padding : setting up sequence max_len threshold using elbow_method\n",
        "lst = []\n",
        "lst_i = []\n",
        "for i in np.arange(60, 100, 1):\n",
        "  lst_i.append(round(i, 2))\n",
        "  lst.append(round(np.percentile(len_lst, i)))\n",
        "plt.figure(figsize= (12, 5.5))\n",
        "plt.plot(lst)\n",
        "plt.grid()\n",
        "plt.xlabel('percentiles')\n",
        "plt.ylabel('train sequence length')\n",
        "plt.xticks(ticks = range(0, 40), labels = lst_i)\n",
        "plt.show()"
      ],
      "execution_count": null,
      "outputs": [
        {
          "output_type": "display_data",
          "data": {
            "image/png": "[encoded data removed]",
            "text/plain": [
              "<Figure size 864x396 with 1 Axes>"
            ]
          },
          "metadata": {
            "tags": [],
            "needs_background": "light"
          }
        }
      ]
    },
    {
      "cell_type": "code",
      "metadata": {
        "colab_type": "code",
        "id": "K47snzHlhb9I",
        "colab": {
          "base_uri": "https://localhost:8080/",
          "height": 33
        },
        "outputId": "c822060e-a66e-41f4-cd33-cac57ceb3aee"
      },
      "source": [
        "# 4.4. padding : padding the train and test sequence\n",
        "from tensorflow.keras.preprocessing.sequence import pad_sequences\n",
        "text_seq_train = pad_sequences(text_seq_train, maxlen = 250, padding = 'post')\n",
        "tar_seq_train = pad_sequences(tar_seq_train, maxlen = tar_max_len, padding = 'post')\n",
        "\n",
        "text_seq_test = pad_sequences(text_seq_test, maxlen = 250, padding = 'post')\n",
        "tar_seq_test = pad_sequences(tar_seq_test, maxlen = tar_max_len, padding = 'post')\n",
        "\n",
        "text_seq_train.shape, tar_seq_train.shape, text_seq_test.shape, tar_seq_test.shape"
      ],
      "execution_count": null,
      "outputs": [
        {
          "output_type": "execute_result",
          "data": {
            "text/plain": [
              "((145666, 250), (145666, 5), (36416, 250), (36416, 5))"
            ]
          },
          "metadata": {
            "tags": []
          },
          "execution_count": 26
        }
      ]
    },
    {
      "cell_type": "code",
      "metadata": {
        "id": "BFri8VSglM4l",
        "colab_type": "code",
        "colab": {}
      },
      "source": [
        "# 4.5. padding : replacing zero padding with previous tag\n",
        "for i in range(tar_seq_train.shape[1]):\n",
        "  if i != 0:\n",
        "    zero_idx = np.where(tar_seq_train[:, i] == 0)\n",
        "    tar_seq_train[zero_idx, i] = tar_seq_train[zero_idx, i-1]\n",
        "\n",
        "for i in range(tar_seq_test.shape[1]):\n",
        "  if i != 0:\n",
        "    zero_idx = np.where(tar_seq_test[:, i] == 0)\n",
        "    tar_seq_test[zero_idx, i] = tar_seq_test[zero_idx, i-1]"
      ],
      "execution_count": null,
      "outputs": []
    },
    {
      "cell_type": "markdown",
      "metadata": {
        "id": "FfAd-Ut3t4pE",
        "colab_type": "text"
      },
      "source": [
        "# NOTE:\n",
        "  1. In a search engine nobody is going to place a query consisting with 300, 400, 500 words but to cover almost all kind of data I chose to go with 250 words.\n",
        "  2. For tags feature, I experimented with lots of schemes like \n",
        "    i. output layer = sigmoid units and loss = 'binary_crossentropy'. In this scheme problem is - each datapoint has varying no.of tags.\n",
        "    ii. zero padding with tags label: zeros starts dominating model like crazy. since 3rd, 4th, 5th column will have lots of zeros than any other single tag.\n",
        "  3. Hence I decided to go with copying previous column tag, so that no single tag should dominate. This method worked in this scenerio"
      ]
    },
    {
      "cell_type": "code",
      "metadata": {
        "id": "LLf3h8g4OqGs",
        "colab_type": "code",
        "colab": {
          "base_uri": "https://localhost:8080/",
          "height": 33
        },
        "outputId": "cb628a1c-1146-4e1d-a662-aac8bb2341ff"
      },
      "source": [
        "# 5. balancing the dataset\n",
        "from sklearn.utils.class_weight import compute_sample_weight\n",
        "columns = 5\n",
        "sample_wt_mat = np.zeros((len(tar_seq_train), columns))\n",
        "for col in range(columns):\n",
        "  y = tar_seq_train[:, col]\n",
        "  sample_wt = compute_sample_weight(class_weight= 'balanced', y = y)\n",
        "  sample_wt_mat[:, col] = sample_wt\n",
        "sample_wt_mat.shape"
      ],
      "execution_count": null,
      "outputs": [
        {
          "output_type": "execute_result",
          "data": {
            "text/plain": [
              "(145666, 5)"
            ]
          },
          "metadata": {
            "tags": []
          },
          "execution_count": 28
        }
      ]
    },
    {
      "cell_type": "code",
      "metadata": {
        "colab_type": "code",
        "id": "5Vz33JUMhb9a",
        "colab": {
          "base_uri": "https://localhost:8080/",
          "height": 33
        },
        "outputId": "6e95e9f3-e9c3-480a-adfd-3bfc5e645d4e"
      },
      "source": [
        "# 6. converting target sequence to categorical form\n",
        "from tensorflow.keras.utils import to_categorical\n",
        "target_seq_train = to_categorical(tar_seq_train)\n",
        "target_seq_test = to_categorical(tar_seq_test)\n",
        "\n",
        "target_seq_train.shape, target_seq_test.shape"
      ],
      "execution_count": null,
      "outputs": [
        {
          "output_type": "execute_result",
          "data": {
            "text/plain": [
              "((145666, 5, 243), (36416, 5, 243))"
            ]
          },
          "metadata": {
            "tags": []
          },
          "execution_count": 29
        }
      ]
    },
    {
      "cell_type": "code",
      "metadata": {
        "colab_type": "code",
        "id": "EimqC_ahhb9f",
        "colab": {
          "base_uri": "https://localhost:8080/",
          "height": 33
        },
        "outputId": "3252164b-4fd5-47b8-ad49-b52a1d028939"
      },
      "source": [
        "# 7. Embedding Matrix with Word2Vec representations\n",
        "embedding_matrix = np.random.normal(loc = 0, scale = 0.15, size = (max_words+1, 100))\n",
        "w2v_vocab = set(w2v_model_sg.wv.vocab)\n",
        "for word, i in text_vocab.items():\n",
        "    if i <= max_words and word in w2v_vocab:\n",
        "      vector = w2v_model_sg[word]\n",
        "    # if vector is not None:\n",
        "      embedding_matrix[i] = vector\n",
        "embedding_matrix.shape"
      ],
      "execution_count": null,
      "outputs": [
        {
          "output_type": "execute_result",
          "data": {
            "text/plain": [
              "(20001, 100)"
            ]
          },
          "metadata": {
            "tags": []
          },
          "execution_count": 30
        }
      ]
    },
    {
      "cell_type": "markdown",
      "metadata": {
        "id": "5T1MK3w0Rybo",
        "colab_type": "text"
      },
      "source": [
        "# 7.3. Modelling :  Constructing a model"
      ]
    },
    {
      "cell_type": "code",
      "metadata": {
        "colab_type": "code",
        "id": "FbVHqKdGhb9k",
        "colab": {}
      },
      "source": [
        "# 8. Creating freezed 'Embedding layer'\n",
        "text_embedding_layer = Embedding(input_dim = max_words+1, output_dim= 100,  weights = [embedding_matrix],\n",
        "                               mask_zero = True, trainable = False, name = 'text_embed')"
      ],
      "execution_count": null,
      "outputs": []
    },
    {
      "cell_type": "code",
      "metadata": {
        "colab_type": "code",
        "id": "WAL8wDd7hb9p",
        "colab": {
          "base_uri": "https://localhost:8080/",
          "height": 350
        },
        "outputId": "d2217f7d-7f5a-48c2-db82-dab0cae35008"
      },
      "source": [
        "# 9. Constructing a model\n",
        "tf.keras.backend.clear_session()\n",
        "\n",
        "enc_inputs = Input(name = 'text_seq', shape = (250,))\n",
        "enc_embed = text_embedding_layer(enc_inputs)\n",
        "encoder = Bidirectional(GRU(name = 'ENCODER', units = 128, dropout = 0.2))\n",
        "\n",
        "enc_out = encoder(enc_embed)\n",
        "\n",
        "dec_lstm = GRU(name = 'DECODER', units = 256, dropout = 0.2, return_sequences= True, return_state= True)\n",
        "\n",
        "repeat = RepeatVector(5)(enc_out)\n",
        "dec_out, dec_hidden = dec_lstm(repeat)\n",
        "\n",
        "dec_dense = Dense(units = len(tar_vocab)+1, activation = 'softmax')\n",
        "out = dec_dense(dec_out)\n",
        "\n",
        "model = Model(inputs = enc_inputs, outputs = out)\n",
        "model.summary()"
      ],
      "execution_count": null,
      "outputs": [
        {
          "output_type": "stream",
          "text": [
            "Model: \"model\"\n",
            "_________________________________________________________________\n",
            "Layer (type)                 Output Shape              Param #   \n",
            "=================================================================\n",
            "text_seq (InputLayer)        [(None, 250)]             0         \n",
            "_________________________________________________________________\n",
            "text_embed (Embedding)       (None, 250, 100)          2000100   \n",
            "_________________________________________________________________\n",
            "bidirectional (Bidirectional (None, 256)               176640    \n",
            "_________________________________________________________________\n",
            "repeat_vector (RepeatVector) (None, 5, 256)            0         \n",
            "_________________________________________________________________\n",
            "DECODER (GRU)                [(None, 5, 256), (None, 2 394752    \n",
            "_________________________________________________________________\n",
            "dense (Dense)                (None, 5, 243)            62451     \n",
            "=================================================================\n",
            "Total params: 2,633,943\n",
            "Trainable params: 633,843\n",
            "Non-trainable params: 2,000,100\n",
            "_________________________________________________________________\n"
          ],
          "name": "stdout"
        }
      ]
    },
    {
      "cell_type": "code",
      "metadata": {
        "id": "DbWHxEHEpC2J",
        "colab_type": "code",
        "colab": {
          "base_uri": "https://localhost:8080/",
          "height": 66
        },
        "outputId": "cebb545b-ffa2-44ce-b89d-e69ba64cce7b"
      },
      "source": [
        "# Defining callbacks\n",
        "# !rm -r '/content/saved models'\n",
        "!mkdir '/content/saved models'\n",
        "!mkdir '/content/logs/'\n",
        "\n",
        "# tensorboard callback\n",
        "import datetime\n",
        "log_dir=\"logs/\" + datetime.datetime.now().strftime(\"%Y-%m-%d %H_%M_%S\")\n",
        "tensorboard_callback = tf.keras.callbacks.TensorBoard(log_dir = log_dir, histogram_freq=1, write_graph=True, write_grads=True)\n",
        "\n",
        "# Custom test_data evaluator\n",
        "class custom_val_loss(tf.keras.callbacks.Callback):\n",
        "    def __init__(self, validation_data):\n",
        "        super(tf.keras.callbacks.Callback, self).__init__()\n",
        "        self.x, self.y = validation_data\n",
        "    \n",
        "    def on_train_begin(self, logs={}):\n",
        "        self.loss_history = {'val_loss' :[], 'val_auc' : [], 'val_pr': [], 'val_re' : [], 'val_f1' : []}\n",
        "        \n",
        "    def on_epoch_end(self, epoch, logs={}):\n",
        "        self.epoch = epoch\n",
        "        # 1. Test_set evaluation\n",
        "        print('\\nTest :')\n",
        "        val_loss, val_auc, val_pr, val_re = self.model.evaluate(x = self.x, y = self.y, batch_size = 256)\n",
        "        val_loss, val_auc, val_pr, val_re = round(val_loss,5), round(val_auc,5), round(val_pr,5), round(val_re,5)\n",
        "        val_f1 = round(2*((val_pr * val_re)/(val_pr + val_re)), 5)\n",
        "\n",
        "        self.loss_history['val_loss'].append(val_loss)\n",
        "        self.loss_history['val_auc'].append(val_auc)\n",
        "        self.loss_history['val_pr'].append(val_pr)\n",
        "        self.loss_history['val_re'].append(val_re)\n",
        "        self.loss_history['val_f1'].append(val_f1)\n",
        "        prev_epoch_lr  = tf.keras.backend.eval(self.model.optimizer.lr)\n",
        "        print(\"validation_f1 : {} | Learning_Rate : {}\".format(val_f1, round(prev_epoch_lr, 6)))\n",
        "\n",
        "        # 2. Scheduling learning-rate if validation loss is not improving\n",
        "        prev_epoch_lr  = tf.keras.backend.eval(self.model.optimizer.lr)\n",
        "\n",
        "        if len(self.loss_history['val_loss']) > 3:\n",
        "          if self.loss_history['val_loss'][-1] > self.loss_history['val_loss'][-2]:\n",
        "            self.model.optimizer.lr = np.sqrt(0.1) * prev_epoch_lr\n",
        "            print(' Learning_rate_dropped :', round(tf.keras.backend.eval(self.model.optimizer.lr), 6))\n",
        "\n",
        "        # 3. Saving model on val_loss improvement\n",
        "        if len(self.loss_history['val_loss']) > 1:\n",
        "          if self.loss_history['val_loss'][-1] < self.loss_history['val_loss'][-2]:\n",
        "            path = '/content/saved models/weights--{:03d}--{:.4f}.hdf5'.format(self.epoch, val_loss)\n",
        "            self.model.save(path)\n",
        "            print('model saved to :', path)\n",
        "\n",
        "custom_evaluator = custom_val_loss(validation_data = [text_seq_test, target_seq_test])"
      ],
      "execution_count": null,
      "outputs": [
        {
          "output_type": "stream",
          "text": [
            "mkdir: cannot create directory ‘/content/saved models’: File exists\n",
            "mkdir: cannot create directory ‘/content/logs/’: File exists\n",
            "WARNING:tensorflow:`write_grads` will be ignored in TensorFlow 2.0 for the `TensorBoard` Callback.\n"
          ],
          "name": "stdout"
        }
      ]
    },
    {
      "cell_type": "code",
      "metadata": {
        "id": "7aQJCLCbIonC",
        "colab_type": "code",
        "colab": {
          "base_uri": "https://localhost:8080/",
          "height": 1000
        },
        "outputId": "2eb86d15-d1c8-4156-8f2d-a32ea27878f6"
      },
      "source": [
        "# GRU : training a model\n",
        "from tensorflow.keras.optimizers import Adam, RMSprop\n",
        "tf.keras.backend.clear_session()\n",
        "opt = Adam(learning_rate = 0.001)\n",
        "model.compile(loss = 'categorical_crossentropy', optimizer = opt,  metrics = ['AUC', 'Precision', 'Recall'], sample_weight_mode = 'temporal')\n",
        "history = model.fit(text_seq_train, target_seq_train, batch_size = 128, epochs = 20, callbacks=[custom_evaluator, tensorboard_callback], sample_weight = sample_wt_mat)"
      ],
      "execution_count": null,
      "outputs": [
        {
          "output_type": "stream",
          "text": [
            "Epoch 1/20\n",
            "WARNING:tensorflow:From /usr/local/lib/python3.6/dist-packages/tensorflow/python/ops/resource_variable_ops.py:1817: calling BaseResourceVariable.__init__ (from tensorflow.python.ops.resource_variable_ops) with constraint is deprecated and will be removed in a future version.\n",
            "Instructions for updating:\n",
            "If using Keras pass *_constraint arguments to layers.\n",
            "1138/1139 [============================>.] - ETA: 0s - loss: 3.5792 - auc: 0.8688 - precision: 0.5890 - recall: 0.0277\n",
            "Test :\n",
            "143/143 [==============================] - 17s 117ms/step - loss: 3.0115 - auc: 0.9181 - precision: 0.6036 - recall: 0.0789\n",
            "validation_f1 : 0.13959 | Learning_Rate : 0.0010000000474974513\n",
            "1139/1139 [==============================] - 191s 168ms/step - loss: 3.5792 - auc: 0.8688 - precision: 0.5890 - recall: 0.0277\n",
            "Epoch 2/20\n",
            "1139/1139 [==============================] - ETA: 0s - loss: 2.7299 - auc: 0.9215 - precision: 0.5826 - recall: 0.1083\n",
            "Test :\n",
            "143/143 [==============================] - 17s 116ms/step - loss: 2.7712 - auc: 0.9259 - precision: 0.5769 - recall: 0.1417\n",
            "validation_f1 : 0.22747 | Learning_Rate : 0.0010000000474974513\n",
            "model saved to : /content/saved models7/weights--001--2.7712.hdf5\n",
            "1139/1139 [==============================] - 188s 165ms/step - loss: 2.7299 - auc: 0.9215 - precision: 0.5826 - recall: 0.1083\n",
            "Epoch 3/20\n",
            "1138/1139 [============================>.] - ETA: 0s - loss: 2.5235 - auc: 0.9303 - precision: 0.5820 - recall: 0.1467\n",
            "Test :\n",
            "143/143 [==============================] - 17s 116ms/step - loss: 2.6821 - auc: 0.9282 - precision: 0.5598 - recall: 0.1702\n",
            "validation_f1 : 0.26106 | Learning_Rate : 0.0010000000474974513\n",
            "model saved to : /content/saved models7/weights--002--2.6822.hdf5\n",
            "1139/1139 [==============================] - 188s 165ms/step - loss: 2.5235 - auc: 0.9303 - precision: 0.5820 - recall: 0.1467\n",
            "Epoch 4/20\n",
            "1138/1139 [============================>.] - ETA: 0s - loss: 2.4033 - auc: 0.9347 - precision: 0.5809 - recall: 0.1699\n",
            "Test :\n",
            "143/143 [==============================] - 17s 116ms/step - loss: 2.6020 - auc: 0.9313 - precision: 0.5604 - recall: 0.1878\n",
            "validation_f1 : 0.28127 | Learning_Rate : 0.0010000000474974513\n",
            "model saved to : /content/saved models7/weights--003--2.6020.hdf5\n",
            "1139/1139 [==============================] - 188s 165ms/step - loss: 2.4033 - auc: 0.9347 - precision: 0.5809 - recall: 0.1699\n",
            "Epoch 5/20\n",
            "1139/1139 [==============================] - ETA: 0s - loss: 2.3170 - auc: 0.9383 - precision: 0.5846 - recall: 0.1872\n",
            "Test :\n",
            "143/143 [==============================] - 17s 117ms/step - loss: 2.5541 - auc: 0.9339 - precision: 0.5770 - recall: 0.1909\n",
            "validation_f1 : 0.28694 | Learning_Rate : 0.0010000000474974513\n",
            "model saved to : /content/saved models7/weights--004--2.5541.hdf5\n",
            "1139/1139 [==============================] - 189s 166ms/step - loss: 2.3170 - auc: 0.9383 - precision: 0.5846 - recall: 0.1872\n",
            "Epoch 6/20\n",
            "1139/1139 [==============================] - ETA: 0s - loss: 2.2465 - auc: 0.9410 - precision: 0.5890 - recall: 0.2002\n",
            "Test :\n",
            "143/143 [==============================] - 17s 117ms/step - loss: 2.5331 - auc: 0.9338 - precision: 0.5619 - recall: 0.2038\n",
            "validation_f1 : 0.29907 | Learning_Rate : 0.0010000000474974513\n",
            "model saved to : /content/saved models7/weights--005--2.5331.hdf5\n",
            "1139/1139 [==============================] - 188s 165ms/step - loss: 2.2465 - auc: 0.9410 - precision: 0.5890 - recall: 0.2002\n",
            "Epoch 7/20\n",
            "1138/1139 [============================>.] - ETA: 0s - loss: 2.1874 - auc: 0.9432 - precision: 0.5916 - recall: 0.2115\n",
            "Test :\n",
            "143/143 [==============================] - 17s 117ms/step - loss: 2.5224 - auc: 0.9334 - precision: 0.5540 - recall: 0.2107\n",
            "validation_f1 : 0.30526 | Learning_Rate : 0.0010000000474974513\n",
            "model saved to : /content/saved models7/weights--006--2.5224.hdf5\n",
            "1139/1139 [==============================] - 187s 164ms/step - loss: 2.1874 - auc: 0.9432 - precision: 0.5916 - recall: 0.2115\n",
            "Epoch 8/20\n",
            "1139/1139 [==============================] - ETA: 0s - loss: 2.1366 - auc: 0.9451 - precision: 0.5936 - recall: 0.2210\n",
            "Test :\n",
            "143/143 [==============================] - 17s 116ms/step - loss: 2.5014 - auc: 0.9334 - precision: 0.5592 - recall: 0.2222\n",
            "validation_f1 : 0.31806 | Learning_Rate : 0.0010000000474974513\n",
            "model saved to : /content/saved models7/weights--007--2.5014.hdf5\n",
            "1139/1139 [==============================] - 187s 165ms/step - loss: 2.1366 - auc: 0.9451 - precision: 0.5936 - recall: 0.2210\n",
            "Epoch 9/20\n",
            "1139/1139 [==============================] - ETA: 0s - loss: 2.0923 - auc: 0.9469 - precision: 0.5980 - recall: 0.2294\n",
            "Test :\n",
            "143/143 [==============================] - 17s 117ms/step - loss: 2.4949 - auc: 0.9339 - precision: 0.5539 - recall: 0.2187\n",
            "validation_f1 : 0.31354 | Learning_Rate : 0.0010000000474974513\n",
            "model saved to : /content/saved models7/weights--008--2.4949.hdf5\n",
            "1139/1139 [==============================] - 188s 165ms/step - loss: 2.0923 - auc: 0.9469 - precision: 0.5980 - recall: 0.2294\n",
            "Epoch 10/20\n",
            "1139/1139 [==============================] - ETA: 0s - loss: 2.0559 - auc: 0.9478 - precision: 0.6002 - recall: 0.2371\n",
            "Test :\n",
            "143/143 [==============================] - 17s 117ms/step - loss: 2.4853 - auc: 0.9332 - precision: 0.5495 - recall: 0.2327\n",
            "validation_f1 : 0.3269 | Learning_Rate : 0.0010000000474974513\n",
            "model saved to : /content/saved models7/weights--009--2.4853.hdf5\n",
            "1139/1139 [==============================] - 188s 165ms/step - loss: 2.0559 - auc: 0.9478 - precision: 0.6002 - recall: 0.2371\n",
            "Epoch 11/20\n",
            "1139/1139 [==============================] - ETA: 0s - loss: 2.0112 - auc: 0.9495 - precision: 0.6045 - recall: 0.2446\n",
            "Test :\n",
            "143/143 [==============================] - 17s 117ms/step - loss: 2.4987 - auc: 0.9325 - precision: 0.5436 - recall: 0.2328\n",
            "validation_f1 : 0.32597 | Learning_Rate : 0.0010000000474974513\n",
            " Learning_rate_dropped : 0.000316\n",
            "1139/1139 [==============================] - 188s 165ms/step - loss: 2.0112 - auc: 0.9495 - precision: 0.6045 - recall: 0.2446\n",
            "Epoch 12/20\n",
            "1139/1139 [==============================] - ETA: 0s - loss: 1.8974 - auc: 0.9538 - precision: 0.6290 - recall: 0.2626\n",
            "Test :\n",
            "143/143 [==============================] - 17s 116ms/step - loss: 2.4601 - auc: 0.9332 - precision: 0.5519 - recall: 0.2423\n",
            "validation_f1 : 0.33673 | Learning_Rate : 0.00031599999056197703\n",
            "model saved to : /content/saved models7/weights--011--2.4601.hdf5\n",
            "1139/1139 [==============================] - 188s 165ms/step - loss: 1.8974 - auc: 0.9538 - precision: 0.6290 - recall: 0.2626\n",
            "Epoch 13/20\n",
            "1139/1139 [==============================] - ETA: 0s - loss: 1.8711 - auc: 0.9549 - precision: 0.6311 - recall: 0.2689\n",
            "Test :\n",
            "143/143 [==============================] - 17s 118ms/step - loss: 2.4609 - auc: 0.9330 - precision: 0.5498 - recall: 0.2446\n",
            "validation_f1 : 0.33855 | Learning_Rate : 0.00031599999056197703\n",
            " Learning_rate_dropped : 1e-04\n",
            "1139/1139 [==============================] - 188s 165ms/step - loss: 1.8711 - auc: 0.9549 - precision: 0.6311 - recall: 0.2689\n",
            "Epoch 14/20\n",
            "1138/1139 [============================>.] - ETA: 0s - loss: 1.8238 - auc: 0.9567 - precision: 0.6410 - recall: 0.2761\n",
            "Test :\n",
            "143/143 [==============================] - 17s 116ms/step - loss: 2.4578 - auc: 0.9328 - precision: 0.5485 - recall: 0.2476\n",
            "validation_f1 : 0.34116 | Learning_Rate : 9.999999747378752e-05\n",
            "model saved to : /content/saved models7/weights--013--2.4578.hdf5\n",
            "1139/1139 [==============================] - 188s 165ms/step - loss: 1.8238 - auc: 0.9567 - precision: 0.6410 - recall: 0.2761\n",
            "Epoch 15/20\n",
            "1138/1139 [============================>.] - ETA: 0s - loss: 1.8163 - auc: 0.9571 - precision: 0.6430 - recall: 0.2773\n",
            "Test :\n",
            "143/143 [==============================] - 17s 117ms/step - loss: 2.4623 - auc: 0.9327 - precision: 0.5484 - recall: 0.2481\n",
            "validation_f1 : 0.34165 | Learning_Rate : 9.999999747378752e-05\n",
            " Learning_rate_dropped : 3.2e-05\n",
            "1139/1139 [==============================] - 188s 165ms/step - loss: 1.8164 - auc: 0.9571 - precision: 0.6430 - recall: 0.2773\n",
            "Epoch 16/20\n",
            "1139/1139 [==============================] - ETA: 0s - loss: 1.8025 - auc: 0.9573 - precision: 0.6458 - recall: 0.2800\n",
            "Test :\n",
            "143/143 [==============================] - 17s 116ms/step - loss: 2.4603 - auc: 0.9325 - precision: 0.5477 - recall: 0.2490\n",
            "validation_f1 : 0.34232 | Learning_Rate : 3.199999991920777e-05\n",
            "model saved to : /content/saved models7/weights--015--2.4603.hdf5\n",
            "1139/1139 [==============================] - 188s 165ms/step - loss: 1.8025 - auc: 0.9573 - precision: 0.6458 - recall: 0.2800\n",
            "Epoch 17/20\n",
            "1139/1139 [==============================] - ETA: 0s - loss: 1.7993 - auc: 0.9574 - precision: 0.6452 - recall: 0.2810\n",
            "Test :\n",
            "143/143 [==============================] - 17s 116ms/step - loss: 2.4610 - auc: 0.9324 - precision: 0.5479 - recall: 0.2490\n",
            "validation_f1 : 0.34242 | Learning_Rate : 3.199999991920777e-05\n",
            " Learning_rate_dropped : 1e-05\n",
            "1139/1139 [==============================] - 188s 165ms/step - loss: 1.7993 - auc: 0.9574 - precision: 0.6452 - recall: 0.2810\n",
            "Epoch 18/20\n",
            "1138/1139 [============================>.] - ETA: 0s - loss: 1.7946 - auc: 0.9576 - precision: 0.6467 - recall: 0.2821\n",
            "Test :\n",
            "143/143 [==============================] - 17s 117ms/step - loss: 2.4618 - auc: 0.9323 - precision: 0.5478 - recall: 0.2491\n",
            "validation_f1 : 0.34251 | Learning_Rate : 9.999999747378752e-06\n",
            " Learning_rate_dropped : 3e-06\n",
            "1139/1139 [==============================] - 188s 165ms/step - loss: 1.7946 - auc: 0.9576 - precision: 0.6467 - recall: 0.2821\n",
            "Epoch 19/20\n",
            " 622/1139 [===============>..............] - ETA: 1:17 - loss: 1.7917 - auc: 0.9576 - precision: 0.6483 - recall: 0.2828"
          ],
          "name": "stdout"
        }
      ]
    },
    {
      "cell_type": "code",
      "metadata": {
        "colab_type": "code",
        "id": "8JqNIqlphb99",
        "colab": {}
      },
      "source": [
        "!cp '/content/saved models7/weights--019--2.4615.hdf5' '/content/drive/My Drive/AAIC Course/Personal case study - StackOverflow/'"
      ],
      "execution_count": null,
      "outputs": []
    },
    {
      "cell_type": "code",
      "metadata": {
        "id": "aBjlfQ52_k3Y",
        "colab_type": "code",
        "colab": {
          "base_uri": "https://localhost:8080/",
          "height": 820
        },
        "outputId": "0b5cfae7-e4eb-4f92-8c9b-2626c498c7f8"
      },
      "source": [
        "%reload_ext tensorboard\n",
        "%tensorboard --logdir '/content/logs/'"
      ],
      "execution_count": null,
      "outputs": [
        {
          "output_type": "display_data",
          "data": {
            "application/javascript": [
              "\n",
              "        (async () => {\n",
              "            const url = await google.colab.kernel.proxyPort(6008, {\"cache\": true});\n",
              "            const iframe = document.createElement('iframe');\n",
              "            iframe.src = url;\n",
              "            iframe.setAttribute('width', '100%');\n",
              "            iframe.setAttribute('height', '800');\n",
              "            iframe.setAttribute('frameborder', 0);\n",
              "            document.body.appendChild(iframe);\n",
              "        })();\n",
              "    "
            ],
            "text/plain": [
              "<IPython.core.display.Javascript object>"
            ]
          },
          "metadata": {
            "tags": []
          }
        }
      ]
    },
    {
      "cell_type": "markdown",
      "metadata": {
        "colab_type": "text",
        "id": "b5LIt2L2hb-C"
      },
      "source": [
        "### 7.3.2. Inference - Testing architecture - ONLY ON 'TITLE'"
      ]
    },
    {
      "cell_type": "code",
      "metadata": {
        "colab_type": "code",
        "id": "ZP0b1iUXhb-D",
        "colab": {}
      },
      "source": [
        "def text_preprocessor(column):\n",
        "  \"\"\"pass any column with Text in it from tbs_df | Note: returns nothing makes inplace changes in tbs_df\"\"\"\n",
        "  # 1. remove html tags, html urls, replace html comparison operators\n",
        "  text = tbs_df[column].values\n",
        "  tbs_df[column] = [re.sub('<.*?>', '', i) for i in text]\n",
        "  tbs_df[column] = tbs_df[column].str.replace('&lt;', '<')\\\n",
        "                                          .str.replace('&gt;', '>')\\\n",
        "                                          .str.replace('&le;', '<=' )\\\n",
        "                                          .str.replace('&ge;', '>=')\n",
        "\n",
        "  # 2. remove latex i,e., mostly formulas since it's mathematics based dataset\n",
        "  tbs_df[column] = [re.sub('\\$.*?\\$', '', i) for i in text]\n",
        "\n",
        "  # 3. all lowercase \n",
        "  tbs_df[column] = tbs_df[column].str.lower()\n",
        "\n",
        "  # 4. decontractions\n",
        "  tbs_df[column] = tbs_df[column].str.replace(\"won't\", \"will not\").str.replace(\"can\\'t\", \"can not\").str.replace(\"n\\'t\", \" not\").str.replace(\"\\'re\", \" are\").str.\\\n",
        "                                                replace(\"\\'s\", \" is\").str.replace(\"\\'d\", \" would\").str.replace(\"\\'ll\", \" will\").str.\\\n",
        "                                                replace(\"\\'t\", \" not\").str.replace(\"\\'ve\", \" have\").str.replace(\"\\'m\", \" am\")\n",
        "\n",
        "  # 5. remove all special-characters other than alpha-numericals\n",
        "  tbs_df[column] = [re.sub('\\W', ' ', i) for i in text]\n",
        "\n",
        "  # # 6. Stop_word removal\n",
        "  # tbs_df[column] = [stopwrd_removal(i) for i in text]\n",
        "\n",
        "  # 7. remove all white-space i.e., \\n, \\t, and extra_spaces\n",
        "  tbs_df[column] = tbs_df[column].str.replace(\"\\n\", \" \").str.replace(\"\\t\", \" \").str.rstrip()\n",
        "  tbs_df[column] = [re.sub('  +', ' ', i) for i in text]"
      ],
      "execution_count": null,
      "outputs": []
    },
    {
      "cell_type": "markdown",
      "metadata": {
        "colab_type": "text",
        "id": "g2N_4RaVhb-H"
      },
      "source": [
        "#### Train_test_split - TimeBased : For tag_predictor model"
      ]
    },
    {
      "cell_type": "code",
      "metadata": {
        "colab_type": "code",
        "id": "C8eaI_nkhb-I",
        "colab": {}
      },
      "source": [
        "# Acquiring preprocessed_dataset\n",
        "df = pd.read_csv('/content/drive/My Drive/AAIC Course/Personal case study - StackOverflow/df.csv')"
      ],
      "execution_count": null,
      "outputs": []
    },
    {
      "cell_type": "code",
      "metadata": {
        "colab_type": "code",
        "id": "F4A6fvK9hb-M",
        "colab": {
          "base_uri": "https://localhost:8080/",
          "height": 33
        },
        "outputId": "4d343f29-cb7c-4383-8eba-fdd69b08770c"
      },
      "source": [
        "# 1. train_test split\n",
        "train_set = 0.80\n",
        "test_set = 1 - train_set\n",
        "\n",
        "tbs_df = df.sort_values(by = ['UNIX_CreationDate'])\n",
        "\n",
        "# text preprocessing on 'Title'\n",
        "tbs_df['Title_1'] = tbs_df['Title']\n",
        "text_preprocessor('Title_1')\n",
        "\n",
        "text_data_train = tbs_df['Title'].values[:int(df.shape[0]*train_set)]\n",
        "text_data_test = tbs_df['Title'].values[-int(df.shape[0]*test_set):]\n",
        "\n",
        "tags = tbs_df['tag_1'].str.cat(tbs_df['tag_2'], sep = ' ').str.cat(tbs_df['tag_3'], sep = ' ').str.cat(tbs_df['tag_4'], sep = ' ').str.cat(tbs_df['tag_5'], sep = ' ').tolist()\n",
        "tags_train = np.array(tags[:int(df.shape[0]*train_set)])\n",
        "tags_test = np.array(tags[-int(df.shape[0]*test_set):])\n",
        "\n",
        "del df\n",
        "text_data_train.shape, text_data_test.shape, tags_train.shape, tags_test.shape"
      ],
      "execution_count": null,
      "outputs": [
        {
          "output_type": "execute_result",
          "data": {
            "text/plain": [
              "((145666,), (36416,), (145666,), (36416,))"
            ]
          },
          "metadata": {
            "tags": []
          },
          "execution_count": 34
        }
      ]
    },
    {
      "cell_type": "code",
      "metadata": {
        "colab_type": "code",
        "id": "SG0gT0euhb-R",
        "colab": {}
      },
      "source": [
        "text_seq_test = token_text.texts_to_sequences(text_data_test)\n",
        "text_seq_test = pad_sequences(text_seq_test, maxlen = 250, padding = 'post')"
      ],
      "execution_count": null,
      "outputs": []
    },
    {
      "cell_type": "code",
      "metadata": {
        "colab_type": "code",
        "id": "5qcIMOPFhb-Y",
        "colab": {}
      },
      "source": [
        "# !cp '/content/saved models/weights--008--1.3756.hdf5' 'content/drive/My Drive/AAIC Course/Personal case study - StackOverflow/'\n",
        "model.load_weights('/content/drive/My Drive/AAIC Course/Personal case study - StackOverflow/weights--019--2.4615.hdf5')\n",
        "# model.load_weights('/content/saved models7/weights--008--2.3871.hdf5')"
      ],
      "execution_count": null,
      "outputs": []
    },
    {
      "cell_type": "markdown",
      "metadata": {
        "id": "KuKsWcQJ-R54",
        "colab_type": "text"
      },
      "source": [
        "**change test datapoint index below :**"
      ]
    },
    {
      "cell_type": "code",
      "metadata": {
        "colab_type": "code",
        "id": "asDEcvWThb-b",
        "colab": {
          "base_uri": "https://localhost:8080/",
          "height": 66
        },
        "outputId": "8faa1f07-8db8-4ad8-a95f-d0033b371967"
      },
      "source": [
        "dp = 18000 # datapoint                 600, 1200, 6000, 12000, 18000, 24000, 30000, 36000\n",
        "text_wrd_dict = text_vocab\n",
        "tar_wrd_dict = tar_vocab\n",
        "text_wrd_dict_reverse = {v:k for k, v in text_vocab.items()}\n",
        "tags_wrd_dict_reverse = {v:k for k, v in tar_vocab.items()}\n",
        "\n",
        "input_sequence = \" \".join([text_wrd_dict_reverse[i] for i in text_seq_test[dp] if i != 0])\n",
        "output_sequence = set([tags_wrd_dict_reverse[i] for i in tar_seq_test[dp] if i != 0])\n",
        "tar_seq_test[dp], input_sequence, output_sequence"
      ],
      "execution_count": null,
      "outputs": [
        {
          "output_type": "execute_result",
          "data": {
            "text/plain": [
              "(array([37, 37, 37, 37, 37], dtype=int32),\n",
              " 'r chi square test with degrees of freedom',\n",
              " {'chi_squared'})"
            ]
          },
          "metadata": {
            "tags": []
          },
          "execution_count": 40
        }
      ]
    },
    {
      "cell_type": "markdown",
      "metadata": {
        "id": "RAPyjA-J-XRd",
        "colab_type": "text"
      },
      "source": [
        "**just run below code snippent to get results :**"
      ]
    },
    {
      "cell_type": "code",
      "metadata": {
        "colab_type": "code",
        "id": "fgngDawdhb-e",
        "colab": {
          "base_uri": "https://localhost:8080/",
          "height": 50
        },
        "outputId": "89fe1e1e-c684-4042-e213-b496b9f498b7"
      },
      "source": [
        "x = text_seq_test[dp].reshape(1, -1)\n",
        "model_output = model.predict(x)\n",
        "tar_wrd_lst = []\n",
        "for i in model_output[0]:\n",
        "  tar_wrd_idx = np.argmax(i)\n",
        "  tar_wrd = tags_wrd_dict_reverse[tar_wrd_idx]\n",
        "  tar_wrd_lst.append(tar_wrd)\n",
        "  \n",
        "  target_sequence = set(tar_wrd_lst)\n",
        "\n",
        "print('Query : {} \\nTags : {}'.format(input_sequence, target_sequence))"
      ],
      "execution_count": null,
      "outputs": [
        {
          "output_type": "stream",
          "text": [
            "Query : r chi square test with degrees of freedom \n",
            "Tags : {'chi_squared'}\n"
          ],
          "name": "stdout"
        }
      ]
    },
    {
      "cell_type": "markdown",
      "metadata": {
        "id": "xdaz1u3YP9QV",
        "colab_type": "text"
      },
      "source": [
        "# 7.4. Predicting whole dataset :"
      ]
    },
    {
      "cell_type": "code",
      "metadata": {
        "id": "DyoXs42mqQ64",
        "colab_type": "code",
        "colab": {}
      },
      "source": [
        "# 1. Loading saved tokenizers\n",
        "import pickle\n",
        "handle = open('/content/drive/My Drive/AAIC Course/Personal case study - StackOverflow/tag_predictor_tokenizer.pickle', 'rb')\n",
        "token_text = pickle.load(handle)\n",
        "\n",
        "handle = open('/content/drive/My Drive/AAIC Course/Personal case study - StackOverflow/tag_predictor_token_tar.pickle', 'rb')\n",
        "token_tar = pickle.load(handle)\n",
        "\n",
        "text_vocab = token_text.word_index\n",
        "tar_vocab = token_tar.word_index\n",
        "\n",
        "# 2. loading model weights\n",
        "model.load_weights('/content/drive/My Drive/AAIC Course/Personal case study - StackOverflow/weights--019--2.4615.hdf5')"
      ],
      "execution_count": null,
      "outputs": []
    },
    {
      "cell_type": "code",
      "metadata": {
        "id": "MFcH-kVp4QoK",
        "colab_type": "code",
        "colab": {
          "base_uri": "https://localhost:8080/",
          "height": 50
        },
        "outputId": "298199c0-3983-414a-ac41-4bcbea9a0933"
      },
      "source": [
        "# defining a function to remove stop_words\n",
        "import nltk\n",
        "from nltk.corpus import stopwords\n",
        "nltk.download('stopwords')\n",
        "stop_words = set(stopwords.words('english'))\n",
        "stop_words.add('would')\n",
        "stop_words.update([chr(c) for c in range(97, 123)])\n",
        "# stop_words.remove('no'); stop_words.remove('not'); stop_words.remove('nor')\n",
        "\n",
        "def stopwrd_removal(sent):\n",
        "  lst = []\n",
        "  for wrd in sent.split():\n",
        "    if wrd not in stop_words:\n",
        "      lst.append(wrd)\n",
        "  return \" \".join(lst)"
      ],
      "execution_count": null,
      "outputs": [
        {
          "output_type": "stream",
          "text": [
            "[nltk_data] Downloading package stopwords to /root/nltk_data...\n",
            "[nltk_data]   Package stopwords is already up-to-date!\n"
          ],
          "name": "stdout"
        }
      ]
    },
    {
      "cell_type": "code",
      "metadata": {
        "id": "gpXT83kuUnwL",
        "colab_type": "code",
        "colab": {}
      },
      "source": [
        "# 3. input text preprocessor\n",
        "def text_preprocessor(corpus, stop_word = False, remove_digits = False):\n",
        "  clean_corpus = []\n",
        "  for doc in corpus:\n",
        "    # 1. remove html tags, html urls, replace html comparison operators\n",
        "    clean_str = re.sub('<.*?>', '', doc)\n",
        "    clean_str = clean_str.replace('&lt;', '<')\\\n",
        "                .replace('&gt;', '>')\\\n",
        "                .replace('&le;', '<=' )\\\n",
        "                .replace('&ge;', '>=')\n",
        "\n",
        "    # 2. remove latex i,e., mostly formulas since it's mathematics based dataset\n",
        "    clean_str = re.sub('\\$.*?\\$', '', clean_str)\n",
        "\n",
        "    # 3. all lowercase \n",
        "    clean_str = clean_str.lower()\n",
        "\n",
        "    # 4. decontractions\n",
        "    clean_str = clean_str.replace(\"won't\", \"will not\").replace(\"can\\'t\", \"can not\").replace(\"n\\'t\", \" not\").replace(\"\\'re\", \" are\").\\\n",
        "                                                  replace(\"\\'s\", \" is\").replace(\"\\'d\", \" would\").replace(\"\\'ll\", \" will\").\\\n",
        "                                                  replace(\"\\'t\", \" not\").replace(\"\\'ve\", \" have\").replace(\"\\'m\", \" am\")\n",
        "\n",
        "    # 5. remove all special-characters other than alpha-numericals\n",
        "    clean_str = re.sub('\\W', ' ', clean_str)\n",
        "    if remove_digits == True:\n",
        "      clean_str = re.sub('\\d', ' ', clean_str)\n",
        "\n",
        "    # 6. Stop_word removal\n",
        "    if stop_word == True:\n",
        "      clean_str = stopwrd_removal(clean_str)\n",
        "\n",
        "    # 7. remove all white-space i.e., \\n, \\t, and extra_spaces\n",
        "    clean_str = re.sub('  +', ' ', clean_str)\n",
        "    clean_str = clean_str.replace(\"\\n\", \" \").replace(\"\\t\", \" \").strip()\n",
        "\n",
        "    clean_corpus.append(clean_str)\n",
        "\n",
        "  return clean_corpus\n",
        "\n",
        "def padded_sequence(clean_corpus):\n",
        "    # 8. converting words into tokens (int)\n",
        "    tokens = token_text.texts_to_sequences(clean_corpus)\n",
        "\n",
        "    # 9. padding the sequence\n",
        "    from tensorflow.keras.preprocessing.sequence import pad_sequences\n",
        "    sequence = pad_sequences(tokens, maxlen = 250, padding = 'post')\n",
        "\n",
        "    return sequence"
      ],
      "execution_count": null,
      "outputs": []
    },
    {
      "cell_type": "code",
      "metadata": {
        "id": "57sWlOj8nhAz",
        "colab_type": "code",
        "colab": {}
      },
      "source": [
        "tar_vocab_reverse = {v:k for k,v in tar_vocab.items()}\n",
        "def final_tag_prediction(corpus):\n",
        "  \"\"\"\n",
        "  1. Text preprocessing on corpus\n",
        "  2. Convert clean corpus to padded sequence\n",
        "  3. Passes sequence through model and model generates output\n",
        "  4. Converts model output into tags list of tags\n",
        "  \"\"\"\n",
        "  # 10. model prediction\n",
        "  clean_corpus = text_preprocessor(corpus,  stop_word = False, remove_digits = False)\n",
        "  sequence = padded_sequence(clean_corpus)\n",
        "\n",
        "  # dataset contain some sequences with all zeros after preprocessing and tokenizing.\n",
        "  # Hence removing sequences with all zeros in the corpus\n",
        "  all_zero_idx = [i for i in range(len(sequence)) if (sequence[i] == np.zeros(250)).all()]\n",
        "  sequence = np.delete(sequence, all_zero_idx, axis = 0)\n",
        "\n",
        "  model_out = model.predict(sequence)\n",
        "\n",
        "  # 11. converting model prediction to human readable tags\n",
        "  final_lst = []\n",
        "  for dp in model_out:\n",
        "    tar_wrd_idx_lst = []\n",
        "    for time_step in dp:\n",
        "      tar_wrd_idx = np.argmax(time_step)\n",
        "      tar_wrd = ('<' + tar_vocab_reverse[tar_wrd_idx] + '>')\n",
        "      tar_wrd_idx_lst.append(tar_wrd)\n",
        "      lst = list(set(tar_wrd_idx_lst))\n",
        "    final_lst.append(lst)\n",
        "  \n",
        "  return final_lst, all_zero_idx"
      ],
      "execution_count": null,
      "outputs": []
    },
    {
      "cell_type": "code",
      "metadata": {
        "id": "F_NzdG785Eh2",
        "colab_type": "code",
        "colab": {
          "base_uri": "https://localhost:8080/",
          "height": 66
        },
        "outputId": "5eec12e5-1d4b-46f5-f436-f416175ec276"
      },
      "source": [
        "%%time\n",
        "# 12. predicting whole dataset\n",
        "corpus = tbs_df['Title'].tolist()      # provide any string inside list\n",
        "tags_pred, all_zero_idx = final_tag_prediction(corpus)\n",
        "print(len(all_zero_idx))"
      ],
      "execution_count": null,
      "outputs": [
        {
          "output_type": "stream",
          "text": [
            "0\n",
            "CPU times: user 44.7 s, sys: 4.81 s, total: 49.5 s\n",
            "Wall time: 36.7 s\n"
          ],
          "name": "stdout"
        }
      ]
    },
    {
      "cell_type": "code",
      "metadata": {
        "id": "rwFrACfzDlFt",
        "colab_type": "code",
        "colab": {}
      },
      "source": [
        "# 13. removing datapoints with all zeros in input sequences\n",
        "tbs_df['index'] = range(len(tbs_df))\n",
        "tbs_df = tbs_df.reset_index(drop= True)\n",
        "tbs_df = tbs_df.drop(index = all_zero_idx, axis = 1)\n",
        "tbs_df = tbs_df.reset_index(drop= True)"
      ],
      "execution_count": null,
      "outputs": []
    },
    {
      "cell_type": "code",
      "metadata": {
        "id": "BdH_6VSJF286",
        "colab_type": "code",
        "colab": {
          "base_uri": "https://localhost:8080/",
          "height": 33
        },
        "outputId": "5bfa43e9-9973-4f29-9794-f2bbb5b00fca"
      },
      "source": [
        "# 14. creating new colummns with predicted tags\n",
        "print('maximum no.of tags one datapoint can have:', max([len(i) for i in tags_pred]))\n",
        "tbs_df = pd.concat([tbs_df, pd.DataFrame(tags_pred, columns = ['tag_pred1', 'tag_pred2', 'tag_pred3', 'tag_pred4', 'tag_pred5'])], axis = 1)\n",
        "tbs_df = tbs_df.fillna('-')"
      ],
      "execution_count": null,
      "outputs": [
        {
          "output_type": "stream",
          "text": [
            "maximum no.of tags one datapoint can have: 5\n"
          ],
          "name": "stdout"
        }
      ]
    },
    {
      "cell_type": "code",
      "metadata": {
        "id": "de0gNpCfUObK",
        "colab_type": "code",
        "colab": {}
      },
      "source": [
        "tbs_df.to_csv('/content/drive/My Drive/AAIC Course/Personal case study - StackOverflow/tbs_df.csv', index = False)"
      ],
      "execution_count": null,
      "outputs": []
    },
    {
      "cell_type": "code",
      "metadata": {
        "id": "70BioeXUY321",
        "colab_type": "code",
        "colab": {
          "base_uri": "https://localhost:8080/",
          "height": 617
        },
        "outputId": "f7836d99-92ba-45e3-b693-4769a5010a56"
      },
      "source": [
        "tbs_df.head()"
      ],
      "execution_count": null,
      "outputs": [
        {
          "output_type": "execute_result",
          "data": {
            "text/html": [
              "<div>\n",
              "<style scoped>\n",
              "    .dataframe tbody tr th:only-of-type {\n",
              "        vertical-align: middle;\n",
              "    }\n",
              "\n",
              "    .dataframe tbody tr th {\n",
              "        vertical-align: top;\n",
              "    }\n",
              "\n",
              "    .dataframe thead th {\n",
              "        text-align: right;\n",
              "    }\n",
              "</style>\n",
              "<table border=\"1\" class=\"dataframe\">\n",
              "  <thead>\n",
              "    <tr style=\"text-align: right;\">\n",
              "      <th></th>\n",
              "      <th>Title</th>\n",
              "      <th>Body</th>\n",
              "      <th>Tags</th>\n",
              "      <th>CreationDate</th>\n",
              "      <th>LastActivityDate</th>\n",
              "      <th>Score</th>\n",
              "      <th>ViewCount</th>\n",
              "      <th>AnswerCount</th>\n",
              "      <th>CommentCount</th>\n",
              "      <th>FavoriteCount</th>\n",
              "      <th>Comments</th>\n",
              "      <th>index_left</th>\n",
              "      <th>tag_1</th>\n",
              "      <th>tag_2</th>\n",
              "      <th>tag_3</th>\n",
              "      <th>tag_4</th>\n",
              "      <th>tag_5</th>\n",
              "      <th>index</th>\n",
              "      <th>combined_text</th>\n",
              "      <th>sentiment_comb</th>\n",
              "      <th>subjectivity_comb</th>\n",
              "      <th>sentiment_comments</th>\n",
              "      <th>subjectivity_comments</th>\n",
              "      <th>UNIX_CreationDate</th>\n",
              "      <th>Title_1</th>\n",
              "      <th>tag_pred1</th>\n",
              "      <th>tag_pred2</th>\n",
              "      <th>tag_pred3</th>\n",
              "      <th>tag_pred4</th>\n",
              "      <th>tag_pred5</th>\n",
              "    </tr>\n",
              "  </thead>\n",
              "  <tbody>\n",
              "    <tr>\n",
              "      <th>0</th>\n",
              "      <td>Euler cycles in biconnected components</td>\n",
              "      <td>&lt;p&gt;If a graph has a Euler cycle, do the biconn...</td>\n",
              "      <td>&lt;graphs&gt;&lt;eulerian_paths&gt;</td>\n",
              "      <td>2008-11-25T14:59:38.553</td>\n",
              "      <td>2012-09-24T13:48:36.543</td>\n",
              "      <td>9</td>\n",
              "      <td>334</td>\n",
              "      <td>1</td>\n",
              "      <td>1</td>\n",
              "      <td>0</td>\n",
              "      <td>If this is a homework problem, perhaps its bes...</td>\n",
              "      <td>6903</td>\n",
              "      <td>&lt;graphs&gt;</td>\n",
              "      <td>-</td>\n",
              "      <td>-</td>\n",
              "      <td>-</td>\n",
              "      <td>-</td>\n",
              "      <td>0</td>\n",
              "      <td>euler cycles in biconnected components if a gr...</td>\n",
              "      <td>0.000000</td>\n",
              "      <td>0.000000</td>\n",
              "      <td>0.566667</td>\n",
              "      <td>0.566667</td>\n",
              "      <td>1.227625e+09</td>\n",
              "      <td>euler cycles in biconnected components</td>\n",
              "      <td>&lt;graphs&gt;</td>\n",
              "      <td>-</td>\n",
              "      <td>-</td>\n",
              "      <td>-</td>\n",
              "      <td>-</td>\n",
              "    </tr>\n",
              "    <tr>\n",
              "      <th>1</th>\n",
              "      <td>Can two neighbors in a graph be at the same de...</td>\n",
              "      <td>&lt;p&gt;In an undirected graph, can two nodes at an...</td>\n",
              "      <td>&lt;graphs&gt;&lt;graph_traversal&gt;</td>\n",
              "      <td>2008-11-28T20:38:14.300</td>\n",
              "      <td>2012-09-24T13:48:52.410</td>\n",
              "      <td>6</td>\n",
              "      <td>138</td>\n",
              "      <td>3</td>\n",
              "      <td>0</td>\n",
              "      <td>0</td>\n",
              "      <td>-</td>\n",
              "      <td>6904</td>\n",
              "      <td>&lt;graphs&gt;</td>\n",
              "      <td>-</td>\n",
              "      <td>-</td>\n",
              "      <td>-</td>\n",
              "      <td>-</td>\n",
              "      <td>1</td>\n",
              "      <td>can two neighbors in a graph be at the same de...</td>\n",
              "      <td>0.031250</td>\n",
              "      <td>0.440972</td>\n",
              "      <td>0.000000</td>\n",
              "      <td>0.000000</td>\n",
              "      <td>1.227905e+09</td>\n",
              "      <td>can two neighbors in a graph be at the same de...</td>\n",
              "      <td>&lt;trees&gt;</td>\n",
              "      <td>-</td>\n",
              "      <td>-</td>\n",
              "      <td>-</td>\n",
              "      <td>-</td>\n",
              "    </tr>\n",
              "    <tr>\n",
              "      <th>2</th>\n",
              "      <td>Unique path in a directed graph</td>\n",
              "      <td>&lt;p&gt;I'm designing an algorithm for a class that...</td>\n",
              "      <td>&lt;graphs&gt;&lt;shortest_path&gt;&lt;graph_traversal&gt;</td>\n",
              "      <td>2008-12-08T22:07:40.493</td>\n",
              "      <td>2012-12-13T02:10:52.957</td>\n",
              "      <td>9</td>\n",
              "      <td>2138</td>\n",
              "      <td>3</td>\n",
              "      <td>0</td>\n",
              "      <td>1</td>\n",
              "      <td>-</td>\n",
              "      <td>6905</td>\n",
              "      <td>&lt;graphs&gt;</td>\n",
              "      <td>-</td>\n",
              "      <td>-</td>\n",
              "      <td>-</td>\n",
              "      <td>-</td>\n",
              "      <td>2</td>\n",
              "      <td>unique path in a directed graph i am designing...</td>\n",
              "      <td>0.250000</td>\n",
              "      <td>0.555556</td>\n",
              "      <td>0.000000</td>\n",
              "      <td>0.000000</td>\n",
              "      <td>1.228774e+09</td>\n",
              "      <td>unique path in a directed graph</td>\n",
              "      <td>&lt;graphs&gt;</td>\n",
              "      <td>-</td>\n",
              "      <td>-</td>\n",
              "      <td>-</td>\n",
              "      <td>-</td>\n",
              "    </tr>\n",
              "    <tr>\n",
              "      <th>3</th>\n",
              "      <td>What do you call an average that does not incl...</td>\n",
              "      <td>&lt;p&gt;What do you call an average that does not i...</td>\n",
              "      <td>&lt;mean&gt;&lt;outliers&gt;&lt;terminology&gt;&lt;average&gt;</td>\n",
              "      <td>2009-02-02T14:21:12.103</td>\n",
              "      <td>2020-01-12T17:40:44.297</td>\n",
              "      <td>70</td>\n",
              "      <td>108331</td>\n",
              "      <td>15</td>\n",
              "      <td>2</td>\n",
              "      <td>15</td>\n",
              "      <td>https://sciencing.com/calculate-outliers-52014...</td>\n",
              "      <td>67764</td>\n",
              "      <td>&lt;mean&gt;</td>\n",
              "      <td>&lt;outliers&gt;</td>\n",
              "      <td>&lt;terminology&gt;</td>\n",
              "      <td>-</td>\n",
              "      <td>-</td>\n",
              "      <td>3</td>\n",
              "      <td>what do you call an average that does not incl...</td>\n",
              "      <td>-0.150000</td>\n",
              "      <td>0.400000</td>\n",
              "      <td>-0.050000</td>\n",
              "      <td>0.547778</td>\n",
              "      <td>1.233584e+09</td>\n",
              "      <td>what do you call an average that does not incl...</td>\n",
              "      <td>&lt;outliers&gt;</td>\n",
              "      <td>-</td>\n",
              "      <td>-</td>\n",
              "      <td>-</td>\n",
              "      <td>-</td>\n",
              "    </tr>\n",
              "    <tr>\n",
              "      <th>4</th>\n",
              "      <td>Correcting for outliers in a running average</td>\n",
              "      <td>&lt;p&gt;We have a daemon that reads in data from so...</td>\n",
              "      <td>&lt;outliers&gt;&lt;average&gt;&lt;cooks_distance&gt;</td>\n",
              "      <td>2009-04-12T07:24:17.007</td>\n",
              "      <td>2017-03-01T14:05:17.163</td>\n",
              "      <td>14</td>\n",
              "      <td>7007</td>\n",
              "      <td>7</td>\n",
              "      <td>6</td>\n",
              "      <td>1</td>\n",
              "      <td>During bootstrapping provide 64 data points to...</td>\n",
              "      <td>67765</td>\n",
              "      <td>&lt;outliers&gt;</td>\n",
              "      <td>-</td>\n",
              "      <td>-</td>\n",
              "      <td>-</td>\n",
              "      <td>-</td>\n",
              "      <td>4</td>\n",
              "      <td>correcting for outliers in a running average w...</td>\n",
              "      <td>0.014588</td>\n",
              "      <td>0.443397</td>\n",
              "      <td>0.082625</td>\n",
              "      <td>0.416241</td>\n",
              "      <td>1.239521e+09</td>\n",
              "      <td>correcting for outliers in a running average</td>\n",
              "      <td>&lt;outliers&gt;</td>\n",
              "      <td>-</td>\n",
              "      <td>-</td>\n",
              "      <td>-</td>\n",
              "      <td>-</td>\n",
              "    </tr>\n",
              "  </tbody>\n",
              "</table>\n",
              "</div>"
            ],
            "text/plain": [
              "                                               Title  ... tag_pred5\n",
              "0             Euler cycles in biconnected components  ...         -\n",
              "1  Can two neighbors in a graph be at the same de...  ...         -\n",
              "2                    Unique path in a directed graph  ...         -\n",
              "3  What do you call an average that does not incl...  ...         -\n",
              "4       Correcting for outliers in a running average  ...         -\n",
              "\n",
              "[5 rows x 30 columns]"
            ]
          },
          "metadata": {
            "tags": []
          },
          "execution_count": 101
        }
      ]
    }
  ]
}