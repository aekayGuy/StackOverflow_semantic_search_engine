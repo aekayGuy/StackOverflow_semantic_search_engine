{
 "cells": [
  {
   "cell_type": "code",
   "execution_count": null,
   "metadata": {
    "colab": {
     "base_uri": "https://localhost:8080/",
     "height": 603
    },
    "colab_type": "code",
    "id": "8YKxx0WVVrmg",
    "outputId": "7d577ae4-a394-4f7a-b729-b8f3edef937b"
   },
   "outputs": [
    {
     "name": "stdout",
     "output_type": "stream",
     "text": [
      "Collecting transformers\n",
      "\u001b[?25l  Downloading https://files.pythonhosted.org/packages/27/3c/91ed8f5c4e7ef3227b4119200fc0ed4b4fd965b1f0172021c25701087825/transformers-3.0.2-py3-none-any.whl (769kB)\n",
      "\r",
      "\u001b[K     |▍                               | 10kB 6.7MB/s eta 0:00:01\r",
      "\u001b[K     |▉                               | 20kB 1.8MB/s eta 0:00:01\r",
      "\u001b[K     |█▎                              | 30kB 2.3MB/s eta 0:00:01\r",
      "\u001b[K     |█▊                              | 40kB 2.4MB/s eta 0:00:01\r",
      "\u001b[K     |██▏                             | 51kB 2.0MB/s eta 0:00:01\r",
      "\u001b[K     |██▋                             | 61kB 2.2MB/s eta 0:00:01\r",
      "\u001b[K     |███                             | 71kB 2.5MB/s eta 0:00:01\r",
      "\u001b[K     |███▍                            | 81kB 2.7MB/s eta 0:00:01\r",
      "\u001b[K     |███▉                            | 92kB 2.8MB/s eta 0:00:01\r",
      "\u001b[K     |████▎                           | 102kB 2.8MB/s eta 0:00:01\r",
      "\u001b[K     |████▊                           | 112kB 2.8MB/s eta 0:00:01\r",
      "\u001b[K     |█████▏                          | 122kB 2.8MB/s eta 0:00:01\r",
      "\u001b[K     |█████▌                          | 133kB 2.8MB/s eta 0:00:01\r",
      "\u001b[K     |██████                          | 143kB 2.8MB/s eta 0:00:01\r",
      "\u001b[K     |██████▍                         | 153kB 2.8MB/s eta 0:00:01\r",
      "\u001b[K     |██████▉                         | 163kB 2.8MB/s eta 0:00:01\r",
      "\u001b[K     |███████▎                        | 174kB 2.8MB/s eta 0:00:01\r",
      "\u001b[K     |███████▊                        | 184kB 2.8MB/s eta 0:00:01\r",
      "\u001b[K     |████████                        | 194kB 2.8MB/s eta 0:00:01\r",
      "\u001b[K     |████████▌                       | 204kB 2.8MB/s eta 0:00:01\r",
      "\u001b[K     |█████████                       | 215kB 2.8MB/s eta 0:00:01\r",
      "\u001b[K     |█████████▍                      | 225kB 2.8MB/s eta 0:00:01\r",
      "\u001b[K     |█████████▉                      | 235kB 2.8MB/s eta 0:00:01\r",
      "\u001b[K     |██████████▎                     | 245kB 2.8MB/s eta 0:00:01\r",
      "\u001b[K     |██████████▋                     | 256kB 2.8MB/s eta 0:00:01\r",
      "\u001b[K     |███████████                     | 266kB 2.8MB/s eta 0:00:01\r",
      "\u001b[K     |███████████▌                    | 276kB 2.8MB/s eta 0:00:01\r",
      "\u001b[K     |████████████                    | 286kB 2.8MB/s eta 0:00:01\r",
      "\u001b[K     |████████████▍                   | 296kB 2.8MB/s eta 0:00:01\r",
      "\u001b[K     |████████████▉                   | 307kB 2.8MB/s eta 0:00:01\r",
      "\u001b[K     |█████████████▏                  | 317kB 2.8MB/s eta 0:00:01\r",
      "\u001b[K     |█████████████▋                  | 327kB 2.8MB/s eta 0:00:01\r",
      "\u001b[K     |██████████████                  | 337kB 2.8MB/s eta 0:00:01\r",
      "\u001b[K     |██████████████▌                 | 348kB 2.8MB/s eta 0:00:01\r",
      "\u001b[K     |███████████████                 | 358kB 2.8MB/s eta 0:00:01\r",
      "\u001b[K     |███████████████▍                | 368kB 2.8MB/s eta 0:00:01\r",
      "\u001b[K     |███████████████▊                | 378kB 2.8MB/s eta 0:00:01\r",
      "\u001b[K     |████████████████▏               | 389kB 2.8MB/s eta 0:00:01\r",
      "\u001b[K     |████████████████▋               | 399kB 2.8MB/s eta 0:00:01\r",
      "\u001b[K     |█████████████████               | 409kB 2.8MB/s eta 0:00:01\r",
      "\u001b[K     |█████████████████▌              | 419kB 2.8MB/s eta 0:00:01\r",
      "\u001b[K     |██████████████████              | 430kB 2.8MB/s eta 0:00:01\r",
      "\u001b[K     |██████████████████▎             | 440kB 2.8MB/s eta 0:00:01\r",
      "\u001b[K     |██████████████████▊             | 450kB 2.8MB/s eta 0:00:01\r",
      "\u001b[K     |███████████████████▏            | 460kB 2.8MB/s eta 0:00:01\r",
      "\u001b[K     |███████████████████▋            | 471kB 2.8MB/s eta 0:00:01\r",
      "\u001b[K     |████████████████████            | 481kB 2.8MB/s eta 0:00:01\r",
      "\u001b[K     |████████████████████▌           | 491kB 2.8MB/s eta 0:00:01\r",
      "\u001b[K     |████████████████████▉           | 501kB 2.8MB/s eta 0:00:01\r",
      "\u001b[K     |█████████████████████▎          | 512kB 2.8MB/s eta 0:00:01\r",
      "\u001b[K     |█████████████████████▊          | 522kB 2.8MB/s eta 0:00:01\r",
      "\u001b[K     |██████████████████████▏         | 532kB 2.8MB/s eta 0:00:01\r",
      "\u001b[K     |██████████████████████▋         | 542kB 2.8MB/s eta 0:00:01\r",
      "\u001b[K     |███████████████████████         | 552kB 2.8MB/s eta 0:00:01\r",
      "\u001b[K     |███████████████████████▍        | 563kB 2.8MB/s eta 0:00:01\r",
      "\u001b[K     |███████████████████████▉        | 573kB 2.8MB/s eta 0:00:01\r",
      "\u001b[K     |████████████████████████▎       | 583kB 2.8MB/s eta 0:00:01\r",
      "\u001b[K     |████████████████████████▊       | 593kB 2.8MB/s eta 0:00:01\r",
      "\u001b[K     |█████████████████████████▏      | 604kB 2.8MB/s eta 0:00:01\r",
      "\u001b[K     |█████████████████████████▋      | 614kB 2.8MB/s eta 0:00:01\r",
      "\u001b[K     |██████████████████████████      | 624kB 2.8MB/s eta 0:00:01\r",
      "\u001b[K     |██████████████████████████▍     | 634kB 2.8MB/s eta 0:00:01\r",
      "\u001b[K     |██████████████████████████▉     | 645kB 2.8MB/s eta 0:00:01\r",
      "\u001b[K     |███████████████████████████▎    | 655kB 2.8MB/s eta 0:00:01\r",
      "\u001b[K     |███████████████████████████▊    | 665kB 2.8MB/s eta 0:00:01\r",
      "\u001b[K     |████████████████████████████▏   | 675kB 2.8MB/s eta 0:00:01\r",
      "\u001b[K     |████████████████████████████▌   | 686kB 2.8MB/s eta 0:00:01\r",
      "\u001b[K     |█████████████████████████████   | 696kB 2.8MB/s eta 0:00:01\r",
      "\u001b[K     |█████████████████████████████▍  | 706kB 2.8MB/s eta 0:00:01\r",
      "\u001b[K     |█████████████████████████████▉  | 716kB 2.8MB/s eta 0:00:01\r",
      "\u001b[K     |██████████████████████████████▎ | 727kB 2.8MB/s eta 0:00:01\r",
      "\u001b[K     |██████████████████████████████▊ | 737kB 2.8MB/s eta 0:00:01\r",
      "\u001b[K     |███████████████████████████████ | 747kB 2.8MB/s eta 0:00:01\r",
      "\u001b[K     |███████████████████████████████▌| 757kB 2.8MB/s eta 0:00:01\r",
      "\u001b[K     |████████████████████████████████| 768kB 2.8MB/s eta 0:00:01\r",
      "\u001b[K     |████████████████████████████████| 778kB 2.8MB/s \n",
      "\u001b[?25hRequirement already satisfied: filelock in /usr/local/lib/python3.6/dist-packages (from transformers) (3.0.12)\n",
      "Collecting sentencepiece!=0.1.92\n",
      "\u001b[?25l  Downloading https://files.pythonhosted.org/packages/d4/a4/d0a884c4300004a78cca907a6ff9a5e9fe4f090f5d95ab341c53d28cbc58/sentencepiece-0.1.91-cp36-cp36m-manylinux1_x86_64.whl (1.1MB)\n",
      "\u001b[K     |████████████████████████████████| 1.1MB 13.9MB/s \n",
      "\u001b[?25hRequirement already satisfied: numpy in /usr/local/lib/python3.6/dist-packages (from transformers) (1.18.5)\n",
      "Collecting tokenizers==0.8.1.rc1\n",
      "\u001b[?25l  Downloading https://files.pythonhosted.org/packages/40/d0/30d5f8d221a0ed981a186c8eb986ce1c94e3a6e87f994eae9f4aa5250217/tokenizers-0.8.1rc1-cp36-cp36m-manylinux1_x86_64.whl (3.0MB)\n",
      "\u001b[K     |████████████████████████████████| 3.0MB 19.3MB/s \n",
      "\u001b[?25hRequirement already satisfied: regex!=2019.12.17 in /usr/local/lib/python3.6/dist-packages (from transformers) (2019.12.20)\n",
      "Collecting sacremoses\n",
      "\u001b[?25l  Downloading https://files.pythonhosted.org/packages/7d/34/09d19aff26edcc8eb2a01bed8e98f13a1537005d31e95233fd48216eed10/sacremoses-0.0.43.tar.gz (883kB)\n",
      "\u001b[K     |████████████████████████████████| 890kB 30.5MB/s \n",
      "\u001b[?25hRequirement already satisfied: dataclasses; python_version < \"3.7\" in /usr/local/lib/python3.6/dist-packages (from transformers) (0.7)\n",
      "Requirement already satisfied: requests in /usr/local/lib/python3.6/dist-packages (from transformers) (2.23.0)\n",
      "Requirement already satisfied: packaging in /usr/local/lib/python3.6/dist-packages (from transformers) (20.4)\n",
      "Requirement already satisfied: tqdm>=4.27 in /usr/local/lib/python3.6/dist-packages (from transformers) (4.41.1)\n",
      "Requirement already satisfied: six in /usr/local/lib/python3.6/dist-packages (from sacremoses->transformers) (1.12.0)\n",
      "Requirement already satisfied: click in /usr/local/lib/python3.6/dist-packages (from sacremoses->transformers) (7.1.2)\n",
      "Requirement already satisfied: joblib in /usr/local/lib/python3.6/dist-packages (from sacremoses->transformers) (0.16.0)\n",
      "Requirement already satisfied: idna<3,>=2.5 in /usr/local/lib/python3.6/dist-packages (from requests->transformers) (2.10)\n",
      "Requirement already satisfied: chardet<4,>=3.0.2 in /usr/local/lib/python3.6/dist-packages (from requests->transformers) (3.0.4)\n",
      "Requirement already satisfied: certifi>=2017.4.17 in /usr/local/lib/python3.6/dist-packages (from requests->transformers) (2020.6.20)\n",
      "Requirement already satisfied: urllib3!=1.25.0,!=1.25.1,<1.26,>=1.21.1 in /usr/local/lib/python3.6/dist-packages (from requests->transformers) (1.24.3)\n",
      "Requirement already satisfied: pyparsing>=2.0.2 in /usr/local/lib/python3.6/dist-packages (from packaging->transformers) (2.4.7)\n",
      "Building wheels for collected packages: sacremoses\n",
      "  Building wheel for sacremoses (setup.py) ... \u001b[?25l\u001b[?25hdone\n",
      "  Created wheel for sacremoses: filename=sacremoses-0.0.43-cp36-none-any.whl size=893260 sha256=61886e0644ac143fe3e01501ed07dbf916dd7e58104842f2e6abb37414862d16\n",
      "  Stored in directory: /root/.cache/pip/wheels/29/3c/fd/7ce5c3f0666dab31a50123635e6fb5e19ceb42ce38d4e58f45\n",
      "Successfully built sacremoses\n",
      "Installing collected packages: sentencepiece, tokenizers, sacremoses, transformers\n",
      "Successfully installed sacremoses-0.0.43 sentencepiece-0.1.91 tokenizers-0.8.1rc1 transformers-3.0.2\n"
     ]
    }
   ],
   "source": [
    "import pandas as pd\n",
    "import numpy as np\n",
    "import matplotlib.pyplot as plt\n",
    "import seaborn as sns\n",
    "from tqdm.notebook import tqdm\n",
    "import re\n",
    "import warnings\n",
    "warnings.filterwarnings('ignore')\n",
    "!pip install transformers"
   ]
  },
  {
   "cell_type": "code",
   "execution_count": null,
   "metadata": {
    "colab": {},
    "colab_type": "code",
    "id": "Sk0MdHSj6SIu"
   },
   "outputs": [],
   "source": [
    "# Acquiring preprocessed_dataset\n",
    "tbs_df = pd.read_csv('/content/drive/My Drive/AAIC Course/Personal case study - StackOverflow/tbs_df.csv')\n",
    "tbs_df = tbs_df.fillna(' ')"
   ]
  },
  {
   "cell_type": "code",
   "execution_count": null,
   "metadata": {
    "colab": {
     "base_uri": "https://localhost:8080/",
     "height": 50
    },
    "colab_type": "code",
    "id": "82GL8gprCmOo",
    "outputId": "c5ee62e8-dd86-4555-e2c9-e62e7308bd03"
   },
   "outputs": [
    {
     "name": "stdout",
     "output_type": "stream",
     "text": [
      "[nltk_data] Downloading package stopwords to /root/nltk_data...\n",
      "[nltk_data]   Unzipping corpora/stopwords.zip.\n"
     ]
    }
   ],
   "source": [
    "# defining a function to remove stop_words\n",
    "import nltk\n",
    "from nltk.corpus import stopwords\n",
    "nltk.download('stopwords')\n",
    "stop_words = set(stopwords.words('english'))\n",
    "stop_words.add('would')\n",
    "stop_words.update([chr(c) for c in range(97, 123)])\n",
    "# stop_words.remove('no'); stop_words.remove('not'); stop_words.remove('nor')\n",
    "\n",
    "def stopwrd_removal(sent):\n",
    "  lst = []\n",
    "  for wrd in sent.split():\n",
    "    if wrd not in stop_words:\n",
    "      lst.append(wrd)\n",
    "  return \" \".join(lst)"
   ]
  },
  {
   "cell_type": "markdown",
   "metadata": {},
   "source": [
    "**Note: BERT can handle stopwords and digits by its own way, hence I am not removing them**"
   ]
  },
  {
   "cell_type": "code",
   "execution_count": null,
   "metadata": {
    "colab": {},
    "colab_type": "code",
    "id": "Nx7gMPbx6ejV"
   },
   "outputs": [],
   "source": [
    "def text_preprocessor(column):\n",
    "  \"\"\"pass any column with Text in it from tbs_df | Note: returns nothing makes inplace changes in tbs_df\"\"\"\n",
    "  # 1. remove html tags, html urls, replace html comparison operators\n",
    "  text = tbs_df[column].values\n",
    "  tbs_df[column] = [re.sub('<.*?>', '', i) for i in text]\n",
    "  tbs_df[column] = tbs_df[column].str.replace('&lt;', '<')\\\n",
    "                                          .str.replace('&gt;', '>')\\\n",
    "                                          .str.replace('&le;', '<=' )\\\n",
    "                                          .str.replace('&ge;', '>=')\n",
    "\n",
    "  # 2. remove latex i,e., mostly formulas since it's mathematics based dataset\n",
    "  tbs_df[column] = [re.sub('\\$.*?\\$', '', i) for i in text]\n",
    "\n",
    "  # 3. all lowercase \n",
    "  tbs_df[column] = tbs_df[column].str.lower()\n",
    "\n",
    "  # 4. decontractions\n",
    "  tbs_df[column] = tbs_df[column].str.replace(\"won't\", \"will not\").str.replace(\"can\\'t\", \"can not\").str.replace(\"n\\'t\", \" not\").str.replace(\"\\'re\", \" are\").str.\\\n",
    "                                                replace(\"\\'s\", \" is\").str.replace(\"\\'d\", \" would\").str.replace(\"\\'ll\", \" will\").str.\\\n",
    "                                                replace(\"\\'t\", \" not\").str.replace(\"\\'ve\", \" have\").str.replace(\"\\'m\", \" am\")\n",
    "\n",
    "  # 5. remove all special-characters other than alpha-numericals\n",
    "  tbs_df[column] = [re.sub('\\W', ' ', i) for i in text]\n",
    "  # # remove all digits\n",
    "  # tbs_df[column] = [re.sub('\\d', ' ', i) for i in text]\n",
    "\n",
    "  # 6. Stop_word removal\n",
    "  # tbs_df[column] = [stopwrd_removal(i) for i in text]\n",
    "\n",
    "  # 7. remove all white-space i.e., \\n, \\t, and extra_spaces\n",
    "  tbs_df[column] = [re.sub('  +', ' ', i) for i in text]\n",
    "  tbs_df[column] = tbs_df[column].str.replace(\"\\n\", \" \").str.replace(\"\\t\", \" \").str.strip()\n",
    "  "
   ]
  },
  {
   "cell_type": "code",
   "execution_count": null,
   "metadata": {
    "colab": {
     "base_uri": "https://localhost:8080/",
     "height": 33
    },
    "colab_type": "code",
    "id": "SaTCGTzP6xeg",
    "outputId": "50da9d5a-9d2e-46d9-e627-507933dac91f"
   },
   "outputs": [
    {
     "data": {
      "text/plain": [
       "182039"
      ]
     },
     "execution_count": 6,
     "metadata": {
      "tags": []
     },
     "output_type": "execute_result"
    }
   ],
   "source": [
    "# 1. train_test split\n",
    "\n",
    "tbs_df['Title_1'] = tbs_df['Title']\n",
    "text_preprocessor('Title_1')\n",
    "title = tbs_df['Title_1'].values\n",
    "len(title)"
   ]
  },
  {
   "cell_type": "code",
   "execution_count": null,
   "metadata": {
    "colab": {
     "base_uri": "https://localhost:8080/",
     "height": 183
    },
    "colab_type": "code",
    "id": "dq9M7ls_9vlU",
    "outputId": "002c1427-a095-48a3-d166-44eee6142845"
   },
   "outputs": [
    {
     "data": {
      "text/plain": [
       "(array(['euler cycles in biconnected components',\n",
       "        'can two neighbors in a graph be at the same depth in a dfs tree',\n",
       "        'unique path in a directed graph',\n",
       "        'what do you call an average that does not include outliers',\n",
       "        'correcting for outliers in a running average'], dtype=object),\n",
       " array(['Euler cycles in biconnected components',\n",
       "        'Can two neighbors in a graph be at the same depth in a DFS tree?',\n",
       "        'Unique path in a directed graph',\n",
       "        'What do you call an average that does not include outliers?',\n",
       "        'Correcting for outliers in a running average'], dtype=object))"
      ]
     },
     "execution_count": 9,
     "metadata": {
      "tags": []
     },
     "output_type": "execute_result"
    }
   ],
   "source": [
    "final_train = title\n",
    "final_train[:5], tbs_df['Title'].values[:5]"
   ]
  },
  {
   "cell_type": "markdown",
   "metadata": {
    "colab_type": "text",
    "id": "ywZ_U26WUUfJ"
   },
   "source": [
    "# 1. BERT Embeddings : Using Huggingface"
   ]
  },
  {
   "cell_type": "code",
   "execution_count": null,
   "metadata": {
    "colab": {
     "base_uri": "https://localhost:8080/",
     "height": 266,
     "referenced_widgets": [
      "3ac99519ba01414983677ca80e9a0982",
      "e6c07f4570fd464e8677a77550ce8234",
      "4d312a08cd514d2c8cd8e94f190ecad4",
      "756ca0407bba45068617b90eee94da1b",
      "06f9820cd8e3456fa016ffc2bb0d208e",
      "eeb91be1c1794b83af2426ab01159486",
      "8377ee3321694675877b1245012d28ca",
      "1a305ef89f134e4f8e827ffb90a391ca",
      "26e02d4a1e614f4f8b7908da6659a292",
      "6bb3efadbc98467d8acb2ab9ef8939bf",
      "d3e58d1153cb4f72968bbba76772ae38",
      "bcc5de6d54c54528b2fddbcfb368818d",
      "b0a75250cdf1474e8fbd4f38c8f894cd",
      "c64568fdca17460493d11b033bbe53f9",
      "8f1e2a914ba64ea5a653533ed1a9e064",
      "22f3a931ddc545d29d58c243a3363901",
      "029d01acabd440eaaa2578c7b13db53b",
      "1417ae780c1e40899c9f7d25bc1ba188",
      "354a46ffceb6425bb01483d40b829309",
      "3d40562b97194f6fb3682b105ded7e52",
      "09f2ddbbf007428ab3f61e2efe1648ae",
      "3d81512f8c49402dacfbaa07f9f66d7f",
      "96ea3087df3d4f33a7447fe9610c7f1c",
      "415314494882462dad7b7ddc86c773c4"
     ]
    },
    "colab_type": "code",
    "id": "UTIBJF6NVMmC",
    "outputId": "6ecbb9cd-0113-4ce5-c798-7ea482882541"
   },
   "outputs": [
    {
     "data": {
      "application/vnd.jupyter.widget-view+json": {
       "model_id": "3ac99519ba01414983677ca80e9a0982",
       "version_major": 2,
       "version_minor": 0
      },
      "text/plain": [
       "HBox(children=(FloatProgress(value=0.0, description='Downloading', max=231508.0, style=ProgressStyle(descripti…"
      ]
     },
     "metadata": {
      "tags": []
     },
     "output_type": "display_data"
    },
    {
     "name": "stdout",
     "output_type": "stream",
     "text": [
      "\n"
     ]
    },
    {
     "data": {
      "application/vnd.jupyter.widget-view+json": {
       "model_id": "26e02d4a1e614f4f8b7908da6659a292",
       "version_major": 2,
       "version_minor": 0
      },
      "text/plain": [
       "HBox(children=(FloatProgress(value=0.0, description='Downloading', max=433.0, style=ProgressStyle(description_…"
      ]
     },
     "metadata": {
      "tags": []
     },
     "output_type": "display_data"
    },
    {
     "name": "stdout",
     "output_type": "stream",
     "text": [
      "\n"
     ]
    },
    {
     "data": {
      "application/vnd.jupyter.widget-view+json": {
       "model_id": "029d01acabd440eaaa2578c7b13db53b",
       "version_major": 2,
       "version_minor": 0
      },
      "text/plain": [
       "HBox(children=(FloatProgress(value=0.0, description='Downloading', max=536063208.0, style=ProgressStyle(descri…"
      ]
     },
     "metadata": {
      "tags": []
     },
     "output_type": "display_data"
    },
    {
     "name": "stdout",
     "output_type": "stream",
     "text": [
      "\n"
     ]
    },
    {
     "name": "stderr",
     "output_type": "stream",
     "text": [
      "Some weights of the model checkpoint at bert-base-uncased were not used when initializing TFBertModel: ['mlm___cls', 'nsp___cls']\n",
      "- This IS expected if you are initializing TFBertModel from the checkpoint of a model trained on another task or with another architecture (e.g. initializing a BertForSequenceClassification model from a BertForPretraining model).\n",
      "- This IS NOT expected if you are initializing TFBertModel from the checkpoint of a model that you expect to be exactly identical (initializing a BertForSequenceClassification model from a BertForSequenceClassification model).\n",
      "All the weights of TFBertModel were initialized from the model checkpoint at bert-base-uncased.\n",
      "If your task is similar to the task the model of the ckeckpoint was trained on, you can already use TFBertModel for predictions without further training.\n"
     ]
    }
   ],
   "source": [
    "import tensorflow as tf\n",
    "from transformers import BertTokenizer, TFBertModel\n",
    "\n",
    "# Load pretrained model/tokenizer\n",
    "\n",
    "bert_tokenizer = BertTokenizer.from_pretrained('bert-base-uncased')\n",
    "bert_model = TFBertModel.from_pretrained('bert-base-uncased')"
   ]
  },
  {
   "cell_type": "code",
   "execution_count": null,
   "metadata": {
    "colab": {
     "base_uri": "https://localhost:8080/",
     "height": 33
    },
    "colab_type": "code",
    "id": "55A0vGVKMF0Y",
    "outputId": "a1c99dae-a563-47cb-95d5-e4a69cb93886"
   },
   "outputs": [
    {
     "data": {
      "text/plain": [
       "((182039, 44), (182039, 44), (182039, 44))"
      ]
     },
     "execution_count": 13,
     "metadata": {
      "tags": []
     },
     "output_type": "execute_result"
    }
   ],
   "source": [
    "tokens = bert_tokenizer.batch_encode_plus(final_train, pad_to_max_length = True)\n",
    "# tokens = bert_tokenizer.batch_encode_plus(final_train, max_length = 50, truncation = True, pad_to_max_length = True)\n",
    "\n",
    "input_ids  = np.array(tokens['input_ids'])\n",
    "attn_mask = np.array(tokens['attention_mask'])\n",
    "token_typ_ids = np.array(tokens['token_type_ids'])\n",
    "seq_len = input_ids.shape[1]\n",
    "\n",
    "input_ids.shape, attn_mask.shape, token_typ_ids.shape"
   ]
  },
  {
   "cell_type": "code",
   "execution_count": null,
   "metadata": {
    "colab": {},
    "colab_type": "code",
    "id": "xlplVNo7xFMh"
   },
   "outputs": [],
   "source": [
    "import tensorflow as tf\n",
    "tf.compat.v1.enable_eager_execution()\n",
    "from tensorflow.keras.layers import Input\n",
    "from tensorflow.keras.models import Model"
   ]
  },
  {
   "cell_type": "code",
   "execution_count": null,
   "metadata": {
    "colab": {
     "base_uri": "https://localhost:8080/",
     "height": 350
    },
    "colab_type": "code",
    "id": "GG_boDZlw8TA",
    "outputId": "bd69a8cc-56f1-4453-ac23-10643b7de1bf"
   },
   "outputs": [
    {
     "name": "stdout",
     "output_type": "stream",
     "text": [
      "Model: \"model\"\n",
      "__________________________________________________________________________________________________\n",
      "Layer (type)                    Output Shape         Param #     Connected to                     \n",
      "==================================================================================================\n",
      "bert_attn_mask (InputLayer)     [(None, 44)]         0                                            \n",
      "__________________________________________________________________________________________________\n",
      "bert_input_ids (InputLayer)     [(None, 44)]         0                                            \n",
      "__________________________________________________________________________________________________\n",
      "bert_token_typ (InputLayer)     [(None, 44)]         0                                            \n",
      "__________________________________________________________________________________________________\n",
      "tf_bert_model (TFBertModel)     ((None, 44, 768), (N 109482240   bert_attn_mask[0][0]             \n",
      "                                                                 bert_input_ids[0][0]             \n",
      "                                                                 bert_token_typ[0][0]             \n",
      "__________________________________________________________________________________________________\n",
      "tf_op_layer_strided_slice (Tens [(None, 768)]        0           tf_bert_model[0][0]              \n",
      "==================================================================================================\n",
      "Total params: 109,482,240\n",
      "Trainable params: 109,482,240\n",
      "Non-trainable params: 0\n",
      "__________________________________________________________________________________________________\n"
     ]
    }
   ],
   "source": [
    "# 1. defining a BERT model\n",
    "bert_input_ids = Input(name = 'bert_input_ids', shape = (seq_len,), dtype = 'int64')\n",
    "bert_attn_mask = Input(name = 'bert_attn_mask', shape = (seq_len,), dtype = 'int64')\n",
    "bert_token_typ = Input(name = 'bert_token_typ', shape = (seq_len,), dtype = 'int64')\n",
    "\n",
    "bert_output = bert_model({'input_ids': bert_input_ids, 'attention_mask' : bert_attn_mask, 'token_type_ids': bert_token_typ})\n",
    "\n",
    "bert_output = bert_output[0][:,0,:]\n",
    "# bert_output = bert_output[1][:]\n",
    "# bert_output = tf.concat([bert_output[-1][:,0,:], bert_output[-2][:,0,:], bert_output[-3][:,0,:], bert_output[-4][:,0,:]], axis = -1)[0]\n",
    "\n",
    "BERT = Model(inputs = [bert_input_ids, bert_attn_mask, bert_token_typ], outputs = bert_output)\n",
    "BERT.summary()"
   ]
  },
  {
   "cell_type": "code",
   "execution_count": null,
   "metadata": {
    "colab": {
     "base_uri": "https://localhost:8080/",
     "height": 66
    },
    "colab_type": "code",
    "id": "PxOBBTFoCAk1",
    "outputId": "8d79a231-b25d-4bda-b08e-54d72d30f75e"
   },
   "outputs": [
    {
     "name": "stdout",
     "output_type": "stream",
     "text": [
      "(182039, 768)\n",
      "CPU times: user 2min 24s, sys: 49.7 s, total: 3min 13s\n",
      "Wall time: 15min 56s\n"
     ]
    }
   ],
   "source": [
    "%%time\n",
    "bert_out = BERT.predict([input_ids, attn_mask, token_typ_ids], batch_size= 128)\n",
    "print(bert_out.shape)"
   ]
  },
  {
   "cell_type": "code",
   "execution_count": null,
   "metadata": {
    "colab": {},
    "colab_type": "code",
    "id": "ekGx8n0c6ISd"
   },
   "outputs": [],
   "source": [
    "np.save('/content/drive/My Drive/AAIC Course/Personal case study - StackOverflow/bert_train_out.npy', bert_out)"
   ]
  }
 ],
 "metadata": {
  "accelerator": "GPU",
  "colab": {
   "collapsed_sections": [],
   "name": "5.1. BERT Sentence Embedding.ipynb",
   "provenance": []
  },
  "kernelspec": {
   "display_name": "Python 3",
   "language": "python",
   "name": "python3"
  },
  "language_info": {
   "codemirror_mode": {
    "name": "ipython",
    "version": 3
   },
   "file_extension": ".py",
   "mimetype": "text/x-python",
   "name": "python",
   "nbconvert_exporter": "python",
   "pygments_lexer": "ipython3",
   "version": "3.7.3"
  },
  "widgets": {
   "application/vnd.jupyter.widget-state+json": {
    "029d01acabd440eaaa2578c7b13db53b": {
     "model_module": "@jupyter-widgets/controls",
     "model_name": "HBoxModel",
     "state": {
      "_dom_classes": [],
      "_model_module": "@jupyter-widgets/controls",
      "_model_module_version": "1.5.0",
      "_model_name": "HBoxModel",
      "_view_count": null,
      "_view_module": "@jupyter-widgets/controls",
      "_view_module_version": "1.5.0",
      "_view_name": "HBoxView",
      "box_style": "",
      "children": [
       "IPY_MODEL_354a46ffceb6425bb01483d40b829309",
       "IPY_MODEL_3d40562b97194f6fb3682b105ded7e52"
      ],
      "layout": "IPY_MODEL_1417ae780c1e40899c9f7d25bc1ba188"
     }
    },
    "06f9820cd8e3456fa016ffc2bb0d208e": {
     "model_module": "@jupyter-widgets/controls",
     "model_name": "ProgressStyleModel",
     "state": {
      "_model_module": "@jupyter-widgets/controls",
      "_model_module_version": "1.5.0",
      "_model_name": "ProgressStyleModel",
      "_view_count": null,
      "_view_module": "@jupyter-widgets/base",
      "_view_module_version": "1.2.0",
      "_view_name": "StyleView",
      "bar_color": null,
      "description_width": "initial"
     }
    },
    "09f2ddbbf007428ab3f61e2efe1648ae": {
     "model_module": "@jupyter-widgets/controls",
     "model_name": "ProgressStyleModel",
     "state": {
      "_model_module": "@jupyter-widgets/controls",
      "_model_module_version": "1.5.0",
      "_model_name": "ProgressStyleModel",
      "_view_count": null,
      "_view_module": "@jupyter-widgets/base",
      "_view_module_version": "1.2.0",
      "_view_name": "StyleView",
      "bar_color": null,
      "description_width": "initial"
     }
    },
    "1417ae780c1e40899c9f7d25bc1ba188": {
     "model_module": "@jupyter-widgets/base",
     "model_name": "LayoutModel",
     "state": {
      "_model_module": "@jupyter-widgets/base",
      "_model_module_version": "1.2.0",
      "_model_name": "LayoutModel",
      "_view_count": null,
      "_view_module": "@jupyter-widgets/base",
      "_view_module_version": "1.2.0",
      "_view_name": "LayoutView",
      "align_content": null,
      "align_items": null,
      "align_self": null,
      "border": null,
      "bottom": null,
      "display": null,
      "flex": null,
      "flex_flow": null,
      "grid_area": null,
      "grid_auto_columns": null,
      "grid_auto_flow": null,
      "grid_auto_rows": null,
      "grid_column": null,
      "grid_gap": null,
      "grid_row": null,
      "grid_template_areas": null,
      "grid_template_columns": null,
      "grid_template_rows": null,
      "height": null,
      "justify_content": null,
      "justify_items": null,
      "left": null,
      "margin": null,
      "max_height": null,
      "max_width": null,
      "min_height": null,
      "min_width": null,
      "object_fit": null,
      "object_position": null,
      "order": null,
      "overflow": null,
      "overflow_x": null,
      "overflow_y": null,
      "padding": null,
      "right": null,
      "top": null,
      "visibility": null,
      "width": null
     }
    },
    "1a305ef89f134e4f8e827ffb90a391ca": {
     "model_module": "@jupyter-widgets/base",
     "model_name": "LayoutModel",
     "state": {
      "_model_module": "@jupyter-widgets/base",
      "_model_module_version": "1.2.0",
      "_model_name": "LayoutModel",
      "_view_count": null,
      "_view_module": "@jupyter-widgets/base",
      "_view_module_version": "1.2.0",
      "_view_name": "LayoutView",
      "align_content": null,
      "align_items": null,
      "align_self": null,
      "border": null,
      "bottom": null,
      "display": null,
      "flex": null,
      "flex_flow": null,
      "grid_area": null,
      "grid_auto_columns": null,
      "grid_auto_flow": null,
      "grid_auto_rows": null,
      "grid_column": null,
      "grid_gap": null,
      "grid_row": null,
      "grid_template_areas": null,
      "grid_template_columns": null,
      "grid_template_rows": null,
      "height": null,
      "justify_content": null,
      "justify_items": null,
      "left": null,
      "margin": null,
      "max_height": null,
      "max_width": null,
      "min_height": null,
      "min_width": null,
      "object_fit": null,
      "object_position": null,
      "order": null,
      "overflow": null,
      "overflow_x": null,
      "overflow_y": null,
      "padding": null,
      "right": null,
      "top": null,
      "visibility": null,
      "width": null
     }
    },
    "22f3a931ddc545d29d58c243a3363901": {
     "model_module": "@jupyter-widgets/base",
     "model_name": "LayoutModel",
     "state": {
      "_model_module": "@jupyter-widgets/base",
      "_model_module_version": "1.2.0",
      "_model_name": "LayoutModel",
      "_view_count": null,
      "_view_module": "@jupyter-widgets/base",
      "_view_module_version": "1.2.0",
      "_view_name": "LayoutView",
      "align_content": null,
      "align_items": null,
      "align_self": null,
      "border": null,
      "bottom": null,
      "display": null,
      "flex": null,
      "flex_flow": null,
      "grid_area": null,
      "grid_auto_columns": null,
      "grid_auto_flow": null,
      "grid_auto_rows": null,
      "grid_column": null,
      "grid_gap": null,
      "grid_row": null,
      "grid_template_areas": null,
      "grid_template_columns": null,
      "grid_template_rows": null,
      "height": null,
      "justify_content": null,
      "justify_items": null,
      "left": null,
      "margin": null,
      "max_height": null,
      "max_width": null,
      "min_height": null,
      "min_width": null,
      "object_fit": null,
      "object_position": null,
      "order": null,
      "overflow": null,
      "overflow_x": null,
      "overflow_y": null,
      "padding": null,
      "right": null,
      "top": null,
      "visibility": null,
      "width": null
     }
    },
    "26e02d4a1e614f4f8b7908da6659a292": {
     "model_module": "@jupyter-widgets/controls",
     "model_name": "HBoxModel",
     "state": {
      "_dom_classes": [],
      "_model_module": "@jupyter-widgets/controls",
      "_model_module_version": "1.5.0",
      "_model_name": "HBoxModel",
      "_view_count": null,
      "_view_module": "@jupyter-widgets/controls",
      "_view_module_version": "1.5.0",
      "_view_name": "HBoxView",
      "box_style": "",
      "children": [
       "IPY_MODEL_d3e58d1153cb4f72968bbba76772ae38",
       "IPY_MODEL_bcc5de6d54c54528b2fddbcfb368818d"
      ],
      "layout": "IPY_MODEL_6bb3efadbc98467d8acb2ab9ef8939bf"
     }
    },
    "354a46ffceb6425bb01483d40b829309": {
     "model_module": "@jupyter-widgets/controls",
     "model_name": "FloatProgressModel",
     "state": {
      "_dom_classes": [],
      "_model_module": "@jupyter-widgets/controls",
      "_model_module_version": "1.5.0",
      "_model_name": "FloatProgressModel",
      "_view_count": null,
      "_view_module": "@jupyter-widgets/controls",
      "_view_module_version": "1.5.0",
      "_view_name": "ProgressView",
      "bar_style": "success",
      "description": "Downloading: 100%",
      "description_tooltip": null,
      "layout": "IPY_MODEL_3d81512f8c49402dacfbaa07f9f66d7f",
      "max": 536063208,
      "min": 0,
      "orientation": "horizontal",
      "style": "IPY_MODEL_09f2ddbbf007428ab3f61e2efe1648ae",
      "value": 536063208
     }
    },
    "3ac99519ba01414983677ca80e9a0982": {
     "model_module": "@jupyter-widgets/controls",
     "model_name": "HBoxModel",
     "state": {
      "_dom_classes": [],
      "_model_module": "@jupyter-widgets/controls",
      "_model_module_version": "1.5.0",
      "_model_name": "HBoxModel",
      "_view_count": null,
      "_view_module": "@jupyter-widgets/controls",
      "_view_module_version": "1.5.0",
      "_view_name": "HBoxView",
      "box_style": "",
      "children": [
       "IPY_MODEL_4d312a08cd514d2c8cd8e94f190ecad4",
       "IPY_MODEL_756ca0407bba45068617b90eee94da1b"
      ],
      "layout": "IPY_MODEL_e6c07f4570fd464e8677a77550ce8234"
     }
    },
    "3d40562b97194f6fb3682b105ded7e52": {
     "model_module": "@jupyter-widgets/controls",
     "model_name": "HTMLModel",
     "state": {
      "_dom_classes": [],
      "_model_module": "@jupyter-widgets/controls",
      "_model_module_version": "1.5.0",
      "_model_name": "HTMLModel",
      "_view_count": null,
      "_view_module": "@jupyter-widgets/controls",
      "_view_module_version": "1.5.0",
      "_view_name": "HTMLView",
      "description": "",
      "description_tooltip": null,
      "layout": "IPY_MODEL_415314494882462dad7b7ddc86c773c4",
      "placeholder": "​",
      "style": "IPY_MODEL_96ea3087df3d4f33a7447fe9610c7f1c",
      "value": " 536M/536M [00:11&lt;00:00, 47.0MB/s]"
     }
    },
    "3d81512f8c49402dacfbaa07f9f66d7f": {
     "model_module": "@jupyter-widgets/base",
     "model_name": "LayoutModel",
     "state": {
      "_model_module": "@jupyter-widgets/base",
      "_model_module_version": "1.2.0",
      "_model_name": "LayoutModel",
      "_view_count": null,
      "_view_module": "@jupyter-widgets/base",
      "_view_module_version": "1.2.0",
      "_view_name": "LayoutView",
      "align_content": null,
      "align_items": null,
      "align_self": null,
      "border": null,
      "bottom": null,
      "display": null,
      "flex": null,
      "flex_flow": null,
      "grid_area": null,
      "grid_auto_columns": null,
      "grid_auto_flow": null,
      "grid_auto_rows": null,
      "grid_column": null,
      "grid_gap": null,
      "grid_row": null,
      "grid_template_areas": null,
      "grid_template_columns": null,
      "grid_template_rows": null,
      "height": null,
      "justify_content": null,
      "justify_items": null,
      "left": null,
      "margin": null,
      "max_height": null,
      "max_width": null,
      "min_height": null,
      "min_width": null,
      "object_fit": null,
      "object_position": null,
      "order": null,
      "overflow": null,
      "overflow_x": null,
      "overflow_y": null,
      "padding": null,
      "right": null,
      "top": null,
      "visibility": null,
      "width": null
     }
    },
    "415314494882462dad7b7ddc86c773c4": {
     "model_module": "@jupyter-widgets/base",
     "model_name": "LayoutModel",
     "state": {
      "_model_module": "@jupyter-widgets/base",
      "_model_module_version": "1.2.0",
      "_model_name": "LayoutModel",
      "_view_count": null,
      "_view_module": "@jupyter-widgets/base",
      "_view_module_version": "1.2.0",
      "_view_name": "LayoutView",
      "align_content": null,
      "align_items": null,
      "align_self": null,
      "border": null,
      "bottom": null,
      "display": null,
      "flex": null,
      "flex_flow": null,
      "grid_area": null,
      "grid_auto_columns": null,
      "grid_auto_flow": null,
      "grid_auto_rows": null,
      "grid_column": null,
      "grid_gap": null,
      "grid_row": null,
      "grid_template_areas": null,
      "grid_template_columns": null,
      "grid_template_rows": null,
      "height": null,
      "justify_content": null,
      "justify_items": null,
      "left": null,
      "margin": null,
      "max_height": null,
      "max_width": null,
      "min_height": null,
      "min_width": null,
      "object_fit": null,
      "object_position": null,
      "order": null,
      "overflow": null,
      "overflow_x": null,
      "overflow_y": null,
      "padding": null,
      "right": null,
      "top": null,
      "visibility": null,
      "width": null
     }
    },
    "4d312a08cd514d2c8cd8e94f190ecad4": {
     "model_module": "@jupyter-widgets/controls",
     "model_name": "FloatProgressModel",
     "state": {
      "_dom_classes": [],
      "_model_module": "@jupyter-widgets/controls",
      "_model_module_version": "1.5.0",
      "_model_name": "FloatProgressModel",
      "_view_count": null,
      "_view_module": "@jupyter-widgets/controls",
      "_view_module_version": "1.5.0",
      "_view_name": "ProgressView",
      "bar_style": "success",
      "description": "Downloading: 100%",
      "description_tooltip": null,
      "layout": "IPY_MODEL_eeb91be1c1794b83af2426ab01159486",
      "max": 231508,
      "min": 0,
      "orientation": "horizontal",
      "style": "IPY_MODEL_06f9820cd8e3456fa016ffc2bb0d208e",
      "value": 231508
     }
    },
    "6bb3efadbc98467d8acb2ab9ef8939bf": {
     "model_module": "@jupyter-widgets/base",
     "model_name": "LayoutModel",
     "state": {
      "_model_module": "@jupyter-widgets/base",
      "_model_module_version": "1.2.0",
      "_model_name": "LayoutModel",
      "_view_count": null,
      "_view_module": "@jupyter-widgets/base",
      "_view_module_version": "1.2.0",
      "_view_name": "LayoutView",
      "align_content": null,
      "align_items": null,
      "align_self": null,
      "border": null,
      "bottom": null,
      "display": null,
      "flex": null,
      "flex_flow": null,
      "grid_area": null,
      "grid_auto_columns": null,
      "grid_auto_flow": null,
      "grid_auto_rows": null,
      "grid_column": null,
      "grid_gap": null,
      "grid_row": null,
      "grid_template_areas": null,
      "grid_template_columns": null,
      "grid_template_rows": null,
      "height": null,
      "justify_content": null,
      "justify_items": null,
      "left": null,
      "margin": null,
      "max_height": null,
      "max_width": null,
      "min_height": null,
      "min_width": null,
      "object_fit": null,
      "object_position": null,
      "order": null,
      "overflow": null,
      "overflow_x": null,
      "overflow_y": null,
      "padding": null,
      "right": null,
      "top": null,
      "visibility": null,
      "width": null
     }
    },
    "756ca0407bba45068617b90eee94da1b": {
     "model_module": "@jupyter-widgets/controls",
     "model_name": "HTMLModel",
     "state": {
      "_dom_classes": [],
      "_model_module": "@jupyter-widgets/controls",
      "_model_module_version": "1.5.0",
      "_model_name": "HTMLModel",
      "_view_count": null,
      "_view_module": "@jupyter-widgets/controls",
      "_view_module_version": "1.5.0",
      "_view_name": "HTMLView",
      "description": "",
      "description_tooltip": null,
      "layout": "IPY_MODEL_1a305ef89f134e4f8e827ffb90a391ca",
      "placeholder": "​",
      "style": "IPY_MODEL_8377ee3321694675877b1245012d28ca",
      "value": " 232k/232k [00:00&lt;00:00, 393kB/s]"
     }
    },
    "8377ee3321694675877b1245012d28ca": {
     "model_module": "@jupyter-widgets/controls",
     "model_name": "DescriptionStyleModel",
     "state": {
      "_model_module": "@jupyter-widgets/controls",
      "_model_module_version": "1.5.0",
      "_model_name": "DescriptionStyleModel",
      "_view_count": null,
      "_view_module": "@jupyter-widgets/base",
      "_view_module_version": "1.2.0",
      "_view_name": "StyleView",
      "description_width": ""
     }
    },
    "8f1e2a914ba64ea5a653533ed1a9e064": {
     "model_module": "@jupyter-widgets/controls",
     "model_name": "DescriptionStyleModel",
     "state": {
      "_model_module": "@jupyter-widgets/controls",
      "_model_module_version": "1.5.0",
      "_model_name": "DescriptionStyleModel",
      "_view_count": null,
      "_view_module": "@jupyter-widgets/base",
      "_view_module_version": "1.2.0",
      "_view_name": "StyleView",
      "description_width": ""
     }
    },
    "96ea3087df3d4f33a7447fe9610c7f1c": {
     "model_module": "@jupyter-widgets/controls",
     "model_name": "DescriptionStyleModel",
     "state": {
      "_model_module": "@jupyter-widgets/controls",
      "_model_module_version": "1.5.0",
      "_model_name": "DescriptionStyleModel",
      "_view_count": null,
      "_view_module": "@jupyter-widgets/base",
      "_view_module_version": "1.2.0",
      "_view_name": "StyleView",
      "description_width": ""
     }
    },
    "b0a75250cdf1474e8fbd4f38c8f894cd": {
     "model_module": "@jupyter-widgets/controls",
     "model_name": "ProgressStyleModel",
     "state": {
      "_model_module": "@jupyter-widgets/controls",
      "_model_module_version": "1.5.0",
      "_model_name": "ProgressStyleModel",
      "_view_count": null,
      "_view_module": "@jupyter-widgets/base",
      "_view_module_version": "1.2.0",
      "_view_name": "StyleView",
      "bar_color": null,
      "description_width": "initial"
     }
    },
    "bcc5de6d54c54528b2fddbcfb368818d": {
     "model_module": "@jupyter-widgets/controls",
     "model_name": "HTMLModel",
     "state": {
      "_dom_classes": [],
      "_model_module": "@jupyter-widgets/controls",
      "_model_module_version": "1.5.0",
      "_model_name": "HTMLModel",
      "_view_count": null,
      "_view_module": "@jupyter-widgets/controls",
      "_view_module_version": "1.5.0",
      "_view_name": "HTMLView",
      "description": "",
      "description_tooltip": null,
      "layout": "IPY_MODEL_22f3a931ddc545d29d58c243a3363901",
      "placeholder": "​",
      "style": "IPY_MODEL_8f1e2a914ba64ea5a653533ed1a9e064",
      "value": " 433/433 [00:11&lt;00:00, 36.4B/s]"
     }
    },
    "c64568fdca17460493d11b033bbe53f9": {
     "model_module": "@jupyter-widgets/base",
     "model_name": "LayoutModel",
     "state": {
      "_model_module": "@jupyter-widgets/base",
      "_model_module_version": "1.2.0",
      "_model_name": "LayoutModel",
      "_view_count": null,
      "_view_module": "@jupyter-widgets/base",
      "_view_module_version": "1.2.0",
      "_view_name": "LayoutView",
      "align_content": null,
      "align_items": null,
      "align_self": null,
      "border": null,
      "bottom": null,
      "display": null,
      "flex": null,
      "flex_flow": null,
      "grid_area": null,
      "grid_auto_columns": null,
      "grid_auto_flow": null,
      "grid_auto_rows": null,
      "grid_column": null,
      "grid_gap": null,
      "grid_row": null,
      "grid_template_areas": null,
      "grid_template_columns": null,
      "grid_template_rows": null,
      "height": null,
      "justify_content": null,
      "justify_items": null,
      "left": null,
      "margin": null,
      "max_height": null,
      "max_width": null,
      "min_height": null,
      "min_width": null,
      "object_fit": null,
      "object_position": null,
      "order": null,
      "overflow": null,
      "overflow_x": null,
      "overflow_y": null,
      "padding": null,
      "right": null,
      "top": null,
      "visibility": null,
      "width": null
     }
    },
    "d3e58d1153cb4f72968bbba76772ae38": {
     "model_module": "@jupyter-widgets/controls",
     "model_name": "FloatProgressModel",
     "state": {
      "_dom_classes": [],
      "_model_module": "@jupyter-widgets/controls",
      "_model_module_version": "1.5.0",
      "_model_name": "FloatProgressModel",
      "_view_count": null,
      "_view_module": "@jupyter-widgets/controls",
      "_view_module_version": "1.5.0",
      "_view_name": "ProgressView",
      "bar_style": "success",
      "description": "Downloading: 100%",
      "description_tooltip": null,
      "layout": "IPY_MODEL_c64568fdca17460493d11b033bbe53f9",
      "max": 433,
      "min": 0,
      "orientation": "horizontal",
      "style": "IPY_MODEL_b0a75250cdf1474e8fbd4f38c8f894cd",
      "value": 433
     }
    },
    "e6c07f4570fd464e8677a77550ce8234": {
     "model_module": "@jupyter-widgets/base",
     "model_name": "LayoutModel",
     "state": {
      "_model_module": "@jupyter-widgets/base",
      "_model_module_version": "1.2.0",
      "_model_name": "LayoutModel",
      "_view_count": null,
      "_view_module": "@jupyter-widgets/base",
      "_view_module_version": "1.2.0",
      "_view_name": "LayoutView",
      "align_content": null,
      "align_items": null,
      "align_self": null,
      "border": null,
      "bottom": null,
      "display": null,
      "flex": null,
      "flex_flow": null,
      "grid_area": null,
      "grid_auto_columns": null,
      "grid_auto_flow": null,
      "grid_auto_rows": null,
      "grid_column": null,
      "grid_gap": null,
      "grid_row": null,
      "grid_template_areas": null,
      "grid_template_columns": null,
      "grid_template_rows": null,
      "height": null,
      "justify_content": null,
      "justify_items": null,
      "left": null,
      "margin": null,
      "max_height": null,
      "max_width": null,
      "min_height": null,
      "min_width": null,
      "object_fit": null,
      "object_position": null,
      "order": null,
      "overflow": null,
      "overflow_x": null,
      "overflow_y": null,
      "padding": null,
      "right": null,
      "top": null,
      "visibility": null,
      "width": null
     }
    },
    "eeb91be1c1794b83af2426ab01159486": {
     "model_module": "@jupyter-widgets/base",
     "model_name": "LayoutModel",
     "state": {
      "_model_module": "@jupyter-widgets/base",
      "_model_module_version": "1.2.0",
      "_model_name": "LayoutModel",
      "_view_count": null,
      "_view_module": "@jupyter-widgets/base",
      "_view_module_version": "1.2.0",
      "_view_name": "LayoutView",
      "align_content": null,
      "align_items": null,
      "align_self": null,
      "border": null,
      "bottom": null,
      "display": null,
      "flex": null,
      "flex_flow": null,
      "grid_area": null,
      "grid_auto_columns": null,
      "grid_auto_flow": null,
      "grid_auto_rows": null,
      "grid_column": null,
      "grid_gap": null,
      "grid_row": null,
      "grid_template_areas": null,
      "grid_template_columns": null,
      "grid_template_rows": null,
      "height": null,
      "justify_content": null,
      "justify_items": null,
      "left": null,
      "margin": null,
      "max_height": null,
      "max_width": null,
      "min_height": null,
      "min_width": null,
      "object_fit": null,
      "object_position": null,
      "order": null,
      "overflow": null,
      "overflow_x": null,
      "overflow_y": null,
      "padding": null,
      "right": null,
      "top": null,
      "visibility": null,
      "width": null
     }
    }
   }
  }
 },
 "nbformat": 4,
 "nbformat_minor": 1
}
