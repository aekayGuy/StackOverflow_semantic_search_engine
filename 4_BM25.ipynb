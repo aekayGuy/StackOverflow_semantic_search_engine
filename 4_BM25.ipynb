{
 "cells": [
  {
   "cell_type": "code",
   "execution_count": 1,
   "metadata": {
    "colab": {
     "base_uri": "https://localhost:8080/",
     "height": 100
    },
    "colab_type": "code",
    "id": "uY-gfXWlGB-R",
    "outputId": "7b808231-7de3-4f4f-ad12-ade815739632"
   },
   "outputs": [
    {
     "name": "stdout",
     "output_type": "stream",
     "text": [
      "Collecting rank-bm25\n",
      "  Downloading https://files.pythonhosted.org/packages/16/5a/23ed3132063a0684ea66fb410260c71c4ffda3b99f8f1c021d1e245401b5/rank_bm25-0.2.1-py3-none-any.whl\n",
      "Requirement already satisfied: numpy in /usr/local/lib/python3.6/dist-packages (from rank-bm25) (1.18.5)\n",
      "Installing collected packages: rank-bm25\n",
      "Successfully installed rank-bm25-0.2.1\n"
     ]
    }
   ],
   "source": [
    "import pandas as pd\n",
    "import numpy as np\n",
    "import matplotlib.pyplot as plt\n",
    "import re\n",
    "\n",
    "import warnings\n",
    "warnings.filterwarnings('ignore')\n",
    "!pip install rank-bm25"
   ]
  },
  {
   "cell_type": "code",
   "execution_count": 2,
   "metadata": {
    "colab": {},
    "colab_type": "code",
    "id": "Sk0MdHSj6SIu"
   },
   "outputs": [],
   "source": [
    "# Acquiring preprocessed_dataset\n",
    "tbs_df = pd.read_csv('/content/drive/My Drive/AAIC Course/Personal case study - StackOverflow/tbs_df.csv')\n",
    "tbs_df = tbs_df.fillna(' ')"
   ]
  },
  {
   "cell_type": "code",
   "execution_count": 3,
   "metadata": {
    "colab": {
     "base_uri": "https://localhost:8080/",
     "height": 50
    },
    "colab_type": "code",
    "id": "82GL8gprCmOo",
    "outputId": "c33c810f-edfc-4306-b137-1e79d8d23527"
   },
   "outputs": [
    {
     "name": "stdout",
     "output_type": "stream",
     "text": [
      "[nltk_data] Downloading package stopwords to /root/nltk_data...\n",
      "[nltk_data]   Unzipping corpora/stopwords.zip.\n"
     ]
    }
   ],
   "source": [
    "# defining a function to remove stop_words\n",
    "import nltk\n",
    "from nltk.corpus import stopwords\n",
    "nltk.download('stopwords')\n",
    "stop_words = set(stopwords.words('english'))\n",
    "stop_words.add('would')\n",
    "stop_words.update([chr(c) for c in range(97, 123)])\n",
    "# stop_words.remove('no'); stop_words.remove('not'); stop_words.remove('nor')\n",
    "\n",
    "def stopwrd_removal(sent):\n",
    "  lst = []\n",
    "  for wrd in sent.split():\n",
    "    if wrd not in stop_words:\n",
    "      lst.append(wrd)\n",
    "  return \" \".join(lst)"
   ]
  },
  {
   "cell_type": "code",
   "execution_count": 4,
   "metadata": {
    "colab": {},
    "colab_type": "code",
    "id": "Nx7gMPbx6ejV"
   },
   "outputs": [],
   "source": [
    "def text_preprocessor(column):\n",
    "  \"\"\"pass any column with Text in it from tbs_df | Note: returns nothing makes inplace changes in tbs_df\"\"\"\n",
    "  # 1. remove html tags, html urls, replace html comparison operators\n",
    "  text = tbs_df[column].values\n",
    "  tbs_df[column] = [re.sub('<.*?>', '', i) for i in text]\n",
    "  tbs_df[column] = tbs_df[column].str.replace('&lt;', '<')\\\n",
    "                                          .str.replace('&gt;', '>')\\\n",
    "                                          .str.replace('&le;', '<=' )\\\n",
    "                                          .str.replace('&ge;', '>=')\n",
    "\n",
    "  # 2. remove latex i,e., mostly formulas since it's mathematics based dataset\n",
    "  tbs_df[column] = [re.sub('\\$.*?\\$', '', i) for i in text]\n",
    "\n",
    "  # 3. all lowercase \n",
    "  tbs_df[column] = tbs_df[column].str.lower()\n",
    "\n",
    "  # 4. decontractions\n",
    "  tbs_df[column] = tbs_df[column].str.replace(\"won't\", \"will not\").str.replace(\"can\\'t\", \"can not\").str.replace(\"n\\'t\", \" not\").str.replace(\"\\'re\", \" are\").str.\\\n",
    "                                                replace(\"\\'s\", \" is\").str.replace(\"\\'d\", \" would\").str.replace(\"\\'ll\", \" will\").str.\\\n",
    "                                                replace(\"\\'t\", \" not\").str.replace(\"\\'ve\", \" have\").str.replace(\"\\'m\", \" am\")\n",
    "\n",
    "  # 5. remove all special-characters other than alpha-numericals\n",
    "  tbs_df[column] = [re.sub('\\W', ' ', i) for i in text]\n",
    "  # remove all digits\n",
    "  tbs_df[column] = [re.sub('\\d', ' ', i) for i in text]\n",
    "\n",
    "  # 6. Stop_word removal\n",
    "  tbs_df[column] = [stopwrd_removal(i) for i in text]\n",
    "\n",
    "  # 7. remove all white-space i.e., \\n, \\t, and extra_spaces\n",
    "  tbs_df[column] = [re.sub('  +', ' ', i) for i in text]\n",
    "  tbs_df[column] = tbs_df[column].str.replace(\"\\n\", \" \").str.replace(\"\\t\", \" \").str.strip()\n",
    "  "
   ]
  },
  {
   "cell_type": "markdown",
   "metadata": {
    "colab_type": "text",
    "id": "MxaEGfF86UEb"
   },
   "source": [
    "**Note: For BM25 modelling I am removing all digits and stopwords**"
   ]
  },
  {
   "cell_type": "code",
   "execution_count": 8,
   "metadata": {
    "colab": {
     "base_uri": "https://localhost:8080/",
     "height": 136
    },
    "colab_type": "code",
    "id": "SaTCGTzP6xeg",
    "outputId": "d61c1110-dc4c-4456-b40f-b4092bd38faf"
   },
   "outputs": [
    {
     "data": {
      "text/plain": [
       "(182039,\n",
       " ['euler cycles biconnected components graph euler cycle biconnected components euler cycles well',\n",
       "  'two neighbors graph depth dfs tree undirected graph two nodes identical distance root dfs tree neighbors original graph thinking sure back edges',\n",
       "  'unique path directed graph designing algorithm class determine directed graph unique respect vertex one path started using bfs breadth first search find shortest path another vertex running bfs see alternate path found think time consuming however anyone hints solution found',\n",
       "  'call average include outliers call average include outliers example set avg excluding outlier avg describe average statistics',\n",
       "  'correcting outliers running average daemon reads data sensors among things calculates besides simply reporting state average time takes sensors change one value another keeps running average datapoints assumes runtime fairly constant unfortunately demonstrated graph input data pristine line represents different'])"
      ]
     },
     "execution_count": 8,
     "metadata": {
      "tags": []
     },
     "output_type": "execute_result"
    }
   ],
   "source": [
    "# 1. preparing dataset for BM25 : truncated \"title + body\"\n",
    "# 1.1 title_body preprocessing\n",
    "text_preprocessor('combined_text')\n",
    "title_body = tbs_df['combined_text'].values\n",
    "\n",
    "# 1.2 truncating title_body on 40 words\n",
    "title_body = [' '.join(i.split(' ')[:40]) for i in title_body]\n",
    "\n",
    "len(title_body), title_body[:5]"
   ]
  },
  {
   "cell_type": "markdown",
   "metadata": {
    "colab_type": "text",
    "id": "-nwCPgwj7pAD"
   },
   "source": [
    "**BM25 Model :**"
   ]
  },
  {
   "cell_type": "code",
   "execution_count": null,
   "metadata": {
    "colab": {},
    "colab_type": "code",
    "id": "3H5j47SoIHPf"
   },
   "outputs": [],
   "source": [
    "from rank_bm25 import BM25Okapi\n",
    "final_data = title_body\n",
    "train_tokens = [i.split(' ') for i in final_data]\n",
    "bm25 = BM25Okapi(train_tokens)"
   ]
  },
  {
   "cell_type": "markdown",
   "metadata": {
    "colab_type": "text",
    "id": "rnAKCX1y8DNq"
   },
   "source": [
    "**Testing with few queries :**"
   ]
  },
  {
   "cell_type": "code",
   "execution_count": null,
   "metadata": {
    "colab": {
     "base_uri": "https://localhost:8080/",
     "height": 100
    },
    "colab_type": "code",
    "id": "7GwT3nJDO2LM",
    "outputId": "8b4c092f-e680-4478-e18d-1026e7405be7"
   },
   "outputs": [
    {
     "data": {
      "text/plain": [
       "['What is the meaning of the intercept in regression with binary explanatory variables?',\n",
       " 'Standard error and explanatory (independent) variables',\n",
       " 'Standard Error of Intercept in Multiple Linear Regression',\n",
       " 'Interpretation of intercept of a regression line in time series data',\n",
       " 'When is it valid to include interaction terms in a regression model?']"
      ]
     },
     "execution_count": 76,
     "metadata": {
      "tags": []
     },
     "output_type": "execute_result"
    }
   ],
   "source": [
    "query = \"meaning of the intercept in regression with binary explanatory variables\"\n",
    "tokenized_query = query.split(\" \")\n",
    "\n",
    "doc_scores = bm25.get_scores(tokenized_query)\n",
    "corpus = tbs_df.Title.tolist()\n",
    "bm25.get_top_n(tokenized_query, corpus, n = 5)"
   ]
  },
  {
   "cell_type": "code",
   "execution_count": null,
   "metadata": {
    "colab": {
     "base_uri": "https://localhost:8080/",
     "height": 100
    },
    "colab_type": "code",
    "id": "qVD3Kdpb336K",
    "outputId": "0ae7d21a-16e6-42ce-ab59-4dd303e393ed"
   },
   "outputs": [
    {
     "data": {
      "text/plain": [
       "['Installing NLTK using WHL file -',\n",
       " '$\\\\operatorname{Var}(X^2)$, if $\\\\operatorname{Var}(X)=\\\\sigma^2$',\n",
       " 'Difference between from nltk import word_tokenize and from nltk.tokenize import word_tokenize?',\n",
       " 'How was the perplexity of the Brown corpus measured?',\n",
       " 'How to change plot size in nltk.plot()']"
      ]
     },
     "execution_count": 79,
     "metadata": {
      "tags": []
     },
     "output_type": "execute_result"
    }
   ],
   "source": [
    "query = \"installing nltk \"\n",
    "tokenized_query = query.split(\" \")\n",
    "\n",
    "doc_scores = bm25.get_scores(tokenized_query)\n",
    "corpus = tbs_df.Title.tolist()\n",
    "bm25.get_top_n(tokenized_query, corpus, n = 5)"
   ]
  },
  {
   "cell_type": "code",
   "execution_count": null,
   "metadata": {
    "colab": {
     "base_uri": "https://localhost:8080/",
     "height": 100
    },
    "colab_type": "code",
    "id": "ZrXJXrKF5l3w",
    "outputId": "281ad0c9-c992-4133-a36e-29aa1f1a0a35"
   },
   "outputs": [
    {
     "data": {
      "text/plain": [
       "['how to change keras backend in windows?',\n",
       " 'Keras backend (tensorflow) vs tensorflow',\n",
       " \"AttributeError: module 'keras.backend' has no attribute 'backend'\",\n",
       " 'Keras backend function equivalent for str.format',\n",
       " 'Is it possible to call from Keras unsupported backend function directly from tensorflow?']"
      ]
     },
     "execution_count": 81,
     "metadata": {
      "tags": []
     },
     "output_type": "execute_result"
    }
   ],
   "source": [
    "query = \"change backend keras\"\n",
    "tokenized_query = query.split(\" \")\n",
    "\n",
    "doc_scores = bm25.get_scores(tokenized_query)\n",
    "corpus = tbs_df.Title.tolist()\n",
    "bm25.get_top_n(tokenized_query, corpus, n = 5)"
   ]
  },
  {
   "cell_type": "code",
   "execution_count": null,
   "metadata": {
    "colab": {
     "base_uri": "https://localhost:8080/",
     "height": 100
    },
    "colab_type": "code",
    "id": "dxcKHfQp51au",
    "outputId": "c948b125-a92c-4a58-f569-2e1bde7a8425"
   },
   "outputs": [
    {
     "data": {
      "text/plain": [
       "['Euler cycles in biconnected components',\n",
       " 'Given the same set of nodes, why is it (generally) easier to find a Euler cycle than a Hamilton cycle?',\n",
       " 'Cycle of length k with no repeated edges',\n",
       " 'Prove: A connected graph contains an Eulerian cycle iff every vertex has even degree',\n",
       " 'Euler Circuit with least deviation from input']"
      ]
     },
     "execution_count": 82,
     "metadata": {
      "tags": []
     },
     "output_type": "execute_result"
    }
   ],
   "source": [
    "query = \"what is euler cycle\"\n",
    "tokenized_query = query.split(\" \")\n",
    "\n",
    "doc_scores = bm25.get_scores(tokenized_query)\n",
    "corpus = tbs_df.Title.tolist()\n",
    "bm25.get_top_n(tokenized_query, corpus, n = 5)"
   ]
  },
  {
   "cell_type": "code",
   "execution_count": null,
   "metadata": {
    "colab": {
     "base_uri": "https://localhost:8080/",
     "height": 100
    },
    "colab_type": "code",
    "id": "zdLu4n2wIhPZ",
    "outputId": "5e604055-1d19-4306-89ec-75e39407464e"
   },
   "outputs": [
    {
     "data": {
      "text/plain": [
       "['Keras LSTM accuracy stuck at 50%',\n",
       " 'Training Accuracy stuck in Keras',\n",
       " 'Model Validation accuracy stuck at 0.65671 Keras',\n",
       " 'Keras del stuck with constant loss and accuracy',\n",
       " 'Keras Neural Network training is stuck (gets stuck around epoch 6)']"
      ]
     },
     "execution_count": 43,
     "metadata": {
      "tags": []
     },
     "output_type": "execute_result"
    }
   ],
   "source": [
    "query = \"accuracy stuck in keras\"\n",
    "tokenized_query = query.split(\" \")\n",
    "\n",
    "doc_scores = bm25.get_scores(tokenized_query)\n",
    "corpus = tbs_df.Title.tolist()[:int(tbs_df.shape[0]*train_set)]\n",
    "bm25.get_top_n(tokenized_query, corpus, n = 5)"
   ]
  }
 ],
 "metadata": {
  "colab": {
   "collapsed_sections": [],
   "name": "4. BM25.ipynb",
   "provenance": []
  },
  "kernelspec": {
   "display_name": "Python 3",
   "language": "python",
   "name": "python3"
  },
  "language_info": {
   "codemirror_mode": {
    "name": "ipython",
    "version": 3
   },
   "file_extension": ".py",
   "mimetype": "text/x-python",
   "name": "python",
   "nbconvert_exporter": "python",
   "pygments_lexer": "ipython3",
   "version": "3.7.3"
  }
 },
 "nbformat": 4,
 "nbformat_minor": 1
}
