{
  "nbformat": 4,
  "nbformat_minor": 0,
  "metadata": {
    "colab": {
      "name": "4. BM25.ipynb",
      "provenance": [],
      "collapsed_sections": [],
      "mount_file_id": "1t0dJkIFMmy_RJ6Vm2n4UjYpGVLkVXKoZ",
      "authorship_tag": "ABX9TyPePs+CQkyA5mECrIUSnDhI",
      "include_colab_link": true
    },
    "kernelspec": {
      "name": "python3",
      "display_name": "Python 3"
    }
  },
  "cells": [
    {
      "cell_type": "markdown",
      "metadata": {
        "id": "view-in-github",
        "colab_type": "text"
      },
      "source": [
        "<a href=\"https://colab.research.google.com/github/vispute/StackOverflow_semantic_search_engine/blob/master/4_BM25.ipynb\" target=\"_parent\"><img src=\"https://colab.research.google.com/assets/colab-badge.svg\" alt=\"Open In Colab\"/></a>"
      ]
    },
    {
      "cell_type": "code",
      "metadata": {
        "id": "uY-gfXWlGB-R",
        "colab_type": "code",
        "colab": {
          "base_uri": "https://localhost:8080/",
          "height": 100
        },
        "outputId": "7b808231-7de3-4f4f-ad12-ade815739632"
      },
      "source": [
        "import pandas as pd\n",
        "import numpy as np\n",
        "import matplotlib.pyplot as plt\n",
        "import re\n",
        "\n",
        "import warnings\n",
        "warnings.filterwarnings('ignore')\n",
        "!pip install rank-bm25"
      ],
      "execution_count": null,
      "outputs": [
        {
          "output_type": "stream",
          "text": [
            "Collecting rank-bm25\n",
            "  Downloading https://files.pythonhosted.org/packages/16/5a/23ed3132063a0684ea66fb410260c71c4ffda3b99f8f1c021d1e245401b5/rank_bm25-0.2.1-py3-none-any.whl\n",
            "Requirement already satisfied: numpy in /usr/local/lib/python3.6/dist-packages (from rank-bm25) (1.18.5)\n",
            "Installing collected packages: rank-bm25\n",
            "Successfully installed rank-bm25-0.2.1\n"
          ],
          "name": "stdout"
        }
      ]
    },
    {
      "cell_type": "code",
      "metadata": {
        "id": "Sk0MdHSj6SIu",
        "colab_type": "code",
        "colab": {}
      },
      "source": [
        "# Acquiring preprocessed_dataset\n",
        "tbs_df = pd.read_csv('/content/drive/My Drive/AAIC Course/Personal case study - StackOverflow/tbs_df.csv')\n",
        "tbs_df = tbs_df.fillna(' ')"
      ],
      "execution_count": null,
      "outputs": []
    },
    {
      "cell_type": "code",
      "metadata": {
        "id": "82GL8gprCmOo",
        "colab_type": "code",
        "colab": {
          "base_uri": "https://localhost:8080/",
          "height": 50
        },
        "outputId": "c33c810f-edfc-4306-b137-1e79d8d23527"
      },
      "source": [
        "# defining a function to remove stop_words\n",
        "import nltk\n",
        "from nltk.corpus import stopwords\n",
        "nltk.download('stopwords')\n",
        "stop_words = set(stopwords.words('english'))\n",
        "stop_words.add('would')\n",
        "stop_words.update([chr(c) for c in range(97, 123)])\n",
        "# stop_words.remove('no'); stop_words.remove('not'); stop_words.remove('nor')\n",
        "\n",
        "def stopwrd_removal(sent):\n",
        "  lst = []\n",
        "  for wrd in sent.split():\n",
        "    if wrd not in stop_words:\n",
        "      lst.append(wrd)\n",
        "  return \" \".join(lst)"
      ],
      "execution_count": null,
      "outputs": [
        {
          "output_type": "stream",
          "text": [
            "[nltk_data] Downloading package stopwords to /root/nltk_data...\n",
            "[nltk_data]   Unzipping corpora/stopwords.zip.\n"
          ],
          "name": "stdout"
        }
      ]
    },
    {
      "cell_type": "code",
      "metadata": {
        "id": "Nx7gMPbx6ejV",
        "colab_type": "code",
        "colab": {}
      },
      "source": [
        "def text_preprocessor(column):\n",
        "  \"\"\"pass any column with Text in it from tbs_df | Note: returns nothing makes inplace changes in tbs_df\"\"\"\n",
        "  # 1. remove html tags, html urls, replace html comparison operators\n",
        "  text = tbs_df[column].values\n",
        "  tbs_df[column] = [re.sub('<.*?>', '', i) for i in text]\n",
        "  tbs_df[column] = tbs_df[column].str.replace('&lt;', '<')\\\n",
        "                                          .str.replace('&gt;', '>')\\\n",
        "                                          .str.replace('&le;', '<=' )\\\n",
        "                                          .str.replace('&ge;', '>=')\n",
        "\n",
        "  # 2. remove latex i,e., mostly formulas since it's mathematics based dataset\n",
        "  tbs_df[column] = [re.sub('\\$.*?\\$', '', i) for i in text]\n",
        "\n",
        "  # 3. all lowercase \n",
        "  tbs_df[column] = tbs_df[column].str.lower()\n",
        "\n",
        "  # 4. decontractions\n",
        "  tbs_df[column] = tbs_df[column].str.replace(\"won't\", \"will not\").str.replace(\"can\\'t\", \"can not\").str.replace(\"n\\'t\", \" not\").str.replace(\"\\'re\", \" are\").str.\\\n",
        "                                                replace(\"\\'s\", \" is\").str.replace(\"\\'d\", \" would\").str.replace(\"\\'ll\", \" will\").str.\\\n",
        "                                                replace(\"\\'t\", \" not\").str.replace(\"\\'ve\", \" have\").str.replace(\"\\'m\", \" am\")\n",
        "\n",
        "  # 5. remove all special-characters other than alpha-numericals\n",
        "  tbs_df[column] = [re.sub('\\W', ' ', i) for i in text]\n",
        "  # remove all digits\n",
        "  tbs_df[column] = [re.sub('\\d', ' ', i) for i in text]\n",
        "\n",
        "  # 6. Stop_word removal\n",
        "  tbs_df[column] = [stopwrd_removal(i) for i in text]\n",
        "\n",
        "  # 7. remove all white-space i.e., \\n, \\t, and extra_spaces\n",
        "  tbs_df[column] = [re.sub('  +', ' ', i) for i in text]\n",
        "  tbs_df[column] = tbs_df[column].str.replace(\"\\n\", \" \").str.replace(\"\\t\", \" \").str.strip()\n",
        "  "
      ],
      "execution_count": null,
      "outputs": []
    },
    {
      "cell_type": "markdown",
      "metadata": {
        "id": "MxaEGfF86UEb",
        "colab_type": "text"
      },
      "source": [
        "**Note: For BM25 modelling I am removing all digits and stopwords**"
      ]
    },
    {
      "cell_type": "code",
      "metadata": {
        "id": "SaTCGTzP6xeg",
        "colab_type": "code",
        "colab": {
          "base_uri": "https://localhost:8080/",
          "height": 136
        },
        "outputId": "d61c1110-dc4c-4456-b40f-b4092bd38faf"
      },
      "source": [
        "# 1. preparing dataset for BM25 : truncated \"title + body\"\n",
        "# 1.1 title_body preprocessing\n",
        "text_preprocessor('combined_text')\n",
        "title_body = tbs_df['combined_text'].values\n",
        "\n",
        "# 1.2 truncating title_body on 40 words\n",
        "title_body = [' '.join(i.split(' ')[:40]) for i in title_body]\n",
        "\n",
        "len(title_body), title_body[:5]"
      ],
      "execution_count": null,
      "outputs": [
        {
          "output_type": "execute_result",
          "data": {
            "text/plain": [
              "(182039,\n",
              " ['euler cycles biconnected components graph euler cycle biconnected components euler cycles well',\n",
              "  'two neighbors graph depth dfs tree undirected graph two nodes identical distance root dfs tree neighbors original graph thinking sure back edges',\n",
              "  'unique path directed graph designing algorithm class determine directed graph unique respect vertex one path started using bfs breadth first search find shortest path another vertex running bfs see alternate path found think time consuming however anyone hints solution found',\n",
              "  'call average include outliers call average include outliers example set avg excluding outlier avg describe average statistics',\n",
              "  'correcting outliers running average daemon reads data sensors among things calculates besides simply reporting state average time takes sensors change one value another keeps running average datapoints assumes runtime fairly constant unfortunately demonstrated graph input data pristine line represents different'])"
            ]
          },
          "metadata": {
            "tags": []
          },
          "execution_count": 8
        }
      ]
    },
    {
      "cell_type": "markdown",
      "metadata": {
        "id": "-nwCPgwj7pAD",
        "colab_type": "text"
      },
      "source": [
        "**BM25 Model :**"
      ]
    },
    {
      "cell_type": "code",
      "metadata": {
        "id": "3H5j47SoIHPf",
        "colab_type": "code",
        "colab": {}
      },
      "source": [
        "from rank_bm25 import BM25Okapi\n",
        "final_data = title_body\n",
        "train_tokens = [i.split(' ') for i in final_data]\n",
        "bm25 = BM25Okapi(train_tokens)"
      ],
      "execution_count": null,
      "outputs": []
    },
    {
      "cell_type": "markdown",
      "metadata": {
        "id": "rnAKCX1y8DNq",
        "colab_type": "text"
      },
      "source": [
        "**Testing :**"
      ]
    },
    {
      "cell_type": "code",
      "metadata": {
        "id": "7GwT3nJDO2LM",
        "colab_type": "code",
        "colab": {
          "base_uri": "https://localhost:8080/",
          "height": 100
        },
        "outputId": "8b4c092f-e680-4478-e18d-1026e7405be7"
      },
      "source": [
        "query = \"meaning of the intercept in regression with binary explanatory variables\"\n",
        "tokenized_query = query.split(\" \")\n",
        "\n",
        "doc_scores = bm25.get_scores(tokenized_query)\n",
        "corpus = tbs_df.Title.tolist()\n",
        "bm25.get_top_n(tokenized_query, corpus, n = 5)"
      ],
      "execution_count": null,
      "outputs": [
        {
          "output_type": "execute_result",
          "data": {
            "text/plain": [
              "['What is the meaning of the intercept in regression with binary explanatory variables?',\n",
              " 'Standard error and explanatory (independent) variables',\n",
              " 'Standard Error of Intercept in Multiple Linear Regression',\n",
              " 'Interpretation of intercept of a regression line in time series data',\n",
              " 'When is it valid to include interaction terms in a regression model?']"
            ]
          },
          "metadata": {
            "tags": []
          },
          "execution_count": 76
        }
      ]
    },
    {
      "cell_type": "code",
      "metadata": {
        "id": "45kbmByvOOeH",
        "colab_type": "code",
        "colab": {
          "base_uri": "https://localhost:8080/",
          "height": 100
        },
        "outputId": "6cba010c-88c0-41cf-d069-6022de911450"
      },
      "source": [
        "query = \"normal distribution vs uniform dist\"\n",
        "tokenized_query = query.split(\" \")\n",
        "\n",
        "doc_scores = bm25.get_scores(tokenized_query)\n",
        "corpus = tbs_df.Title.tolist()\n",
        "bm25.get_top_n(tokenized_query, corpus, n = 5)"
      ],
      "execution_count": null,
      "outputs": [
        {
          "output_type": "execute_result",
          "data": {
            "text/plain": [
              "['Random Number generated from Normal Distribution N(0,1)',\n",
              " 'How to calculate mean, median, mode, std dev from distribution',\n",
              " 'Normal Distribution with Uniform Mean',\n",
              " 'What is the ratio of uniform and normal distribution?',\n",
              " 'Distribution of MLE of $N$ based on a random sample of size n from discrete uniform dist.(1,2,...,$N$)']"
            ]
          },
          "metadata": {
            "tags": []
          },
          "execution_count": 77
        }
      ]
    },
    {
      "cell_type": "code",
      "metadata": {
        "id": "Eyn-me3p3ohw",
        "colab_type": "code",
        "colab": {
          "base_uri": "https://localhost:8080/",
          "height": 100
        },
        "outputId": "aa1b0b02-8a3c-4e3e-c64a-afe4c68c8e23"
      },
      "source": [
        "query = \"difference between tensorflow and pytorch\"\n",
        "tokenized_query = query.split(\" \")\n",
        "\n",
        "doc_scores = bm25.get_scores(tokenized_query)\n",
        "corpus = tbs_df.Title.tolist()\n",
        "bm25.get_top_n(tokenized_query, corpus, n = 5)"
      ],
      "execution_count": null,
      "outputs": [
        {
          "output_type": "execute_result",
          "data": {
            "text/plain": [
              "[\"Pytorch's pack_padded_sequence in Tensorflow?\",\n",
              " 'What are the differences between TensorFlow and PyTorch?',\n",
              " 'Is there a reason to use TensorFlow over PyTorch for research purposes?',\n",
              " 'Tensorflow (or Keras) vs. Pytorch vs. some other ML library for implementing a CNN',\n",
              " 'Tutorial for restricted Boltzmann machine using PyTorch or Tensorflow?']"
            ]
          },
          "metadata": {
            "tags": []
          },
          "execution_count": 78
        }
      ]
    },
    {
      "cell_type": "code",
      "metadata": {
        "id": "CX6jrT2QQnMw",
        "colab_type": "code",
        "colab": {
          "base_uri": "https://localhost:8080/",
          "height": 100
        },
        "outputId": "d3d7bd39-aeb3-4695-cecb-53484b9cc60f"
      },
      "source": [
        "query = \"difference between tensorflow and pytorch\"\n",
        "tokenized_query = query.split(\" \")\n",
        "\n",
        "doc_scores = bm25.get_scores(tokenized_query)\n",
        "corpus = tbs_df.Title.tolist()[:int(tbs_df.shape[0]*train_set)]\n",
        "bm25.get_top_n(tokenized_query, corpus, n = 5)"
      ],
      "execution_count": null,
      "outputs": [
        {
          "output_type": "execute_result",
          "data": {
            "text/plain": [
              "[\"Pytorch's pack_padded_sequence in Tensorflow?\",\n",
              " 'What are the differences between TensorFlow and PyTorch?',\n",
              " 'CrossMapLRN2d in pytorch',\n",
              " 'Places365 for pytorch',\n",
              " 'PyTorch vs. Tensorflow eager']"
            ]
          },
          "metadata": {
            "tags": []
          },
          "execution_count": 35
        }
      ]
    },
    {
      "cell_type": "code",
      "metadata": {
        "id": "2g12ExpnOR7E",
        "colab_type": "code",
        "colab": {
          "base_uri": "https://localhost:8080/",
          "height": 100
        },
        "outputId": "4c1e994e-ce18-46f5-95f6-b36af13bd6d2"
      },
      "source": [
        "query = \"difference between tf and pytorch\"\n",
        "tokenized_query = query.split(\" \")\n",
        "\n",
        "doc_scores = bm25.get_scores(tokenized_query)\n",
        "corpus = tbs_df.Title.tolist()[:int(tbs_df.shape[0]*train_set)]\n",
        "bm25.get_top_n(tokenized_query, corpus, n = 5)"
      ],
      "execution_count": null,
      "outputs": [
        {
          "output_type": "execute_result",
          "data": {
            "text/plain": [
              "['Difference between tf-idf and tf with Random Forests',\n",
              " 'Is there a difference between tf.nn.conv1d and tf.nn.convolution in Tensorflow?',\n",
              " 'Difference in tf-idf values in R',\n",
              " 'Difference between train.RMSPropOptimizer and tf.train.GradientDescentOptimizer (tensorflow)',\n",
              " 'PyTorch: How to use pytorch pretrained for single channel image']"
            ]
          },
          "metadata": {
            "tags": []
          },
          "execution_count": 37
        }
      ]
    },
    {
      "cell_type": "code",
      "metadata": {
        "id": "qVD3Kdpb336K",
        "colab_type": "code",
        "colab": {
          "base_uri": "https://localhost:8080/",
          "height": 100
        },
        "outputId": "0ae7d21a-16e6-42ce-ab59-4dd303e393ed"
      },
      "source": [
        "query = \"installing nltk \"\n",
        "tokenized_query = query.split(\" \")\n",
        "\n",
        "doc_scores = bm25.get_scores(tokenized_query)\n",
        "corpus = tbs_df.Title.tolist()\n",
        "bm25.get_top_n(tokenized_query, corpus, n = 5)"
      ],
      "execution_count": null,
      "outputs": [
        {
          "output_type": "execute_result",
          "data": {
            "text/plain": [
              "['Installing NLTK using WHL file -',\n",
              " '$\\\\operatorname{Var}(X^2)$, if $\\\\operatorname{Var}(X)=\\\\sigma^2$',\n",
              " 'Difference between from nltk import word_tokenize and from nltk.tokenize import word_tokenize?',\n",
              " 'How was the perplexity of the Brown corpus measured?',\n",
              " 'How to change plot size in nltk.plot()']"
            ]
          },
          "metadata": {
            "tags": []
          },
          "execution_count": 79
        }
      ]
    },
    {
      "cell_type": "code",
      "metadata": {
        "id": "_M4t8VP3Qudh",
        "colab_type": "code",
        "colab": {
          "base_uri": "https://localhost:8080/",
          "height": 100
        },
        "outputId": "fe471463-fcf7-45fc-dd26-fe5b9b5f0d19"
      },
      "source": [
        "query = \"installing nltk \"\n",
        "tokenized_query = query.split(\" \")\n",
        "\n",
        "doc_scores = bm25.get_scores(tokenized_query)\n",
        "corpus = tbs_df.Title.tolist()[:int(tbs_df.shape[0]*train_set)]\n",
        "bm25.get_top_n(tokenized_query, corpus, n = 5)"
      ],
      "execution_count": null,
      "outputs": [
        {
          "output_type": "execute_result",
          "data": {
            "text/plain": [
              "['Installing NLTK using WHL file -',\n",
              " 'Error while installing grpcio while installing tensorflow in Linux',\n",
              " 'About installing Theano',\n",
              " 'Error while using NLTK/ How should I read paragraph using NLTK?',\n",
              " 'Difference between from nltk import word_tokenize and from nltk.tokenize import word_tokenize?']"
            ]
          },
          "metadata": {
            "tags": []
          },
          "execution_count": 38
        }
      ]
    },
    {
      "cell_type": "code",
      "metadata": {
        "id": "NxwmHnk1OWLF",
        "colab_type": "code",
        "colab": {
          "base_uri": "https://localhost:8080/",
          "height": 100
        },
        "outputId": "9ba53d2b-c849-4db8-bdd4-d109f3f74b71"
      },
      "source": [
        "query = \"how to install nltk\"\n",
        "tokenized_query = query.split(\" \")\n",
        "\n",
        "doc_scores = bm25.get_scores(tokenized_query)\n",
        "corpus = tbs_df.Title.tolist()[:int(tbs_df.shape[0]*train_set)]\n",
        "bm25.get_top_n(tokenized_query, corpus, n = 5)"
      ],
      "execution_count": null,
      "outputs": [
        {
          "output_type": "execute_result",
          "data": {
            "text/plain": [
              "['normal conda install vs forge install',\n",
              " 'Manual install vs conda install tensorflow-gpu',\n",
              " 'Error while using NLTK/ How should I read paragraph using NLTK?',\n",
              " \"can't install tensorflow with gpu\",\n",
              " 'How to install fGarch package']"
            ]
          },
          "metadata": {
            "tags": []
          },
          "execution_count": 39
        }
      ]
    },
    {
      "cell_type": "code",
      "metadata": {
        "id": "bA5632ca4Cn7",
        "colab_type": "code",
        "colab": {
          "base_uri": "https://localhost:8080/",
          "height": 100
        },
        "outputId": "c9abf92f-4f76-41df-9fce-5b12140e4994"
      },
      "source": [
        "query = \"how to install pip\"\n",
        "tokenized_query = query.split(\" \")\n",
        "\n",
        "doc_scores = bm25.get_scores(tokenized_query)\n",
        "corpus = tbs_df.Title.tolist()\n",
        "bm25.get_top_n(tokenized_query, corpus, n = 5)"
      ],
      "execution_count": null,
      "outputs": [
        {
          "output_type": "execute_result",
          "data": {
            "text/plain": [
              "['Can not install spacy package on windows 10 via pip',\n",
              " 'what if conda has no package?',\n",
              " 'How to use plot model in keras?',\n",
              " 'Getting errors while trying to install tensorflow on ubuntu',\n",
              " 'getting error while installing install_tensorflow()']"
            ]
          },
          "metadata": {
            "tags": []
          },
          "execution_count": 80
        }
      ]
    },
    {
      "cell_type": "code",
      "metadata": {
        "id": "gRTxVN2WRCqh",
        "colab_type": "code",
        "colab": {
          "base_uri": "https://localhost:8080/",
          "height": 100
        },
        "outputId": "36c6d5c6-ab82-42e3-fbb5-209f3c4a91aa"
      },
      "source": [
        "query = \"how to install pip\"\n",
        "tokenized_query = query.split(\" \")\n",
        "\n",
        "doc_scores = bm25.get_scores(tokenized_query)\n",
        "corpus = tbs_df.Title.tolist()[:int(tbs_df.shape[0]*train_set)]\n",
        "bm25.get_top_n(tokenized_query, corpus, n = 5)"
      ],
      "execution_count": null,
      "outputs": [
        {
          "output_type": "execute_result",
          "data": {
            "text/plain": [
              "['\"Pip install tensorflow\" only installs version 1.14 – how to install version 2 (with eager mode enabled?)',\n",
              " 'Can not install spacy package on windows 10 via pip',\n",
              " 'normal conda install vs forge install',\n",
              " 'Manual install vs conda install tensorflow-gpu',\n",
              " 'How to install fGarch package']"
            ]
          },
          "metadata": {
            "tags": []
          },
          "execution_count": 40
        }
      ]
    },
    {
      "cell_type": "code",
      "metadata": {
        "id": "RVrdEDnxOZpK",
        "colab_type": "code",
        "colab": {
          "base_uri": "https://localhost:8080/",
          "height": 100
        },
        "outputId": "9298aebe-4200-4f4e-d41d-1dd38283014b"
      },
      "source": [
        "query = \"how to install pip\"\n",
        "tokenized_query = query.split(\" \")\n",
        "\n",
        "doc_scores = bm25.get_scores(tokenized_query)\n",
        "corpus = tbs_df.Title.tolist()[:int(df.shape[0]*train_set)]\n",
        "bm25.get_top_n(tokenized_query, corpus, n = 5)"
      ],
      "execution_count": null,
      "outputs": [
        {
          "output_type": "execute_result",
          "data": {
            "text/plain": [
              "['How to use plot model in keras?',\n",
              " 'How to integrate google cloud with dropbox and jupyter notebook using tensorflow',\n",
              " 'Installing NLTK using WHL file -',\n",
              " 'Different available packages in TensorFlow virtualenv?',\n",
              " \"What's the meaning of a posterior inclusion probability in Bayesian?\"]"
            ]
          },
          "metadata": {
            "tags": []
          },
          "execution_count": 54
        }
      ]
    },
    {
      "cell_type": "code",
      "metadata": {
        "id": "ZrXJXrKF5l3w",
        "colab_type": "code",
        "colab": {
          "base_uri": "https://localhost:8080/",
          "height": 100
        },
        "outputId": "281ad0c9-c992-4133-a36e-29aa1f1a0a35"
      },
      "source": [
        "query = \"change backend keras\"\n",
        "tokenized_query = query.split(\" \")\n",
        "\n",
        "doc_scores = bm25.get_scores(tokenized_query)\n",
        "corpus = tbs_df.Title.tolist()\n",
        "bm25.get_top_n(tokenized_query, corpus, n = 5)"
      ],
      "execution_count": null,
      "outputs": [
        {
          "output_type": "execute_result",
          "data": {
            "text/plain": [
              "['how to change keras backend in windows?',\n",
              " 'Keras backend (tensorflow) vs tensorflow',\n",
              " \"AttributeError: module 'keras.backend' has no attribute 'backend'\",\n",
              " 'Keras backend function equivalent for str.format',\n",
              " 'Is it possible to call from Keras unsupported backend function directly from tensorflow?']"
            ]
          },
          "metadata": {
            "tags": []
          },
          "execution_count": 81
        }
      ]
    },
    {
      "cell_type": "code",
      "metadata": {
        "id": "upjIzwhdRHoZ",
        "colab_type": "code",
        "colab": {
          "base_uri": "https://localhost:8080/",
          "height": 100
        },
        "outputId": "d99dac1a-5e53-42a9-d1fd-c3dbddd5f7af"
      },
      "source": [
        "query = \"change backend keras\"\n",
        "tokenized_query = query.split(\" \")\n",
        "\n",
        "doc_scores = bm25.get_scores(tokenized_query)\n",
        "corpus = tbs_df.Title.tolist()\n",
        "bm25.get_top_n(tokenized_query, corpus, n = 5)"
      ],
      "execution_count": null,
      "outputs": [
        {
          "output_type": "execute_result",
          "data": {
            "text/plain": [
              "['how to change keras backend in windows?',\n",
              " \"AttributeError: module 'keras.backend' has no attribute 'backend'\",\n",
              " 'Why does Keras need TensorFlow as backend?',\n",
              " 'Switching Keras backend Tensorflow to GPU',\n",
              " 'Axis parameter in the Keras backend sum']"
            ]
          },
          "metadata": {
            "tags": []
          },
          "execution_count": 41
        }
      ]
    },
    {
      "cell_type": "code",
      "metadata": {
        "id": "crh67mRcOdm8",
        "colab_type": "code",
        "colab": {
          "base_uri": "https://localhost:8080/",
          "height": 100
        },
        "outputId": "6ba385c9-d65a-4b53-afbb-765639f561ba"
      },
      "source": [
        "query = \"change backend keras\"\n",
        "tokenized_query = query.split(\" \")\n",
        "\n",
        "doc_scores = bm25.get_scores(tokenized_query)\n",
        "corpus = tbs_df.Title.tolist()[:int(df.shape[0]*train_set)]\n",
        "bm25.get_top_n(tokenized_query, corpus, n = 5)"
      ],
      "execution_count": null,
      "outputs": [
        {
          "output_type": "execute_result",
          "data": {
            "text/plain": [
              "['how to change keras backend in windows?',\n",
              " 'Keras backend (tensorflow) vs tensorflow',\n",
              " 'Choosing between TensorFlow or Theano as backend for Keras',\n",
              " 'Keras backend function equivalent for str.format',\n",
              " 'What is the meaning of fuzz factor?']"
            ]
          },
          "metadata": {
            "tags": []
          },
          "execution_count": 56
        }
      ]
    },
    {
      "cell_type": "code",
      "metadata": {
        "id": "dxcKHfQp51au",
        "colab_type": "code",
        "colab": {
          "base_uri": "https://localhost:8080/",
          "height": 100
        },
        "outputId": "c948b125-a92c-4a58-f569-2e1bde7a8425"
      },
      "source": [
        "query = \"what is euler cycle\"\n",
        "tokenized_query = query.split(\" \")\n",
        "\n",
        "doc_scores = bm25.get_scores(tokenized_query)\n",
        "corpus = tbs_df.Title.tolist()\n",
        "bm25.get_top_n(tokenized_query, corpus, n = 5)"
      ],
      "execution_count": null,
      "outputs": [
        {
          "output_type": "execute_result",
          "data": {
            "text/plain": [
              "['Euler cycles in biconnected components',\n",
              " 'Given the same set of nodes, why is it (generally) easier to find a Euler cycle than a Hamilton cycle?',\n",
              " 'Cycle of length k with no repeated edges',\n",
              " 'Prove: A connected graph contains an Eulerian cycle iff every vertex has even degree',\n",
              " 'Euler Circuit with least deviation from input']"
            ]
          },
          "metadata": {
            "tags": []
          },
          "execution_count": 82
        }
      ]
    },
    {
      "cell_type": "code",
      "metadata": {
        "id": "hgMulPiCRW_m",
        "colab_type": "code",
        "colab": {
          "base_uri": "https://localhost:8080/",
          "height": 100
        },
        "outputId": "e3bea71a-e1a0-4b28-9a8d-f993afea12b9"
      },
      "source": [
        "query = \"what is euler cycle\"\n",
        "tokenized_query = query.split(\" \")\n",
        "\n",
        "doc_scores = bm25.get_scores(tokenized_query)\n",
        "corpus = tbs_df.Title.tolist()[:int(tbs_df.shape[0]*train_set)]\n",
        "bm25.get_top_n(tokenized_query, corpus, n = 5)"
      ],
      "execution_count": null,
      "outputs": [
        {
          "output_type": "execute_result",
          "data": {
            "text/plain": [
              "['Given the same set of nodes, why is it (generally) easier to find a Euler cycle than a Hamilton cycle?',\n",
              " 'Euler cycles in biconnected components',\n",
              " 'Project Euler Problem 213 (continued...)',\n",
              " 'Understanding the correctness of the Euler Tour Technique',\n",
              " 'Time complexity of euler totient function']"
            ]
          },
          "metadata": {
            "tags": []
          },
          "execution_count": 42
        }
      ]
    },
    {
      "cell_type": "code",
      "metadata": {
        "id": "0PHqRVlT5-QO",
        "colab_type": "code",
        "colab": {
          "base_uri": "https://localhost:8080/",
          "height": 183
        },
        "outputId": "4fce2b95-9078-424f-fee4-577eb634972f"
      },
      "source": [
        "query = \"accuracy stuck in keras\"\n",
        "tokenized_query = query.split(\" \")\n",
        "\n",
        "doc_scores = bm25.get_scores(tokenized_query)\n",
        "corpus = tbs_df.Title.tolist()\n",
        "bm25.get_top_n(tokenized_query, corpus, n = 10)"
      ],
      "execution_count": null,
      "outputs": [
        {
          "output_type": "execute_result",
          "data": {
            "text/plain": [
              "['Training Accuracy stuck in Keras',\n",
              " 'ANN on Pattern Recognition',\n",
              " 'Why does my loss value start at approximately -10,000 and my accuracy not improve?',\n",
              " 'Keras del stuck with constant loss and accuracy',\n",
              " 'Deep Neural Network using Keras/Tensorflow solves Spiral Dataset Classification. But Accuracy is stuck around 50%',\n",
              " \"Accuracy doesn't match in Keras\",\n",
              " 'Model Validation accuracy stuck at 0.65671 Keras',\n",
              " 'Accuracy of RNN getting stuck after 90%',\n",
              " 'FaceNet training, tripletloss not decrease but accuracy increase then stuck,what are possible causes?',\n",
              " 'Keras Neural Network training is stuck (gets stuck around epoch 6)']"
            ]
          },
          "metadata": {
            "tags": []
          },
          "execution_count": 89
        }
      ]
    },
    {
      "cell_type": "code",
      "metadata": {
        "id": "zdLu4n2wIhPZ",
        "colab_type": "code",
        "colab": {
          "base_uri": "https://localhost:8080/",
          "height": 100
        },
        "outputId": "5e604055-1d19-4306-89ec-75e39407464e"
      },
      "source": [
        "query = \"accuracy stuck in keras\"\n",
        "tokenized_query = query.split(\" \")\n",
        "\n",
        "doc_scores = bm25.get_scores(tokenized_query)\n",
        "corpus = tbs_df.Title.tolist()[:int(tbs_df.shape[0]*train_set)]\n",
        "bm25.get_top_n(tokenized_query, corpus, n = 5)"
      ],
      "execution_count": null,
      "outputs": [
        {
          "output_type": "execute_result",
          "data": {
            "text/plain": [
              "['Keras LSTM accuracy stuck at 50%',\n",
              " 'Training Accuracy stuck in Keras',\n",
              " 'Model Validation accuracy stuck at 0.65671 Keras',\n",
              " 'Keras del stuck with constant loss and accuracy',\n",
              " 'Keras Neural Network training is stuck (gets stuck around epoch 6)']"
            ]
          },
          "metadata": {
            "tags": []
          },
          "execution_count": 43
        }
      ]
    }
  ]
}