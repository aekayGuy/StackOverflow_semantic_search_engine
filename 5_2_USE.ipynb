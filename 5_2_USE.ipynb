{
 "cells": [
  {
   "cell_type": "code",
   "execution_count": null,
   "metadata": {
    "colab": {
     "base_uri": "https://localhost:8080/",
     "height": 70
    },
    "colab_type": "code",
    "id": "NlqfB82W2FM_",
    "outputId": "848bd206-db03-4672-bd7b-63d30f8b87be"
   },
   "outputs": [
    {
     "name": "stderr",
     "output_type": "stream",
     "text": [
      "/usr/local/lib/python3.6/dist-packages/statsmodels/tools/_testing.py:19: FutureWarning: pandas.util.testing is deprecated. Use the functions in the public API at pandas.testing instead.\n",
      "  import pandas.util.testing as tm\n"
     ]
    }
   ],
   "source": [
    "import pandas as pd\n",
    "import numpy as np\n",
    "import matplotlib.pyplot as plt\n",
    "import seaborn as sns\n",
    "from tqdm.notebook import tqdm\n",
    "import re\n",
    "import warnings\n",
    "warnings.filterwarnings('ignore')"
   ]
  },
  {
   "cell_type": "code",
   "execution_count": null,
   "metadata": {
    "colab": {},
    "colab_type": "code",
    "id": "9fjd0BTV75Sr"
   },
   "outputs": [],
   "source": [
    "# Acquiring preprocessed_dataset\n",
    "tbs_df = pd.read_csv('/content/drive/My Drive/AAIC Course/Personal case study - StackOverflow/tbs_df.csv')\n",
    "tbs_df = tbs_df.fillna(' ')"
   ]
  },
  {
   "cell_type": "code",
   "execution_count": null,
   "metadata": {
    "colab": {
     "base_uri": "https://localhost:8080/",
     "height": 50
    },
    "colab_type": "code",
    "id": "H2ggv1Sr77Cr",
    "outputId": "978b28ee-77ca-4c4d-c776-8f596a760d36"
   },
   "outputs": [
    {
     "name": "stdout",
     "output_type": "stream",
     "text": [
      "[nltk_data] Downloading package stopwords to /root/nltk_data...\n",
      "[nltk_data]   Unzipping corpora/stopwords.zip.\n"
     ]
    }
   ],
   "source": [
    "# defining a function to remove stop_words\n",
    "import nltk\n",
    "from nltk.corpus import stopwords\n",
    "nltk.download('stopwords')\n",
    "stop_words = set(stopwords.words('english'))\n",
    "stop_words.add('would')\n",
    "stop_words.update([chr(c) for c in range(97, 123)])\n",
    "# stop_words.remove('no'); stop_words.remove('not'); stop_words.remove('nor')\n",
    "\n",
    "def stopwrd_removal(sent):\n",
    "  lst = []\n",
    "  for wrd in sent.split():\n",
    "    if wrd not in stop_words:\n",
    "      lst.append(wrd)\n",
    "  return \" \".join(lst)"
   ]
  },
  {
   "cell_type": "code",
   "execution_count": null,
   "metadata": {
    "colab": {},
    "colab_type": "code",
    "id": "oen7Qp4079B0"
   },
   "outputs": [],
   "source": [
    "def text_preprocessor(column):\n",
    "  \"\"\"pass any column with Text in it from tbs_df | Note: returns nothing makes inplace changes in tbs_df\"\"\"\n",
    "  # 1. remove html tags, html urls, replace html comparison operators\n",
    "  text = tbs_df[column].values\n",
    "  tbs_df[column] = [re.sub('<.*?>', '', i) for i in text]\n",
    "  tbs_df[column] = tbs_df[column].str.replace('&lt;', '<')\\\n",
    "                                          .str.replace('&gt;', '>')\\\n",
    "                                          .str.replace('&le;', '<=' )\\\n",
    "                                          .str.replace('&ge;', '>=')\n",
    "\n",
    "  # 2. remove latex i,e., mostly formulas since it's mathematics based dataset\n",
    "  tbs_df[column] = [re.sub('\\$.*?\\$', '', i) for i in text]\n",
    "\n",
    "  # 3. all lowercase \n",
    "  tbs_df[column] = tbs_df[column].str.lower()\n",
    "\n",
    "  # 4. decontractions\n",
    "  tbs_df[column] = tbs_df[column].str.replace(\"won't\", \"will not\").str.replace(\"can\\'t\", \"can not\").str.replace(\"n\\'t\", \" not\").str.replace(\"\\'re\", \" are\").str.\\\n",
    "                                                replace(\"\\'s\", \" is\").str.replace(\"\\'d\", \" would\").str.replace(\"\\'ll\", \" will\").str.\\\n",
    "                                                replace(\"\\'t\", \" not\").str.replace(\"\\'ve\", \" have\").str.replace(\"\\'m\", \" am\")\n",
    "\n",
    "  # 5. remove all special-characters other than alpha-numericals\n",
    "  tbs_df[column] = [re.sub('\\W', ' ', i) for i in text]\n",
    "  # # remove all digits\n",
    "  # tbs_df[column] = [re.sub('\\d', ' ', i) for i in text]\n",
    "\n",
    "  # 6. Stop_word removal\n",
    "  # tbs_df[column] = [stopwrd_removal(i) for i in text]\n",
    "\n",
    "  # 7. remove all white-space i.e., \\n, \\t, and extra_spaces\n",
    "  tbs_df[column] = [re.sub('  +', ' ', i) for i in text]\n",
    "  tbs_df[column] = tbs_df[column].str.replace(\"\\n\", \" \").str.replace(\"\\t\", \" \").str.strip()\n",
    "  "
   ]
  },
  {
   "cell_type": "code",
   "execution_count": null,
   "metadata": {
    "colab": {},
    "colab_type": "code",
    "id": "2USF1XbR7_rb"
   },
   "outputs": [],
   "source": [
    "# 1. train_test split\n",
    "\n",
    "tbs_df['Title_1'] = tbs_df['Title']\n",
    "text_preprocessor('Title_1')\n",
    "title = tbs_df['Title_1'].values\n",
    "\n",
    "# title = tbs_df['Title'].values\n",
    "# body = tbs_df['Body'].values\n",
    "\n",
    "# tbs_df['combined_text'] = [t + ' ' + b for t, b in zip(title, body)]\n",
    "# text_preprocessor('combined_text')\n",
    "# title_body = tbs_df['combined_text'].values\n",
    "\n",
    "# # truncating words to 50\n",
    "# title_body = [' '.join(i.split(' ')[:50]) for i in title_body]\n",
    "\n",
    "# # # 4. splitting 'combined_text'\n",
    "# # title = tbs_df['combined_text'].values\n",
    "# len(title_body)"
   ]
  },
  {
   "cell_type": "code",
   "execution_count": null,
   "metadata": {
    "colab": {
     "base_uri": "https://localhost:8080/",
     "height": 183
    },
    "colab_type": "code",
    "id": "K_C_ipI_8Fih",
    "outputId": "923ab056-7867-4057-dda9-e924be5a1f76"
   },
   "outputs": [
    {
     "data": {
      "text/plain": [
       "(array(['euler cycles in biconnected components',\n",
       "        'can two neighbors in a graph be at the same depth in a dfs tree',\n",
       "        'unique path in a directed graph',\n",
       "        'what do you call an average that does not include outliers',\n",
       "        'correcting for outliers in a running average'], dtype=object),\n",
       " array(['Euler cycles in biconnected components',\n",
       "        'Can two neighbors in a graph be at the same depth in a DFS tree?',\n",
       "        'Unique path in a directed graph',\n",
       "        'What do you call an average that does not include outliers?',\n",
       "        'Correcting for outliers in a running average'], dtype=object))"
      ]
     },
     "execution_count": 6,
     "metadata": {
      "tags": []
     },
     "output_type": "execute_result"
    }
   ],
   "source": [
    "final_train = title\n",
    "final_train[:5], tbs_df['Title'].values[:5]"
   ]
  },
  {
   "cell_type": "markdown",
   "metadata": {
    "colab_type": "text",
    "id": "zgSO3OsO8J0Q"
   },
   "source": [
    "# 1. USE Embeddings"
   ]
  },
  {
   "cell_type": "code",
   "execution_count": null,
   "metadata": {
    "colab": {},
    "colab_type": "code",
    "id": "yhfrVy3JBjH1"
   },
   "outputs": [],
   "source": [
    "import tensorflow as tf\n",
    "\n",
    "import tensorflow_hub as hub\n",
    "from tensorflow.keras.layers import Input, Softmax, GRU, LSTM, RNN, Embedding, Dense, RepeatVector, TimeDistributed, Bidirectional, Concatenate\n",
    "from tensorflow.keras.models import Model"
   ]
  },
  {
   "cell_type": "code",
   "execution_count": null,
   "metadata": {
    "colab": {},
    "colab_type": "code",
    "id": "n-aQpp3S8MAZ"
   },
   "outputs": [],
   "source": [
    "# loading USE model\n",
    "use_model = hub.load(\"https://tfhub.dev/google/universal-sentence-encoder-large/5\")"
   ]
  },
  {
   "cell_type": "code",
   "execution_count": null,
   "metadata": {
    "colab": {
     "base_uri": "https://localhost:8080/",
     "height": 65,
     "referenced_widgets": [
      "82ea0f0656c94b49aea5e19e0fcfb2b3",
      "db486455f8eb47a0859ef2c9e834fbfe",
      "7329e503ab394099983afbf6e55cd21f",
      "0253f9be38cb4435b7a0a3da36085491",
      "18ad208a3d2348458b7f024bf7bf36cc",
      "f2ec810019f04021a29e45f6e853c900",
      "4f6fa4d35fb4448591175b3a2ae1b512",
      "38722c9d7cfc4de1b158a2bbd3db5172"
     ]
    },
    "colab_type": "code",
    "id": "_6P_HI9CDUIV",
    "outputId": "c6522647-6405-48c9-86a3-df8e7e8d7c05"
   },
   "outputs": [
    {
     "data": {
      "application/vnd.jupyter.widget-view+json": {
       "model_id": "82ea0f0656c94b49aea5e19e0fcfb2b3",
       "version_major": 2,
       "version_minor": 0
      },
      "text/plain": [
       "HBox(children=(FloatProgress(value=0.0, max=1423.0), HTML(value='')))"
      ]
     },
     "metadata": {
      "tags": []
     },
     "output_type": "display_data"
    },
    {
     "name": "stdout",
     "output_type": "stream",
     "text": [
      "\n"
     ]
    }
   ],
   "source": [
    "use_embeddings = np.zeros((len(final_train), 512))\n",
    "batch_size = 128\n",
    "for i in tqdm(range(int(len(final_train)/batch_size)+1)):\n",
    "  use_embeddings[i*batch_size : (i+1)*batch_size] = use_model(final_train[i*batch_size : (i+1)*batch_size]).numpy()"
   ]
  },
  {
   "cell_type": "code",
   "execution_count": null,
   "metadata": {
    "colab": {},
    "colab_type": "code",
    "id": "4152OLjK_j6C"
   },
   "outputs": [],
   "source": [
    "np.save('/content/drive/My Drive/AAIC Course/Personal case study - StackOverflow/use_embeddings.npy', use_embeddings)"
   ]
  }
 ],
 "metadata": {
  "accelerator": "GPU",
  "colab": {
   "collapsed_sections": [],
   "name": "5.2. USE.ipynb",
   "provenance": []
  },
  "kernelspec": {
   "display_name": "Python 3",
   "language": "python",
   "name": "python3"
  },
  "language_info": {
   "codemirror_mode": {
    "name": "ipython",
    "version": 3
   },
   "file_extension": ".py",
   "mimetype": "text/x-python",
   "name": "python",
   "nbconvert_exporter": "python",
   "pygments_lexer": "ipython3",
   "version": "3.7.3"
  },
  "widgets": {
   "application/vnd.jupyter.widget-state+json": {
    "0253f9be38cb4435b7a0a3da36085491": {
     "model_module": "@jupyter-widgets/controls",
     "model_name": "HTMLModel",
     "state": {
      "_dom_classes": [],
      "_model_module": "@jupyter-widgets/controls",
      "_model_module_version": "1.5.0",
      "_model_name": "HTMLModel",
      "_view_count": null,
      "_view_module": "@jupyter-widgets/controls",
      "_view_module_version": "1.5.0",
      "_view_name": "HTMLView",
      "description": "",
      "description_tooltip": null,
      "layout": "IPY_MODEL_38722c9d7cfc4de1b158a2bbd3db5172",
      "placeholder": "​",
      "style": "IPY_MODEL_4f6fa4d35fb4448591175b3a2ae1b512",
      "value": " 1423/1423 [01:13&lt;00:00, 19.36it/s]"
     }
    },
    "18ad208a3d2348458b7f024bf7bf36cc": {
     "model_module": "@jupyter-widgets/controls",
     "model_name": "ProgressStyleModel",
     "state": {
      "_model_module": "@jupyter-widgets/controls",
      "_model_module_version": "1.5.0",
      "_model_name": "ProgressStyleModel",
      "_view_count": null,
      "_view_module": "@jupyter-widgets/base",
      "_view_module_version": "1.2.0",
      "_view_name": "StyleView",
      "bar_color": null,
      "description_width": "initial"
     }
    },
    "38722c9d7cfc4de1b158a2bbd3db5172": {
     "model_module": "@jupyter-widgets/base",
     "model_name": "LayoutModel",
     "state": {
      "_model_module": "@jupyter-widgets/base",
      "_model_module_version": "1.2.0",
      "_model_name": "LayoutModel",
      "_view_count": null,
      "_view_module": "@jupyter-widgets/base",
      "_view_module_version": "1.2.0",
      "_view_name": "LayoutView",
      "align_content": null,
      "align_items": null,
      "align_self": null,
      "border": null,
      "bottom": null,
      "display": null,
      "flex": null,
      "flex_flow": null,
      "grid_area": null,
      "grid_auto_columns": null,
      "grid_auto_flow": null,
      "grid_auto_rows": null,
      "grid_column": null,
      "grid_gap": null,
      "grid_row": null,
      "grid_template_areas": null,
      "grid_template_columns": null,
      "grid_template_rows": null,
      "height": null,
      "justify_content": null,
      "justify_items": null,
      "left": null,
      "margin": null,
      "max_height": null,
      "max_width": null,
      "min_height": null,
      "min_width": null,
      "object_fit": null,
      "object_position": null,
      "order": null,
      "overflow": null,
      "overflow_x": null,
      "overflow_y": null,
      "padding": null,
      "right": null,
      "top": null,
      "visibility": null,
      "width": null
     }
    },
    "4f6fa4d35fb4448591175b3a2ae1b512": {
     "model_module": "@jupyter-widgets/controls",
     "model_name": "DescriptionStyleModel",
     "state": {
      "_model_module": "@jupyter-widgets/controls",
      "_model_module_version": "1.5.0",
      "_model_name": "DescriptionStyleModel",
      "_view_count": null,
      "_view_module": "@jupyter-widgets/base",
      "_view_module_version": "1.2.0",
      "_view_name": "StyleView",
      "description_width": ""
     }
    },
    "7329e503ab394099983afbf6e55cd21f": {
     "model_module": "@jupyter-widgets/controls",
     "model_name": "FloatProgressModel",
     "state": {
      "_dom_classes": [],
      "_model_module": "@jupyter-widgets/controls",
      "_model_module_version": "1.5.0",
      "_model_name": "FloatProgressModel",
      "_view_count": null,
      "_view_module": "@jupyter-widgets/controls",
      "_view_module_version": "1.5.0",
      "_view_name": "ProgressView",
      "bar_style": "success",
      "description": "100%",
      "description_tooltip": null,
      "layout": "IPY_MODEL_f2ec810019f04021a29e45f6e853c900",
      "max": 1423,
      "min": 0,
      "orientation": "horizontal",
      "style": "IPY_MODEL_18ad208a3d2348458b7f024bf7bf36cc",
      "value": 1423
     }
    },
    "82ea0f0656c94b49aea5e19e0fcfb2b3": {
     "model_module": "@jupyter-widgets/controls",
     "model_name": "HBoxModel",
     "state": {
      "_dom_classes": [],
      "_model_module": "@jupyter-widgets/controls",
      "_model_module_version": "1.5.0",
      "_model_name": "HBoxModel",
      "_view_count": null,
      "_view_module": "@jupyter-widgets/controls",
      "_view_module_version": "1.5.0",
      "_view_name": "HBoxView",
      "box_style": "",
      "children": [
       "IPY_MODEL_7329e503ab394099983afbf6e55cd21f",
       "IPY_MODEL_0253f9be38cb4435b7a0a3da36085491"
      ],
      "layout": "IPY_MODEL_db486455f8eb47a0859ef2c9e834fbfe"
     }
    },
    "db486455f8eb47a0859ef2c9e834fbfe": {
     "model_module": "@jupyter-widgets/base",
     "model_name": "LayoutModel",
     "state": {
      "_model_module": "@jupyter-widgets/base",
      "_model_module_version": "1.2.0",
      "_model_name": "LayoutModel",
      "_view_count": null,
      "_view_module": "@jupyter-widgets/base",
      "_view_module_version": "1.2.0",
      "_view_name": "LayoutView",
      "align_content": null,
      "align_items": null,
      "align_self": null,
      "border": null,
      "bottom": null,
      "display": null,
      "flex": null,
      "flex_flow": null,
      "grid_area": null,
      "grid_auto_columns": null,
      "grid_auto_flow": null,
      "grid_auto_rows": null,
      "grid_column": null,
      "grid_gap": null,
      "grid_row": null,
      "grid_template_areas": null,
      "grid_template_columns": null,
      "grid_template_rows": null,
      "height": null,
      "justify_content": null,
      "justify_items": null,
      "left": null,
      "margin": null,
      "max_height": null,
      "max_width": null,
      "min_height": null,
      "min_width": null,
      "object_fit": null,
      "object_position": null,
      "order": null,
      "overflow": null,
      "overflow_x": null,
      "overflow_y": null,
      "padding": null,
      "right": null,
      "top": null,
      "visibility": null,
      "width": null
     }
    },
    "f2ec810019f04021a29e45f6e853c900": {
     "model_module": "@jupyter-widgets/base",
     "model_name": "LayoutModel",
     "state": {
      "_model_module": "@jupyter-widgets/base",
      "_model_module_version": "1.2.0",
      "_model_name": "LayoutModel",
      "_view_count": null,
      "_view_module": "@jupyter-widgets/base",
      "_view_module_version": "1.2.0",
      "_view_name": "LayoutView",
      "align_content": null,
      "align_items": null,
      "align_self": null,
      "border": null,
      "bottom": null,
      "display": null,
      "flex": null,
      "flex_flow": null,
      "grid_area": null,
      "grid_auto_columns": null,
      "grid_auto_flow": null,
      "grid_auto_rows": null,
      "grid_column": null,
      "grid_gap": null,
      "grid_row": null,
      "grid_template_areas": null,
      "grid_template_columns": null,
      "grid_template_rows": null,
      "height": null,
      "justify_content": null,
      "justify_items": null,
      "left": null,
      "margin": null,
      "max_height": null,
      "max_width": null,
      "min_height": null,
      "min_width": null,
      "object_fit": null,
      "object_position": null,
      "order": null,
      "overflow": null,
      "overflow_x": null,
      "overflow_y": null,
      "padding": null,
      "right": null,
      "top": null,
      "visibility": null,
      "width": null
     }
    }
   }
  }
 },
 "nbformat": 4,
 "nbformat_minor": 1
}
